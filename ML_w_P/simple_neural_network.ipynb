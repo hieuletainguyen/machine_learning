{
  "nbformat": 4,
  "nbformat_minor": 0,
  "metadata": {
    "colab": {
      "provenance": []
    },
    "kernelspec": {
      "name": "python3",
      "display_name": "Python 3"
    },
    "language_info": {
      "name": "python"
    }
  },
  "cells": [
    {
      "cell_type": "code",
      "execution_count": null,
      "metadata": {
        "id": "xxZUvPoHbHWp"
      },
      "outputs": [],
      "source": [
        "import pandas as pd\n",
        "\n",
        "dataset = pd.read_csv('cancer.csv')\n"
      ]
    },
    {
      "cell_type": "code",
      "source": [
        "x = dataset.drop(columns=[\"diagnosis(1=m, 0=b)\"])"
      ],
      "metadata": {
        "id": "7m9zIWDCb8jM"
      },
      "execution_count": null,
      "outputs": []
    },
    {
      "cell_type": "code",
      "source": [
        "y = dataset[\"diagnosis(1=m, 0=b)\"]"
      ],
      "metadata": {
        "id": "P9gLQzkKcOQE"
      },
      "execution_count": null,
      "outputs": []
    },
    {
      "cell_type": "code",
      "source": [
        "from sklearn.model_selection import train_test_split\n",
        "\n",
        "x_train, x_test, y_train, y_test = train_test_split(x, y, test_size=0.2)\n"
      ],
      "metadata": {
        "id": "LpFFsXSCcZP-"
      },
      "execution_count": null,
      "outputs": []
    },
    {
      "cell_type": "code",
      "source": [
        "import tensorflow as tf\n",
        "\n",
        "model = tf.keras.models.Sequential(tf.keras.layers.Dense(1))"
      ],
      "metadata": {
        "id": "zAfMrTPwc28q"
      },
      "execution_count": null,
      "outputs": []
    },
    {
      "cell_type": "code",
      "source": [
        "model.add(tf.keras.layers.Dense(256, input_shape = x_train.shape, activation='sigmoid'))\n",
        "model.add(tf.keras.layers.Dense(256, activation='sigmoid'))\n",
        "model.add(tf.keras.layers.Dense(1, activation='sigmoid'))"
      ],
      "metadata": {
        "id": "caV3C4xfdChS"
      },
      "execution_count": null,
      "outputs": []
    },
    {
      "cell_type": "code",
      "source": [
        "model.compile(optimizer='adam', loss='binary_crossentropy', metrics=['accuracy'])"
      ],
      "metadata": {
        "id": "1Rk86NAYdwhs"
      },
      "execution_count": null,
      "outputs": []
    },
    {
      "cell_type": "code",
      "source": [
        "model.fit(x_train, y_train, epochs=100)"
      ],
      "metadata": {
        "colab": {
          "base_uri": "https://localhost:8080/"
        },
        "id": "Y2F9ia1XeYBw",
        "outputId": "17183113-09c5-47cf-ee02-7e853b8043a8"
      },
      "execution_count": null,
      "outputs": [
        {
          "output_type": "stream",
          "name": "stdout",
          "text": [
            "Epoch 1/100\n",
            "15/15 [==============================] - 1s 3ms/step - loss: 0.6698 - accuracy: 0.5868\n",
            "Epoch 2/100\n",
            "15/15 [==============================] - 0s 3ms/step - loss: 0.6070 - accuracy: 0.6835\n",
            "Epoch 3/100\n",
            "15/15 [==============================] - 0s 3ms/step - loss: 0.5509 - accuracy: 0.7670\n",
            "Epoch 4/100\n",
            "15/15 [==============================] - 0s 5ms/step - loss: 0.5161 - accuracy: 0.7692\n",
            "Epoch 5/100\n",
            "15/15 [==============================] - 0s 3ms/step - loss: 0.4520 - accuracy: 0.8242\n",
            "Epoch 6/100\n",
            "15/15 [==============================] - 0s 5ms/step - loss: 0.4371 - accuracy: 0.8022\n",
            "Epoch 7/100\n",
            "15/15 [==============================] - 0s 3ms/step - loss: 0.3885 - accuracy: 0.8352\n",
            "Epoch 8/100\n",
            "15/15 [==============================] - 0s 3ms/step - loss: 0.3698 - accuracy: 0.8440\n",
            "Epoch 9/100\n",
            "15/15 [==============================] - 0s 3ms/step - loss: 0.3495 - accuracy: 0.8462\n",
            "Epoch 10/100\n",
            "15/15 [==============================] - 0s 4ms/step - loss: 0.3397 - accuracy: 0.8462\n",
            "Epoch 11/100\n",
            "15/15 [==============================] - 0s 3ms/step - loss: 0.3780 - accuracy: 0.8484\n",
            "Epoch 12/100\n",
            "15/15 [==============================] - 0s 4ms/step - loss: 0.4065 - accuracy: 0.8198\n",
            "Epoch 13/100\n",
            "15/15 [==============================] - 0s 3ms/step - loss: 0.3298 - accuracy: 0.8615\n",
            "Epoch 14/100\n",
            "15/15 [==============================] - 0s 3ms/step - loss: 0.3472 - accuracy: 0.8593\n",
            "Epoch 15/100\n",
            "15/15 [==============================] - 0s 4ms/step - loss: 0.3302 - accuracy: 0.8725\n",
            "Epoch 16/100\n",
            "15/15 [==============================] - 0s 3ms/step - loss: 0.3185 - accuracy: 0.8747\n",
            "Epoch 17/100\n",
            "15/15 [==============================] - 0s 3ms/step - loss: 0.3270 - accuracy: 0.8505\n",
            "Epoch 18/100\n",
            "15/15 [==============================] - 0s 3ms/step - loss: 0.3234 - accuracy: 0.8615\n",
            "Epoch 19/100\n",
            "15/15 [==============================] - 0s 3ms/step - loss: 0.3339 - accuracy: 0.8484\n",
            "Epoch 20/100\n",
            "15/15 [==============================] - 0s 3ms/step - loss: 0.3066 - accuracy: 0.8637\n",
            "Epoch 21/100\n",
            "15/15 [==============================] - 0s 3ms/step - loss: 0.2996 - accuracy: 0.8505\n",
            "Epoch 22/100\n",
            "15/15 [==============================] - 0s 3ms/step - loss: 0.3014 - accuracy: 0.8769\n",
            "Epoch 23/100\n",
            "15/15 [==============================] - 0s 5ms/step - loss: 0.3162 - accuracy: 0.8593\n",
            "Epoch 24/100\n",
            "15/15 [==============================] - 0s 4ms/step - loss: 0.3058 - accuracy: 0.8703\n",
            "Epoch 25/100\n",
            "15/15 [==============================] - 0s 3ms/step - loss: 0.2947 - accuracy: 0.8791\n",
            "Epoch 26/100\n",
            "15/15 [==============================] - 0s 3ms/step - loss: 0.2855 - accuracy: 0.8681\n",
            "Epoch 27/100\n",
            "15/15 [==============================] - 0s 3ms/step - loss: 0.3600 - accuracy: 0.8593\n",
            "Epoch 28/100\n",
            "15/15 [==============================] - 0s 3ms/step - loss: 0.3188 - accuracy: 0.8681\n",
            "Epoch 29/100\n",
            "15/15 [==============================] - 0s 3ms/step - loss: 0.3036 - accuracy: 0.8637\n",
            "Epoch 30/100\n",
            "15/15 [==============================] - 0s 3ms/step - loss: 0.2824 - accuracy: 0.8703\n",
            "Epoch 31/100\n",
            "15/15 [==============================] - 0s 3ms/step - loss: 0.2768 - accuracy: 0.8813\n",
            "Epoch 32/100\n",
            "15/15 [==============================] - 0s 3ms/step - loss: 0.2794 - accuracy: 0.8725\n",
            "Epoch 33/100\n",
            "15/15 [==============================] - 0s 3ms/step - loss: 0.2747 - accuracy: 0.8813\n",
            "Epoch 34/100\n",
            "15/15 [==============================] - 0s 3ms/step - loss: 0.2937 - accuracy: 0.8703\n",
            "Epoch 35/100\n",
            "15/15 [==============================] - 0s 3ms/step - loss: 0.2719 - accuracy: 0.8923\n",
            "Epoch 36/100\n",
            "15/15 [==============================] - 0s 3ms/step - loss: 0.2913 - accuracy: 0.8703\n",
            "Epoch 37/100\n",
            "15/15 [==============================] - 0s 3ms/step - loss: 0.2666 - accuracy: 0.8879\n",
            "Epoch 38/100\n",
            "15/15 [==============================] - 0s 3ms/step - loss: 0.2788 - accuracy: 0.8769\n",
            "Epoch 39/100\n",
            "15/15 [==============================] - 0s 3ms/step - loss: 0.2701 - accuracy: 0.8945\n",
            "Epoch 40/100\n",
            "15/15 [==============================] - 0s 3ms/step - loss: 0.2824 - accuracy: 0.8703\n",
            "Epoch 41/100\n",
            "15/15 [==============================] - 0s 4ms/step - loss: 0.2763 - accuracy: 0.8791\n",
            "Epoch 42/100\n",
            "15/15 [==============================] - 0s 3ms/step - loss: 0.2896 - accuracy: 0.8769\n",
            "Epoch 43/100\n",
            "15/15 [==============================] - 0s 5ms/step - loss: 0.2667 - accuracy: 0.8857\n",
            "Epoch 44/100\n",
            "15/15 [==============================] - 0s 3ms/step - loss: 0.2717 - accuracy: 0.8725\n",
            "Epoch 45/100\n",
            "15/15 [==============================] - 0s 4ms/step - loss: 0.2662 - accuracy: 0.8769\n",
            "Epoch 46/100\n",
            "15/15 [==============================] - 0s 3ms/step - loss: 0.2659 - accuracy: 0.8769\n",
            "Epoch 47/100\n",
            "15/15 [==============================] - 0s 3ms/step - loss: 0.3069 - accuracy: 0.8681\n",
            "Epoch 48/100\n",
            "15/15 [==============================] - 0s 3ms/step - loss: 0.3193 - accuracy: 0.8615\n",
            "Epoch 49/100\n",
            "15/15 [==============================] - 0s 3ms/step - loss: 0.2735 - accuracy: 0.8769\n",
            "Epoch 50/100\n",
            "15/15 [==============================] - 0s 3ms/step - loss: 0.2673 - accuracy: 0.8791\n",
            "Epoch 51/100\n",
            "15/15 [==============================] - 0s 3ms/step - loss: 0.2672 - accuracy: 0.8769\n",
            "Epoch 52/100\n",
            "15/15 [==============================] - 0s 3ms/step - loss: 0.2610 - accuracy: 0.8791\n",
            "Epoch 53/100\n",
            "15/15 [==============================] - 0s 3ms/step - loss: 0.2659 - accuracy: 0.8813\n",
            "Epoch 54/100\n",
            "15/15 [==============================] - 0s 3ms/step - loss: 0.2616 - accuracy: 0.8901\n",
            "Epoch 55/100\n",
            "15/15 [==============================] - 0s 3ms/step - loss: 0.2607 - accuracy: 0.8791\n",
            "Epoch 56/100\n",
            "15/15 [==============================] - 0s 3ms/step - loss: 0.2547 - accuracy: 0.8813\n",
            "Epoch 57/100\n",
            "15/15 [==============================] - 0s 3ms/step - loss: 0.2588 - accuracy: 0.8769\n",
            "Epoch 58/100\n",
            "15/15 [==============================] - 0s 4ms/step - loss: 0.2521 - accuracy: 0.8945\n",
            "Epoch 59/100\n",
            "15/15 [==============================] - 0s 3ms/step - loss: 0.2872 - accuracy: 0.8769\n",
            "Epoch 60/100\n",
            "15/15 [==============================] - 0s 3ms/step - loss: 0.2537 - accuracy: 0.8923\n",
            "Epoch 61/100\n",
            "15/15 [==============================] - 0s 4ms/step - loss: 0.2554 - accuracy: 0.8725\n",
            "Epoch 62/100\n",
            "15/15 [==============================] - 0s 3ms/step - loss: 0.2597 - accuracy: 0.8835\n",
            "Epoch 63/100\n",
            "15/15 [==============================] - 0s 3ms/step - loss: 0.2504 - accuracy: 0.8725\n",
            "Epoch 64/100\n",
            "15/15 [==============================] - 0s 3ms/step - loss: 0.2515 - accuracy: 0.8813\n",
            "Epoch 65/100\n",
            "15/15 [==============================] - 0s 3ms/step - loss: 0.2533 - accuracy: 0.8769\n",
            "Epoch 66/100\n",
            "15/15 [==============================] - 0s 3ms/step - loss: 0.2494 - accuracy: 0.8857\n",
            "Epoch 67/100\n",
            "15/15 [==============================] - 0s 3ms/step - loss: 0.2645 - accuracy: 0.8857\n",
            "Epoch 68/100\n",
            "15/15 [==============================] - 0s 3ms/step - loss: 0.2485 - accuracy: 0.8813\n",
            "Epoch 69/100\n",
            "15/15 [==============================] - 0s 3ms/step - loss: 0.2617 - accuracy: 0.9011\n",
            "Epoch 70/100\n",
            "15/15 [==============================] - 0s 3ms/step - loss: 0.2874 - accuracy: 0.8769\n",
            "Epoch 71/100\n",
            "15/15 [==============================] - 0s 3ms/step - loss: 0.2600 - accuracy: 0.8835\n",
            "Epoch 72/100\n",
            "15/15 [==============================] - 0s 3ms/step - loss: 0.2578 - accuracy: 0.8879\n",
            "Epoch 73/100\n",
            "15/15 [==============================] - 0s 3ms/step - loss: 0.2409 - accuracy: 0.8879\n",
            "Epoch 74/100\n",
            "15/15 [==============================] - 0s 3ms/step - loss: 0.2413 - accuracy: 0.8945\n",
            "Epoch 75/100\n",
            "15/15 [==============================] - 0s 5ms/step - loss: 0.2676 - accuracy: 0.8857\n",
            "Epoch 76/100\n",
            "15/15 [==============================] - 0s 3ms/step - loss: 0.2725 - accuracy: 0.8813\n",
            "Epoch 77/100\n",
            "15/15 [==============================] - 0s 3ms/step - loss: 0.2462 - accuracy: 0.8901\n",
            "Epoch 78/100\n",
            "15/15 [==============================] - 0s 3ms/step - loss: 0.2427 - accuracy: 0.8813\n",
            "Epoch 79/100\n",
            "15/15 [==============================] - 0s 3ms/step - loss: 0.2460 - accuracy: 0.8835\n",
            "Epoch 80/100\n",
            "15/15 [==============================] - 0s 4ms/step - loss: 0.2558 - accuracy: 0.8989\n",
            "Epoch 81/100\n",
            "15/15 [==============================] - 0s 3ms/step - loss: 0.2601 - accuracy: 0.8835\n",
            "Epoch 82/100\n",
            "15/15 [==============================] - 0s 3ms/step - loss: 0.2336 - accuracy: 0.8813\n",
            "Epoch 83/100\n",
            "15/15 [==============================] - 0s 3ms/step - loss: 0.2657 - accuracy: 0.8879\n",
            "Epoch 84/100\n",
            "15/15 [==============================] - 0s 3ms/step - loss: 0.2528 - accuracy: 0.8791\n",
            "Epoch 85/100\n",
            "15/15 [==============================] - 0s 3ms/step - loss: 0.2360 - accuracy: 0.8857\n",
            "Epoch 86/100\n",
            "15/15 [==============================] - 0s 3ms/step - loss: 0.2408 - accuracy: 0.8989\n",
            "Epoch 87/100\n",
            "15/15 [==============================] - 0s 3ms/step - loss: 0.2315 - accuracy: 0.8945\n",
            "Epoch 88/100\n",
            "15/15 [==============================] - 0s 3ms/step - loss: 0.2363 - accuracy: 0.8879\n",
            "Epoch 89/100\n",
            "15/15 [==============================] - 0s 3ms/step - loss: 0.2345 - accuracy: 0.8769\n",
            "Epoch 90/100\n",
            "15/15 [==============================] - 0s 3ms/step - loss: 0.2330 - accuracy: 0.8989\n",
            "Epoch 91/100\n",
            "15/15 [==============================] - 0s 3ms/step - loss: 0.2329 - accuracy: 0.8967\n",
            "Epoch 92/100\n",
            "15/15 [==============================] - 0s 3ms/step - loss: 0.2355 - accuracy: 0.8923\n",
            "Epoch 93/100\n",
            "15/15 [==============================] - 0s 3ms/step - loss: 0.2441 - accuracy: 0.8945\n",
            "Epoch 94/100\n",
            "15/15 [==============================] - 0s 3ms/step - loss: 0.2278 - accuracy: 0.8857\n",
            "Epoch 95/100\n",
            "15/15 [==============================] - 0s 3ms/step - loss: 0.2345 - accuracy: 0.9033\n",
            "Epoch 96/100\n",
            "15/15 [==============================] - 0s 3ms/step - loss: 0.2245 - accuracy: 0.9077\n",
            "Epoch 97/100\n",
            "15/15 [==============================] - 0s 3ms/step - loss: 0.2429 - accuracy: 0.8901\n",
            "Epoch 98/100\n",
            "15/15 [==============================] - 0s 3ms/step - loss: 0.2379 - accuracy: 0.8967\n",
            "Epoch 99/100\n",
            "15/15 [==============================] - 0s 3ms/step - loss: 0.2342 - accuracy: 0.8901\n",
            "Epoch 100/100\n",
            "15/15 [==============================] - 0s 3ms/step - loss: 0.2208 - accuracy: 0.8945\n"
          ]
        },
        {
          "output_type": "execute_result",
          "data": {
            "text/plain": [
              "<keras.callbacks.History at 0x7f6fe62b4190>"
            ]
          },
          "metadata": {},
          "execution_count": 47
        }
      ]
    },
    {
      "cell_type": "code",
      "source": [
        "model.evaluate(x_test, y_test)"
      ],
      "metadata": {
        "colab": {
          "base_uri": "https://localhost:8080/"
        },
        "id": "K1bux82Se8XP",
        "outputId": "f648a02c-a3f9-4d23-f41c-b8cb2586d271"
      },
      "execution_count": null,
      "outputs": [
        {
          "output_type": "stream",
          "name": "stdout",
          "text": [
            "4/4 [==============================] - 1s 7ms/step - loss: 0.3002 - accuracy: 0.8596\n"
          ]
        },
        {
          "output_type": "execute_result",
          "data": {
            "text/plain": [
              "[0.30022311210632324, 0.859649121761322]"
            ]
          },
          "metadata": {},
          "execution_count": 48
        }
      ]
    },
    {
      "cell_type": "code",
      "source": [],
      "metadata": {
        "id": "UYBRiXeEg0HT"
      },
      "execution_count": null,
      "outputs": []
    }
  ]
}