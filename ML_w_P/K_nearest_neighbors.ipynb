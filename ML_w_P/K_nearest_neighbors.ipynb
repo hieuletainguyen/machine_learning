{
  "nbformat": 4,
  "nbformat_minor": 0,
  "metadata": {
    "colab": {
      "provenance": []
    },
    "kernelspec": {
      "name": "python3",
      "display_name": "Python 3"
    },
    "language_info": {
      "name": "python"
    }
  },
  "cells": [
    {
      "cell_type": "code",
      "source": [
        "!pip install matplotlib-venn"
      ],
      "metadata": {
        "colab": {
          "base_uri": "https://localhost:8080/"
        },
        "id": "GqYSIn4POMVa",
        "outputId": "3d534b46-e48e-4cce-f145-da14389573b4"
      },
      "execution_count": null,
      "outputs": [
        {
          "output_type": "stream",
          "name": "stdout",
          "text": [
            "Looking in indexes: https://pypi.org/simple, https://us-python.pkg.dev/colab-wheels/public/simple/\n",
            "Requirement already satisfied: matplotlib-venn in /usr/local/lib/python3.7/dist-packages (0.11.7)\n",
            "Requirement already satisfied: numpy in /usr/local/lib/python3.7/dist-packages (from matplotlib-venn) (1.21.6)\n",
            "Requirement already satisfied: scipy in /usr/local/lib/python3.7/dist-packages (from matplotlib-venn) (1.7.3)\n",
            "Requirement already satisfied: matplotlib in /usr/local/lib/python3.7/dist-packages (from matplotlib-venn) (3.2.2)\n",
            "Requirement already satisfied: cycler>=0.10 in /usr/local/lib/python3.7/dist-packages (from matplotlib->matplotlib-venn) (0.11.0)\n",
            "Requirement already satisfied: pyparsing!=2.0.4,!=2.1.2,!=2.1.6,>=2.0.1 in /usr/local/lib/python3.7/dist-packages (from matplotlib->matplotlib-venn) (3.0.9)\n",
            "Requirement already satisfied: kiwisolver>=1.0.1 in /usr/local/lib/python3.7/dist-packages (from matplotlib->matplotlib-venn) (1.4.4)\n",
            "Requirement already satisfied: python-dateutil>=2.1 in /usr/local/lib/python3.7/dist-packages (from matplotlib->matplotlib-venn) (2.8.2)\n",
            "Requirement already satisfied: typing-extensions in /usr/local/lib/python3.7/dist-packages (from kiwisolver>=1.0.1->matplotlib->matplotlib-venn) (4.1.1)\n",
            "Requirement already satisfied: six>=1.5 in /usr/local/lib/python3.7/dist-packages (from python-dateutil>=2.1->matplotlib->matplotlib-venn) (1.15.0)\n"
          ]
        }
      ]
    },
    {
      "cell_type": "code",
      "source": [
        "import numpy as np\n"
      ],
      "metadata": {
        "id": "biZgrJhCPCwJ"
      },
      "execution_count": null,
      "outputs": []
    },
    {
      "cell_type": "code",
      "source": [
        "import matplotlib.pyplot as plt\n",
        "import pandas as pd\n",
        "from sklearn import preprocessing\n"
      ],
      "metadata": {
        "id": "Ocp9CGORPOFQ"
      },
      "execution_count": null,
      "outputs": []
    },
    {
      "cell_type": "code",
      "source": [
        "df = pd.read_csv('fun.csv')\n",
        "df.head()\n"
      ],
      "metadata": {
        "colab": {
          "base_uri": "https://localhost:8080/",
          "height": 206
        },
        "id": "brnMAAafPvC0",
        "outputId": "30956213-19ea-4889-8c42-1ccd36400e87"
      },
      "execution_count": null,
      "outputs": [
        {
          "output_type": "execute_result",
          "data": {
            "text/plain": [
              "         DATE   1   2   3   4   5   6   7   8\n",
              "0  2022-08-09  16  19  25  26  27  33  45  38\n",
              "1  2022-08-05   7  16  19  33  36  48  49   5\n",
              "2  2022-08-02   4   5  15  18  22  28  32  19\n",
              "3  2022-07-29   7  14  17  18  19  23  41  16\n",
              "4  2022-07-26   3   8   9  15  21  27  31  33"
            ],
            "text/html": [
              "\n",
              "  <div id=\"df-2acb9da0-17b6-4cbd-b2d1-d651e1930aad\">\n",
              "    <div class=\"colab-df-container\">\n",
              "      <div>\n",
              "<style scoped>\n",
              "    .dataframe tbody tr th:only-of-type {\n",
              "        vertical-align: middle;\n",
              "    }\n",
              "\n",
              "    .dataframe tbody tr th {\n",
              "        vertical-align: top;\n",
              "    }\n",
              "\n",
              "    .dataframe thead th {\n",
              "        text-align: right;\n",
              "    }\n",
              "</style>\n",
              "<table border=\"1\" class=\"dataframe\">\n",
              "  <thead>\n",
              "    <tr style=\"text-align: right;\">\n",
              "      <th></th>\n",
              "      <th>DATE</th>\n",
              "      <th>1</th>\n",
              "      <th>2</th>\n",
              "      <th>3</th>\n",
              "      <th>4</th>\n",
              "      <th>5</th>\n",
              "      <th>6</th>\n",
              "      <th>7</th>\n",
              "      <th>8</th>\n",
              "    </tr>\n",
              "  </thead>\n",
              "  <tbody>\n",
              "    <tr>\n",
              "      <th>0</th>\n",
              "      <td>2022-08-09</td>\n",
              "      <td>16</td>\n",
              "      <td>19</td>\n",
              "      <td>25</td>\n",
              "      <td>26</td>\n",
              "      <td>27</td>\n",
              "      <td>33</td>\n",
              "      <td>45</td>\n",
              "      <td>38</td>\n",
              "    </tr>\n",
              "    <tr>\n",
              "      <th>1</th>\n",
              "      <td>2022-08-05</td>\n",
              "      <td>7</td>\n",
              "      <td>16</td>\n",
              "      <td>19</td>\n",
              "      <td>33</td>\n",
              "      <td>36</td>\n",
              "      <td>48</td>\n",
              "      <td>49</td>\n",
              "      <td>5</td>\n",
              "    </tr>\n",
              "    <tr>\n",
              "      <th>2</th>\n",
              "      <td>2022-08-02</td>\n",
              "      <td>4</td>\n",
              "      <td>5</td>\n",
              "      <td>15</td>\n",
              "      <td>18</td>\n",
              "      <td>22</td>\n",
              "      <td>28</td>\n",
              "      <td>32</td>\n",
              "      <td>19</td>\n",
              "    </tr>\n",
              "    <tr>\n",
              "      <th>3</th>\n",
              "      <td>2022-07-29</td>\n",
              "      <td>7</td>\n",
              "      <td>14</td>\n",
              "      <td>17</td>\n",
              "      <td>18</td>\n",
              "      <td>19</td>\n",
              "      <td>23</td>\n",
              "      <td>41</td>\n",
              "      <td>16</td>\n",
              "    </tr>\n",
              "    <tr>\n",
              "      <th>4</th>\n",
              "      <td>2022-07-26</td>\n",
              "      <td>3</td>\n",
              "      <td>8</td>\n",
              "      <td>9</td>\n",
              "      <td>15</td>\n",
              "      <td>21</td>\n",
              "      <td>27</td>\n",
              "      <td>31</td>\n",
              "      <td>33</td>\n",
              "    </tr>\n",
              "  </tbody>\n",
              "</table>\n",
              "</div>\n",
              "      <button class=\"colab-df-convert\" onclick=\"convertToInteractive('df-2acb9da0-17b6-4cbd-b2d1-d651e1930aad')\"\n",
              "              title=\"Convert this dataframe to an interactive table.\"\n",
              "              style=\"display:none;\">\n",
              "        \n",
              "  <svg xmlns=\"http://www.w3.org/2000/svg\" height=\"24px\"viewBox=\"0 0 24 24\"\n",
              "       width=\"24px\">\n",
              "    <path d=\"M0 0h24v24H0V0z\" fill=\"none\"/>\n",
              "    <path d=\"M18.56 5.44l.94 2.06.94-2.06 2.06-.94-2.06-.94-.94-2.06-.94 2.06-2.06.94zm-11 1L8.5 8.5l.94-2.06 2.06-.94-2.06-.94L8.5 2.5l-.94 2.06-2.06.94zm10 10l.94 2.06.94-2.06 2.06-.94-2.06-.94-.94-2.06-.94 2.06-2.06.94z\"/><path d=\"M17.41 7.96l-1.37-1.37c-.4-.4-.92-.59-1.43-.59-.52 0-1.04.2-1.43.59L10.3 9.45l-7.72 7.72c-.78.78-.78 2.05 0 2.83L4 21.41c.39.39.9.59 1.41.59.51 0 1.02-.2 1.41-.59l7.78-7.78 2.81-2.81c.8-.78.8-2.07 0-2.86zM5.41 20L4 18.59l7.72-7.72 1.47 1.35L5.41 20z\"/>\n",
              "  </svg>\n",
              "      </button>\n",
              "      \n",
              "  <style>\n",
              "    .colab-df-container {\n",
              "      display:flex;\n",
              "      flex-wrap:wrap;\n",
              "      gap: 12px;\n",
              "    }\n",
              "\n",
              "    .colab-df-convert {\n",
              "      background-color: #E8F0FE;\n",
              "      border: none;\n",
              "      border-radius: 50%;\n",
              "      cursor: pointer;\n",
              "      display: none;\n",
              "      fill: #1967D2;\n",
              "      height: 32px;\n",
              "      padding: 0 0 0 0;\n",
              "      width: 32px;\n",
              "    }\n",
              "\n",
              "    .colab-df-convert:hover {\n",
              "      background-color: #E2EBFA;\n",
              "      box-shadow: 0px 1px 2px rgba(60, 64, 67, 0.3), 0px 1px 3px 1px rgba(60, 64, 67, 0.15);\n",
              "      fill: #174EA6;\n",
              "    }\n",
              "\n",
              "    [theme=dark] .colab-df-convert {\n",
              "      background-color: #3B4455;\n",
              "      fill: #D2E3FC;\n",
              "    }\n",
              "\n",
              "    [theme=dark] .colab-df-convert:hover {\n",
              "      background-color: #434B5C;\n",
              "      box-shadow: 0px 1px 3px 1px rgba(0, 0, 0, 0.15);\n",
              "      filter: drop-shadow(0px 1px 2px rgba(0, 0, 0, 0.3));\n",
              "      fill: #FFFFFF;\n",
              "    }\n",
              "  </style>\n",
              "\n",
              "      <script>\n",
              "        const buttonEl =\n",
              "          document.querySelector('#df-2acb9da0-17b6-4cbd-b2d1-d651e1930aad button.colab-df-convert');\n",
              "        buttonEl.style.display =\n",
              "          google.colab.kernel.accessAllowed ? 'block' : 'none';\n",
              "\n",
              "        async function convertToInteractive(key) {\n",
              "          const element = document.querySelector('#df-2acb9da0-17b6-4cbd-b2d1-d651e1930aad');\n",
              "          const dataTable =\n",
              "            await google.colab.kernel.invokeFunction('convertToInteractive',\n",
              "                                                     [key], {});\n",
              "          if (!dataTable) return;\n",
              "\n",
              "          const docLinkHtml = 'Like what you see? Visit the ' +\n",
              "            '<a target=\"_blank\" href=https://colab.research.google.com/notebooks/data_table.ipynb>data table notebook</a>'\n",
              "            + ' to learn more about interactive tables.';\n",
              "          element.innerHTML = '';\n",
              "          dataTable['output_type'] = 'display_data';\n",
              "          await google.colab.output.renderOutput(dataTable, element);\n",
              "          const docLink = document.createElement('div');\n",
              "          docLink.innerHTML = docLinkHtml;\n",
              "          element.appendChild(docLink);\n",
              "        }\n",
              "      </script>\n",
              "    </div>\n",
              "  </div>\n",
              "  "
            ]
          },
          "metadata": {},
          "execution_count": 35
        }
      ]
    },
    {
      "cell_type": "code",
      "source": [
        "df['1'].value_counts()"
      ],
      "metadata": {
        "colab": {
          "base_uri": "https://localhost:8080/"
        },
        "id": "qdRxna2-Q5AR",
        "outputId": "c92216bd-0a90-4f87-d885-c3e72b8e1d4c"
      },
      "execution_count": null,
      "outputs": [
        {
          "output_type": "execute_result",
          "data": {
            "text/plain": [
              "3     9\n",
              "1     8\n",
              "2     8\n",
              "7     6\n",
              "6     5\n",
              "5     5\n",
              "4     4\n",
              "8     4\n",
              "10    3\n",
              "16    2\n",
              "12    2\n",
              "11    2\n",
              "14    2\n",
              "13    1\n",
              "19    1\n",
              "9     1\n",
              "Name: 1, dtype: int64"
            ]
          },
          "metadata": {},
          "execution_count": 36
        }
      ]
    },
    {
      "cell_type": "code",
      "source": [
        "df['2'].value_counts()"
      ],
      "metadata": {
        "colab": {
          "base_uri": "https://localhost:8080/"
        },
        "id": "9RVU3U1_RVU5",
        "outputId": "6eff0e8b-7807-45fc-a095-74209b13118f"
      },
      "execution_count": null,
      "outputs": [
        {
          "output_type": "execute_result",
          "data": {
            "text/plain": [
              "7     6\n",
              "14    5\n",
              "9     5\n",
              "6     5\n",
              "10    4\n",
              "13    4\n",
              "4     4\n",
              "5     3\n",
              "15    3\n",
              "11    3\n",
              "16    3\n",
              "26    2\n",
              "19    2\n",
              "17    2\n",
              "29    2\n",
              "12    2\n",
              "8     2\n",
              "3     2\n",
              "35    1\n",
              "22    1\n",
              "2     1\n",
              "24    1\n",
              "Name: 2, dtype: int64"
            ]
          },
          "metadata": {},
          "execution_count": 37
        }
      ]
    },
    {
      "cell_type": "code",
      "source": [
        "df.hist(column='3', bins=50)"
      ],
      "metadata": {
        "colab": {
          "base_uri": "https://localhost:8080/",
          "height": 316
        },
        "id": "T-nABSb2Rhg_",
        "outputId": "c801e724-69ee-42bc-9506-74aa5b136249"
      },
      "execution_count": null,
      "outputs": [
        {
          "output_type": "execute_result",
          "data": {
            "text/plain": [
              "array([[<matplotlib.axes._subplots.AxesSubplot object at 0x7f9a871f6d50>]],\n",
              "      dtype=object)"
            ]
          },
          "metadata": {},
          "execution_count": 38
        },
        {
          "output_type": "display_data",
          "data": {
            "text/plain": [
              "<Figure size 432x288 with 1 Axes>"
            ],
            "image/png": "[encoded data removed]"
          },
          "metadata": {
            "needs_background": "light"
          }
        }
      ]
    },
    {
      "cell_type": "code",
      "source": [
        "df.hist(column='2', bins=70)"
      ],
      "metadata": {
        "colab": {
          "base_uri": "https://localhost:8080/",
          "height": 316
        },
        "id": "cTNuZ2PhRzZP",
        "outputId": "5c169a26-ebc0-46ce-dc7c-8aa9eaf305e5"
      },
      "execution_count": null,
      "outputs": [
        {
          "output_type": "execute_result",
          "data": {
            "text/plain": [
              "array([[<matplotlib.axes._subplots.AxesSubplot object at 0x7f9a870906d0>]],\n",
              "      dtype=object)"
            ]
          },
          "metadata": {},
          "execution_count": 39
        },
        {
          "output_type": "display_data",
          "data": {
            "text/plain": [
              "<Figure size 432x288 with 1 Axes>"
            ],
            "image/png": "[encoded data removed]"
          },
          "metadata": {
            "needs_background": "light"
          }
        }
      ]
    },
    {
      "cell_type": "code",
      "source": [
        "X = df[['1', '2', '3', '4', '5', '6', '7', '8']].values\n",
        "X"
      ],
      "metadata": {
        "colab": {
          "base_uri": "https://localhost:8080/"
        },
        "id": "2LPJijJwSSE-",
        "outputId": "ec03e8e0-b7b0-4a13-b5e8-340c2b1b88ad"
      },
      "execution_count": null,
      "outputs": [
        {
          "output_type": "execute_result",
          "data": {
            "text/plain": [
              "array([[16, 19, 25, 26, 27, 33, 45, 38],\n",
              "       [ 7, 16, 19, 33, 36, 48, 49,  5],\n",
              "       [ 4,  5, 15, 18, 22, 28, 32, 19],\n",
              "       [ 7, 14, 17, 18, 19, 23, 41, 16],\n",
              "       [ 3,  8,  9, 15, 21, 27, 31, 33],\n",
              "       [ 1,  9, 19, 34, 37, 39, 49,  6],\n",
              "       [ 6,  9, 17, 19, 31, 34, 46,  4],\n",
              "       [ 4,  7, 12, 18, 29, 47, 49, 48],\n",
              "       [ 8, 11, 15, 16, 26, 29, 40, 37],\n",
              "       [ 7, 12, 14, 18, 46, 47, 49, 19],\n",
              "       [12, 29, 33, 35, 38, 41, 46, 13],\n",
              "       [ 1, 11, 13, 14, 25, 36, 47, 50],\n",
              "       [ 8, 19, 22, 41, 42, 46, 47, 10],\n",
              "       [ 3,  9, 17, 19, 20, 44, 50, 28],\n",
              "       [ 2,  4,  5, 22, 32, 40, 50, 43],\n",
              "       [ 1, 10, 12, 21, 30, 39, 40, 38],\n",
              "       [11, 17, 18, 25, 36, 41, 50, 34],\n",
              "       [ 8, 14, 16, 17, 19, 22, 24, 23],\n",
              "       [ 6, 13, 17, 20, 28, 36, 44, 31],\n",
              "       [ 2, 16, 17, 21, 38, 43, 45, 42],\n",
              "       [ 6, 13, 23, 27, 35, 44, 50, 37],\n",
              "       [ 4,  9, 21, 22, 27, 31, 34,  5],\n",
              "       [12, 26, 30, 31, 35, 39, 45, 22],\n",
              "       [ 5,  6, 20, 29, 42, 44, 47, 14],\n",
              "       [10, 35, 38, 40, 45, 47, 48, 23],\n",
              "       [ 2, 22, 37, 38, 39, 42, 47, 30],\n",
              "       [ 6, 15, 18, 19, 20, 27, 28, 24],\n",
              "       [ 3,  6, 11, 18, 19, 28, 41, 26],\n",
              "       [ 6, 11, 22, 24, 27, 29, 33, 31],\n",
              "       [ 8,  9, 19, 32, 37, 46, 48, 45],\n",
              "       [ 3, 10, 15, 31, 35, 38, 42, 22],\n",
              "       [13, 14, 23, 30, 34, 36, 42, 33],\n",
              "       [ 1,  6, 10, 27, 42, 45, 50, 43],\n",
              "       [ 1,  6, 18, 21, 30, 32, 37, 35],\n",
              "       [ 3,  5,  7, 19, 32, 34, 50, 25],\n",
              "       [ 1,  2, 14, 15, 21, 26, 29,  4],\n",
              "       [14, 24, 34, 39, 43, 48, 50, 20],\n",
              "       [ 7, 10, 18, 29, 38, 43, 50, 41],\n",
              "       [ 7, 17, 32, 34, 39, 45, 47, 42],\n",
              "       [ 3,  7, 16, 18, 27, 32, 37, 17],\n",
              "       [14, 16, 20, 26, 33, 36, 48,  1],\n",
              "       [ 5,  7, 12, 18, 26, 29, 46, 25],\n",
              "       [ 3,  7, 12, 17, 23, 38, 40, 27],\n",
              "       [ 5,  7, 12, 22, 28, 43, 47,  1],\n",
              "       [10, 12, 13, 18,  5, 26, 37, 39],\n",
              "       [ 2,  4, 14, 18, 24, 46, 47, 23],\n",
              "       [ 5,  6, 28, 36, 40, 46, 50, 27],\n",
              "       [ 2,  4, 17, 28, 35, 44, 46,  5],\n",
              "       [ 3, 13, 26, 27, 28, 36, 45, 50],\n",
              "       [ 2,  3,  8, 11, 12, 37, 49, 36],\n",
              "       [19, 26, 28, 36, 40, 42, 48,  6],\n",
              "       [ 1, 10, 12, 30, 33, 34, 36,  4],\n",
              "       [16, 29, 32, 34, 38, 39, 47, 18],\n",
              "       [ 5, 15, 19, 22, 37, 46, 47,  1],\n",
              "       [ 9, 14, 24, 26, 29, 39, 49, 42],\n",
              "       [ 3,  7,  8, 10, 34, 43, 47, 16],\n",
              "       [11, 13, 18, 20, 23, 30, 40, 37],\n",
              "       [10, 14, 21, 26, 28, 36, 50, 41],\n",
              "       [ 2, 15, 25, 28, 30, 35, 38, 31],\n",
              "       [ 2,  4,  7, 10, 14, 21, 34, 26],\n",
              "       [ 1,  3, 24, 25, 27, 36, 47, 12],\n",
              "       [ 4,  5, 31, 39, 42, 45, 50, 11],\n",
              "       [ 7,  8, 13, 20, 25, 26, 48, 36]])"
            ]
          },
          "metadata": {},
          "execution_count": 40
        }
      ]
    },
    {
      "cell_type": "code",
      "source": [
        "y = df['1'].values\n",
        "y"
      ],
      "metadata": {
        "colab": {
          "base_uri": "https://localhost:8080/"
        },
        "id": "QIAQCpacX2f6",
        "outputId": "64ff7e4b-54fe-4e0b-ac40-77ae937e2356"
      },
      "execution_count": null,
      "outputs": [
        {
          "output_type": "execute_result",
          "data": {
            "text/plain": [
              "array([16,  7,  4,  7,  3,  1,  6,  4,  8,  7, 12,  1,  8,  3,  2,  1, 11,\n",
              "        8,  6,  2,  6,  4, 12,  5, 10,  2,  6,  3,  6,  8,  3, 13,  1,  1,\n",
              "        3,  1, 14,  7,  7,  3, 14,  5,  3,  5, 10,  2,  5,  2,  3,  2, 19,\n",
              "        1, 16,  5,  9,  3, 11, 10,  2,  2,  1,  4,  7])"
            ]
          },
          "metadata": {},
          "execution_count": 41
        }
      ]
    },
    {
      "cell_type": "code",
      "source": [
        "from sklearn.model_selection import train_test_split"
      ],
      "metadata": {
        "id": "RLkQVKB0YMw6"
      },
      "execution_count": null,
      "outputs": []
    },
    {
      "cell_type": "code",
      "source": [
        "X=preprocessing.StandardScaler().fit(X).transform(X.astype(float))\n",
        "X"
      ],
      "metadata": {
        "colab": {
          "base_uri": "https://localhost:8080/"
        },
        "id": "pCXrjB9MYu9-",
        "outputId": "ba700d69-505b-47c7-b798-c77a96de5881"
      },
      "execution_count": null,
      "outputs": [
        {
          "output_type": "execute_result",
          "data": {
            "text/plain": [
              "array([[ 2.33232164,  1.02161445,  0.82051472,  0.19951778, -0.41797905,\n",
              "        -0.59266097,  0.17308396,  0.91963996],\n",
              "       [ 0.24976043,  0.59253638,  0.03131736,  1.09734782,  0.64956203,\n",
              "         1.45885778,  0.79618624, -1.4613457 ],\n",
              "       [-0.44442664, -0.98074987, -0.49481422, -0.82657368, -1.01105742,\n",
              "        -1.27650056, -1.85199842, -0.45123057],\n",
              "       [ 0.24976043,  0.30648433, -0.23174843, -0.82657368, -1.36690445,\n",
              "        -1.96034015, -0.45001831, -0.66768381],\n",
              "       [-0.67582233, -0.5516718 , -1.28401159, -1.21135798, -1.1296731 ,\n",
              "        -1.41326848, -2.00777399,  0.55888456],\n",
              "       [-1.13861372, -0.40864578,  0.03131736,  1.22560925,  0.76817771,\n",
              "         0.22794653,  0.79618624, -1.38919461],\n",
              "       [ 0.01836474, -0.40864578, -0.23174843, -0.69831225,  0.05648365,\n",
              "        -0.45589306,  0.32885953, -1.53349678],\n",
              "       [-0.44442664, -0.69469782, -0.88941291, -0.82657368, -0.1807477 ,\n",
              "         1.32208987,  0.79618624,  1.64115077],\n",
              "       [ 0.48115612, -0.12259373, -0.49481422, -1.08309654, -0.53659472,\n",
              "        -1.13973264, -0.60579388,  0.84748888],\n",
              "       [ 0.24976043,  0.02043229, -0.62634712, -0.82657368,  1.83571878,\n",
              "         1.32208987,  0.79618624, -0.45123057],\n",
              "       [ 1.40673888,  2.45187467,  1.87277788,  1.35387068,  0.88679338,\n",
              "         0.50148236,  0.32885953, -0.88413705],\n",
              "       [-1.13861372, -0.12259373, -0.75788001, -1.33961941, -0.6552104 ,\n",
              "        -0.18235722,  0.4846351 ,  1.78545293],\n",
              "       [ 0.48115612,  1.02161445,  0.42591604,  2.12343928,  1.36125608,\n",
              "         1.18532195,  0.4846351 , -1.10059029],\n",
              "       [-0.67582233, -0.40864578, -0.23174843, -0.69831225, -1.24828877,\n",
              "         0.91178611,  0.9519618 ,  0.19812916],\n",
              "       [-0.90721803, -1.12377589, -1.81014317, -0.31352795,  0.17509933,\n",
              "         0.36471445,  0.9519618 ,  1.28039537],\n",
              "       [-1.13861372, -0.26561976, -0.88941291, -0.44178938, -0.06213202,\n",
              "         0.22794653, -0.60579388,  0.91963996],\n",
              "       [ 1.17534319,  0.7355624 , -0.10021554,  0.07125635,  0.64956203,\n",
              "         0.50148236,  0.9519618 ,  0.63103564],\n",
              "       [ 0.48115612,  0.30648433, -0.36328133, -0.95483511, -1.36690445,\n",
              "        -2.09710806, -3.09820296, -0.16262625],\n",
              "       [ 0.01836474,  0.16345831, -0.23174843, -0.57005081, -0.29936337,\n",
              "        -0.18235722,  0.0173084 ,  0.4145824 ],\n",
              "       [-0.90721803,  0.59253638, -0.23174843, -0.44178938,  0.88679338,\n",
              "         0.7750182 ,  0.17308396,  1.20824429],\n",
              "       [ 0.01836474,  0.16345831,  0.55744893,  0.32777922,  0.53094636,\n",
              "         0.91178611,  0.9519618 ,  0.84748888],\n",
              "       [-0.44442664, -0.40864578,  0.29438314, -0.31352795, -0.41797905,\n",
              "        -0.86619681, -1.54044728, -1.4613457 ],\n",
              "       [ 1.40673888,  2.0227966 ,  1.47817919,  0.84082495,  0.53094636,\n",
              "         0.22794653,  0.17308396, -0.23477733],\n",
              "       [-0.21303095, -0.83772385,  0.16285025,  0.58430208,  1.36125608,\n",
              "         0.91178611,  0.4846351 , -0.81198597],\n",
              "       [ 0.9439475 ,  3.3100308 ,  2.53044235,  1.99517785,  1.71710311,\n",
              "         1.32208987,  0.64041067, -0.16262625],\n",
              "       [-0.90721803,  1.45069251,  2.39890946,  1.73865498,  1.00540906,\n",
              "         0.63825028,  0.4846351 ,  0.34243132],\n",
              "       [ 0.01836474,  0.44951036, -0.10021554, -0.69831225, -1.24828877,\n",
              "        -1.41326848, -2.47510069, -0.09047516],\n",
              "       [-0.67582233, -0.83772385, -1.0209458 , -0.82657368, -1.36690445,\n",
              "        -1.27650056, -0.45001831,  0.053827  ],\n",
              "       [ 0.01836474, -0.12259373,  0.42591604, -0.05700508, -0.41797905,\n",
              "        -1.13973264, -1.69622285,  0.4145824 ],\n",
              "       [ 0.48115612, -0.40864578,  0.03131736,  0.96908638,  0.76817771,\n",
              "         1.18532195,  0.64041067,  1.42469753],\n",
              "       [-0.67582233, -0.26561976, -0.49481422,  0.84082495,  0.53094636,\n",
              "         0.09117861, -0.29424274, -0.23477733],\n",
              "       [ 1.63813457,  0.30648433,  0.55744893,  0.71256352,  0.41233068,\n",
              "        -0.18235722, -0.29424274,  0.55888456],\n",
              "       [-1.13861372, -0.83772385, -1.15247869,  0.32777922,  1.36125608,\n",
              "         1.04855403,  0.9519618 ,  1.28039537],\n",
              "       [-1.13861372, -0.83772385, -0.10021554, -0.44178938, -0.06213202,\n",
              "        -0.72942889, -1.07312058,  0.70318672],\n",
              "       [-0.67582233, -0.98074987, -1.54707738, -0.69831225,  0.17509933,\n",
              "        -0.45589306,  0.9519618 , -0.01832408],\n",
              "       [-1.13861372, -1.40982794, -0.62634712, -1.21135798, -1.1296731 ,\n",
              "        -1.5500364 , -2.31932512, -1.53349678],\n",
              "       [ 1.86953026,  1.73674456,  2.00431077,  1.86691641,  1.47987176,\n",
              "         1.45885778,  0.9519618 , -0.37907949],\n",
              "       [ 0.24976043, -0.26561976, -0.10021554,  0.58430208,  0.88679338,\n",
              "         0.7750182 ,  0.9519618 ,  1.13609321],\n",
              "       [ 0.24976043,  0.7355624 ,  1.74124498,  1.22560925,  1.00540906,\n",
              "         1.04855403,  0.4846351 ,  1.20824429],\n",
              "       [-0.67582233, -0.69469782, -0.36328133, -0.82657368, -0.41797905,\n",
              "        -0.72942889, -1.07312058, -0.59553273],\n",
              "       [ 1.86953026,  0.59253638,  0.16285025,  0.19951778,  0.29371501,\n",
              "        -0.18235722,  0.64041067, -1.74995002],\n",
              "       [-0.21303095, -0.69469782, -0.88941291, -0.82657368, -0.53659472,\n",
              "        -1.13973264,  0.32885953, -0.01832408],\n",
              "       [-0.67582233, -0.69469782, -0.88941291, -0.95483511, -0.89244175,\n",
              "         0.09117861, -0.60579388,  0.12597808],\n",
              "       [-0.21303095, -0.69469782, -0.88941291, -0.31352795, -0.29936337,\n",
              "         0.7750182 ,  0.4846351 , -1.74995002],\n",
              "       [ 0.9439475 ,  0.02043229, -0.75788001, -0.82657368, -3.0275239 ,\n",
              "        -1.5500364 , -1.07312058,  0.99179104],\n",
              "       [-0.90721803, -1.12377589, -0.62634712, -0.82657368, -0.77382607,\n",
              "         1.18532195,  0.4846351 , -0.16262625],\n",
              "       [-0.21303095, -0.83772385,  1.21511341,  1.48213211,  1.12402473,\n",
              "         1.18532195,  0.9519618 ,  0.12597808],\n",
              "       [-0.90721803, -1.12377589, -0.23174843,  0.45604065,  0.53094636,\n",
              "         0.91178611,  0.32885953, -1.4613457 ],\n",
              "       [-0.67582233,  0.16345831,  0.95204762,  0.32777922, -0.29936337,\n",
              "        -0.18235722,  0.17308396,  1.78545293],\n",
              "       [-0.90721803, -1.26680191, -1.41554448, -1.72440371, -2.19721417,\n",
              "        -0.04558931,  0.79618624,  0.7753378 ],\n",
              "       [ 3.02650872,  2.0227966 ,  1.21511341,  1.48213211,  1.12402473,\n",
              "         0.63825028,  0.64041067, -1.38919461],\n",
              "       [-1.13861372, -0.26561976, -0.88941291,  0.71256352,  0.29371501,\n",
              "        -0.45589306, -1.22889615, -1.53349678],\n",
              "       [ 2.33232164,  2.45187467,  1.74124498,  1.22560925,  0.88679338,\n",
              "         0.22794653,  0.4846351 , -0.52338165],\n",
              "       [-0.21303095,  0.44951036,  0.03131736, -0.31352795,  0.76817771,\n",
              "         1.18532195,  0.4846351 , -1.74995002],\n",
              "       [ 0.71255181,  0.30648433,  0.68898183,  0.19951778, -0.1807477 ,\n",
              "         0.22794653,  0.79618624,  1.20824429],\n",
              "       [-0.67582233, -0.69469782, -1.41554448, -1.85266514,  0.41233068,\n",
              "         0.7750182 ,  0.4846351 , -0.66768381],\n",
              "       [ 1.17534319,  0.16345831, -0.10021554, -0.57005081, -0.89244175,\n",
              "        -1.00296473, -0.60579388,  0.84748888],\n",
              "       [ 0.9439475 ,  0.30648433,  0.29438314,  0.19951778, -0.29936337,\n",
              "        -0.18235722,  0.9519618 ,  1.13609321],\n",
              "       [-0.90721803,  0.44951036,  0.82051472,  0.45604065, -0.06213202,\n",
              "        -0.31912514, -0.91734501,  0.4145824 ],\n",
              "       [-0.90721803, -1.12377589, -1.54707738, -1.85266514, -1.95998282,\n",
              "        -2.23387598, -1.54044728,  0.053827  ],\n",
              "       [-1.13861372, -1.26680191,  0.68898183,  0.07125635, -0.41797905,\n",
              "        -0.18235722,  0.4846351 , -0.95628813],\n",
              "       [-0.44442664, -0.98074987,  1.60971209,  1.86691641,  1.36125608,\n",
              "         1.04855403,  0.9519618 , -1.02843921],\n",
              "       [ 0.24976043, -0.5516718 , -0.75788001, -0.57005081, -0.6552104 ,\n",
              "        -1.5500364 ,  0.64041067,  0.7753378 ]])"
            ]
          },
          "metadata": {},
          "execution_count": 97
        }
      ]
    },
    {
      "cell_type": "code",
      "source": [
        "X_train, X_test, y_train, y_test = train_test_split(X, y, test_size=0.2, random_state= 6)\n",
        "print('Train test:', X_train.shape, y_train.shape)\n",
        "print('Test set:', X_test.shape, y_test.shape)"
      ],
      "metadata": {
        "colab": {
          "base_uri": "https://localhost:8080/"
        },
        "id": "pMXy0BkGZTQO",
        "outputId": "5733a688-5c16-464c-cc32-3894c198c011"
      },
      "execution_count": null,
      "outputs": [
        {
          "output_type": "stream",
          "name": "stdout",
          "text": [
            "Train test: (50, 8) (50,)\n",
            "Test set: (13, 8) (13,)\n"
          ]
        }
      ]
    },
    {
      "cell_type": "code",
      "source": [
        "from sklearn.neighbors import KNeighborsClassifier"
      ],
      "metadata": {
        "id": "flIN5dneaIjf"
      },
      "execution_count": null,
      "outputs": []
    },
    {
      "cell_type": "code",
      "source": [
        "\n",
        "k = 30\n",
        "neigh = KNeighborsClassifier(n_neighbors=k).fit(X_train, y_train)\n",
        "neigh"
      ],
      "metadata": {
        "colab": {
          "base_uri": "https://localhost:8080/"
        },
        "id": "j4RxKbmbaNcj",
        "outputId": "fd7771cc-7e0e-47f4-b475-c49880f27719"
      },
      "execution_count": null,
      "outputs": [
        {
          "output_type": "execute_result",
          "data": {
            "text/plain": [
              "KNeighborsClassifier(n_neighbors=30)"
            ]
          },
          "metadata": {},
          "execution_count": 115
        }
      ]
    },
    {
      "cell_type": "code",
      "source": [
        "yhat = neigh.predict(X_test)\n",
        "yhat"
      ],
      "metadata": {
        "colab": {
          "base_uri": "https://localhost:8080/"
        },
        "id": "eHtZTqIBa2vS",
        "outputId": "ed580766-6b4b-4686-edd9-6b24cb8fa14a"
      },
      "execution_count": null,
      "outputs": [
        {
          "output_type": "execute_result",
          "data": {
            "text/plain": [
              "array([3, 2, 6, 2, 1, 2, 5, 2, 5, 1, 3, 2, 2])"
            ]
          },
          "metadata": {},
          "execution_count": 117
        }
      ]
    },
    {
      "cell_type": "code",
      "source": [
        "from sklearn import metrics\n",
        "print('Train set accuracy: ', metrics.accuracy_score(y_train, neigh.predict(X_train)))\n",
        "print('Test set accuracy: ', metrics.accuracy_score(y_test, yhat))"
      ],
      "metadata": {
        "colab": {
          "base_uri": "https://localhost:8080/"
        },
        "id": "enk_g_wlb43g",
        "outputId": "f1a894d8-4e23-4e2e-dd4b-02e4feebb587"
      },
      "execution_count": null,
      "outputs": [
        {
          "output_type": "stream",
          "name": "stdout",
          "text": [
            "Train set accuracy:  0.42\n",
            "Test set accuracy:  0.23076923076923078\n"
          ]
        }
      ]
    },
    {
      "cell_type": "code",
      "source": [
        "#PLOT the model accuracy for a different number of neighbors\n",
        "Ks = 15\n",
        "mean_acc = np.zeros((Ks - 1))\n",
        "std_acc = np.zeros((Ks - 1))\n",
        "\n",
        "for n in range(1, Ks):\n",
        "  #Train Model and Predict\n",
        "  neigh = KNeighborsClassifier(n_neighbors = n).fit(X_train, y_train)\n",
        "  yhat = neigh.predict(X_test)\n",
        "  mean_acc[n-1]=np.std(yhat == y_test)/np.sqrt(yhat.shape[0])\n",
        "mean_acc\n"
      ],
      "metadata": {
        "colab": {
          "base_uri": "https://localhost:8080/"
        },
        "id": "Pahjo43hdoQ-",
        "outputId": "efbc4c11-a11b-4657-8d9b-f44de05acaf6"
      },
      "execution_count": null,
      "outputs": [
        {
          "output_type": "execute_result",
          "data": {
            "text/plain": [
              "array([0.10006825, 0.10006825, 0.11685454, 0.11685454, 0.10006825,\n",
              "       0.11685454, 0.11685454, 0.11685454, 0.10006825, 0.0739053 ,\n",
              "       0.0739053 , 0.0739053 , 0.0739053 , 0.        ])"
            ]
          },
          "metadata": {},
          "execution_count": 104
        }
      ]
    },
    {
      "cell_type": "code",
      "source": [
        "\n",
        "plt.plot(range(1, Ks), mean_acc, 'g')\n",
        "plt.fill_between(range(1, Ks), mean_acc - 1 * std_acc, mean_acc + 1* std_acc, alpha=0.10)\n",
        "plt.fill_between(range(1, Ks), mean_acc - 3*std_acc, mean_acc + 3 * std_acc, alpha = 0.10, color=\"green\")\n",
        "plt.legend(('accuracy ', '+/-1xstd', '+/-3xstd'))\n",
        "plt.xlabel('Number of Neighbors (K)')\n",
        "plt.ylabel('Accuracy')\n",
        "plt.tight_layout()\n",
        "plt.show()"
      ],
      "metadata": {
        "colab": {
          "base_uri": "https://localhost:8080/",
          "height": 297
        },
        "id": "LMqHYah2ezQk",
        "outputId": "e802fb5f-780d-4c61-8cc3-f4ab9442336b"
      },
      "execution_count": null,
      "outputs": [
        {
          "output_type": "display_data",
          "data": {
            "text/plain": [
              "<Figure size 432x288 with 1 Axes>"
            ],
            "image/png": "[encoded data removed]"
          },
          "metadata": {
            "needs_background": "light"
          }
        }
      ]
    },
    {
      "cell_type": "code",
      "source": [
        "mean_acc.max()\n",
        "mean_acc.argmax() + 1"
      ],
      "metadata": {
        "colab": {
          "base_uri": "https://localhost:8080/"
        },
        "id": "8lo_DXfOg3fJ",
        "outputId": "fb18a396-ffb7-4b10-fcb7-323f79ccd7ce"
      },
      "execution_count": null,
      "outputs": [
        {
          "output_type": "execute_result",
          "data": {
            "text/plain": [
              "3"
            ]
          },
          "metadata": {},
          "execution_count": 108
        }
      ]
    }
  ]
}