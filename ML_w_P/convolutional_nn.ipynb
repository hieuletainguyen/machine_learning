{
  "nbformat": 4,
  "nbformat_minor": 0,
  "metadata": {
    "colab": {
      "provenance": []
    },
    "kernelspec": {
      "name": "python3",
      "display_name": "Python 3"
    },
    "language_info": {
      "name": "python"
    }
  },
  "cells": [
    {
      "cell_type": "code",
      "execution_count": null,
      "metadata": {
        "colab": {
          "base_uri": "https://localhost:8080/"
        },
        "id": "p876leQS-DbK",
        "outputId": "f2abec10-448b-4c5f-f5dc-441bd596c372"
      },
      "outputs": [
        {
          "output_type": "stream",
          "name": "stdout",
          "text": [
            "Downloading data from https://storage.googleapis.com/tensorflow/tf-keras-datasets/mnist.npz\n",
            "11490434/11490434 [==============================] - 0s 0us/step\n"
          ]
        }
      ],
      "source": [
        "import tensorflow.keras as tf\n",
        "mnist = tf.datasets.mnist\n",
        "\n",
        "(x_train, y_train), (x_test, y_test) = mnist.load_data()"
      ]
    },
    {
      "cell_type": "code",
      "source": [
        "import matplotlib.pyplot as plt\n",
        "plt.imshow(x_train[0])\n",
        "plt.show()\n",
        "\n",
        "print(y_train[0])"
      ],
      "metadata": {
        "colab": {
          "base_uri": "https://localhost:8080/",
          "height": 282
        },
        "id": "V_VFBjGs-qs5",
        "outputId": "5d77c9f5-6da9-4279-f182-ecafdfe8679e"
      },
      "execution_count": null,
      "outputs": [
        {
          "output_type": "display_data",
          "data": {
            "text/plain": [
              "<Figure size 432x288 with 1 Axes>"
            ],
            "image/png": "[encoded data removed]"
          },
          "metadata": {
            "needs_background": "light"
          }
        },
        {
          "output_type": "stream",
          "name": "stdout",
          "text": [
            "5\n"
          ]
        }
      ]
    },
    {
      "cell_type": "code",
      "source": [
        "x_train = x_train.reshape(x_train.shape[0], 28, 28, 1)\n",
        "x_test = x_test.reshape(x_test.shape[0], 28, 28, 1)\n",
        "\n",
        "input_shape = (28, 28, 1)\n",
        "\n",
        "x_train = x_train.astype('float32')\n",
        "x_train /= 255\n",
        "\n",
        "\n",
        "x_test = x_test.astype('float32')\n",
        "x_test /= 255\n"
      ],
      "metadata": {
        "id": "23ZM7EXc_zk2"
      },
      "execution_count": null,
      "outputs": []
    },
    {
      "cell_type": "code",
      "source": [
        "print(y_train[0])\n",
        "\n",
        "y_train = tf.utils.to_categorical(y_train, 10)\n",
        "y_test = tf.utils.to_categorical(y_test, 10)\n",
        "\n",
        "print(y_train[0])\n"
      ],
      "metadata": {
        "colab": {
          "base_uri": "https://localhost:8080/"
        },
        "id": "nE9kHSBvAwad",
        "outputId": "7f955fdf-2af6-401d-fa7c-53a94faef039"
      },
      "execution_count": null,
      "outputs": [
        {
          "output_type": "stream",
          "name": "stdout",
          "text": [
            "5\n",
            "[0. 0. 0. 0. 0. 1. 0. 0. 0. 0.]\n"
          ]
        }
      ]
    },
    {
      "cell_type": "code",
      "source": [
        "model = tf.models.Sequential()\n",
        "\n",
        "model.add(tf.layers.Conv2D(32, kernel_size=(3, 3), activation = 'relu', input_shape =input_shape))\n",
        "model.add(tf.layers.Conv2D(64, kernel_size=(3, 3), activation='relu'))\n",
        "model.add(tf.layers.MaxPooling2D(pool_size = (2, 2)))\n",
        "model.add(tf.layers.Dropout(0.25))\n",
        "model.add(tf.layers.Flatten())\n",
        "model.add(tf.layers.Dense(128, activation='relu'))\n",
        "model.add(tf.layers.Dropout(0.5))\n",
        "model.add(tf.layers.Dense(10, activation='softmax'))"
      ],
      "metadata": {
        "id": "XI_vFOc1NX-H"
      },
      "execution_count": null,
      "outputs": []
    },
    {
      "cell_type": "code",
      "source": [
        "model.compile(loss=tf.losses.categorical_crossentropy, optimizer=tf.optimizers.Adadelta(), metrics=['accuracy'])\n",
        "\n",
        "model.fit(x_train, y_train, batch_size=128, epochs=20, validation_data=(x_test, y_test))"
      ],
      "metadata": {
        "colab": {
          "base_uri": "https://localhost:8080/"
        },
        "id": "LvY3V3aSfBMW",
        "outputId": "8a217072-f8f3-4306-95db-a90db0b95aa2"
      },
      "execution_count": null,
      "outputs": [
        {
          "output_type": "stream",
          "name": "stdout",
          "text": [
            "Epoch 1/20\n",
            "469/469 [==============================] - 155s 329ms/step - loss: 2.2776 - accuracy: 0.1736 - val_loss: 2.2369 - val_accuracy: 0.3773\n",
            "Epoch 2/20\n",
            "469/469 [==============================] - 154s 328ms/step - loss: 2.2111 - accuracy: 0.2936 - val_loss: 2.1548 - val_accuracy: 0.4765\n",
            "Epoch 3/20\n",
            "469/469 [==============================] - 154s 328ms/step - loss: 2.1239 - accuracy: 0.3865 - val_loss: 2.0429 - val_accuracy: 0.5649\n",
            "Epoch 4/20\n",
            "469/469 [==============================] - 151s 322ms/step - loss: 2.0094 - accuracy: 0.4640 - val_loss: 1.8967 - val_accuracy: 0.6424\n",
            "Epoch 5/20\n",
            "469/469 [==============================] - 150s 321ms/step - loss: 1.8622 - accuracy: 0.5225 - val_loss: 1.7144 - val_accuracy: 0.6918\n",
            "Epoch 6/20\n",
            "469/469 [==============================] - 151s 322ms/step - loss: 1.6926 - accuracy: 0.5685 - val_loss: 1.5101 - val_accuracy: 0.7303\n",
            "Epoch 7/20\n",
            "469/469 [==============================] - 150s 320ms/step - loss: 1.5184 - accuracy: 0.6046 - val_loss: 1.3082 - val_accuracy: 0.7656\n",
            "Epoch 8/20\n",
            "469/469 [==============================] - 149s 318ms/step - loss: 1.3586 - accuracy: 0.6339 - val_loss: 1.1303 - val_accuracy: 0.7928\n",
            "Epoch 9/20\n",
            "469/469 [==============================] - 148s 316ms/step - loss: 1.2234 - accuracy: 0.6603 - val_loss: 0.9848 - val_accuracy: 0.8102\n",
            "Epoch 10/20\n",
            "469/469 [==============================] - 148s 316ms/step - loss: 1.1156 - accuracy: 0.6803 - val_loss: 0.8698 - val_accuracy: 0.8242\n",
            "Epoch 11/20\n",
            "469/469 [==============================] - 148s 317ms/step - loss: 1.0307 - accuracy: 0.6966 - val_loss: 0.7810 - val_accuracy: 0.8368\n",
            "Epoch 12/20\n",
            "469/469 [==============================] - 148s 316ms/step - loss: 0.9574 - accuracy: 0.7165 - val_loss: 0.7115 - val_accuracy: 0.8439\n",
            "Epoch 13/20\n",
            "469/469 [==============================] - 150s 320ms/step - loss: 0.9020 - accuracy: 0.7285 - val_loss: 0.6573 - val_accuracy: 0.8508\n",
            "Epoch 14/20\n",
            "469/469 [==============================] - 149s 317ms/step - loss: 0.8529 - accuracy: 0.7410 - val_loss: 0.6124 - val_accuracy: 0.8593\n",
            "Epoch 15/20\n",
            "469/469 [==============================] - 149s 317ms/step - loss: 0.8110 - accuracy: 0.7510 - val_loss: 0.5760 - val_accuracy: 0.8670\n",
            "Epoch 16/20\n",
            "469/469 [==============================] - 151s 323ms/step - loss: 0.7730 - accuracy: 0.7646 - val_loss: 0.5451 - val_accuracy: 0.8728\n",
            "Epoch 17/20\n",
            "469/469 [==============================] - 153s 325ms/step - loss: 0.7465 - accuracy: 0.7688 - val_loss: 0.5194 - val_accuracy: 0.8757\n",
            "Epoch 18/20\n",
            "469/469 [==============================] - 153s 325ms/step - loss: 0.7204 - accuracy: 0.7775 - val_loss: 0.4976 - val_accuracy: 0.8784\n",
            "Epoch 19/20\n",
            "469/469 [==============================] - 152s 324ms/step - loss: 0.6948 - accuracy: 0.7874 - val_loss: 0.4790 - val_accuracy: 0.8806\n",
            "Epoch 20/20\n",
            "469/469 [==============================] - 151s 322ms/step - loss: 0.6740 - accuracy: 0.7932 - val_loss: 0.4624 - val_accuracy: 0.8825\n"
          ]
        },
        {
          "output_type": "execute_result",
          "data": {
            "text/plain": [
              "<keras.callbacks.History at 0x7fdd91254190>"
            ]
          },
          "metadata": {},
          "execution_count": 7
        }
      ]
    },
    {
      "cell_type": "code",
      "source": [
        "print(model.evaluate(x_test, y_test))"
      ],
      "metadata": {
        "colab": {
          "base_uri": "https://localhost:8080/"
        },
        "id": "HRW_A3AqfcHP",
        "outputId": "07ff25d4-e54c-4c15-e4f4-a856f5a4f014"
      },
      "execution_count": null,
      "outputs": [
        {
          "output_type": "stream",
          "name": "stdout",
          "text": [
            "313/313 [==============================] - 8s 27ms/step - loss: 0.4624 - accuracy: 0.8825\n",
            "[0.46237802505493164, 0.8824999928474426]\n"
          ]
        }
      ]
    },
    {
      "cell_type": "code",
      "source": [],
      "metadata": {
        "id": "YrVsAhCblEiY"
      },
      "execution_count": null,
      "outputs": []
    }
  ]
}