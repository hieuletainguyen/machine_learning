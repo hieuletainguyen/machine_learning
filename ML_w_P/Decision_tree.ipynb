{
  "nbformat": 4,
  "nbformat_minor": 0,
  "metadata": {
    "colab": {
      "provenance": []
    },
    "kernelspec": {
      "name": "python3",
      "display_name": "Python 3"
    },
    "language_info": {
      "name": "python"
    }
  },
  "cells": [
    {
      "cell_type": "code",
      "execution_count": null,
      "metadata": {
        "id": "Qt35CsU0Rqe6"
      },
      "outputs": [],
      "source": [
        "import numpy as np\n",
        "import pandas as pd\n",
        "from sklearn.tree import DecisionTreeClassifier\n",
        "import sklearn.tree as tree"
      ]
    },
    {
      "cell_type": "code",
      "source": [
        "mydata = pd.read_csv('fun.csv', delimiter=\",\")\n",
        "mydata.head()"
      ],
      "metadata": {
        "colab": {
          "base_uri": "https://localhost:8080/",
          "height": 206
        },
        "id": "Buw0mwxjSGc7",
        "outputId": "165abc28-c274-473e-8e58-fc8a587631d2"
      },
      "execution_count": null,
      "outputs": [
        {
          "output_type": "execute_result",
          "data": {
            "text/plain": [
              "         DATE   1   2   3   4   5   6   7   8\n",
              "0  2022-08-09  16  19  25  26  27  33  45  38\n",
              "1  2022-08-05   7  16  19  33  36  48  49   5\n",
              "2  2022-08-02   4   5  15  18  22  28  32  19\n",
              "3  2022-07-29   7  14  17  18  19  23  41  16\n",
              "4  2022-07-26   3   8   9  15  21  27  31  33"
            ],
            "text/html": [
              "\n",
              "  <div id=\"df-50f91b05-19b5-49ee-b292-23ea1eaa0d34\">\n",
              "    <div class=\"colab-df-container\">\n",
              "      <div>\n",
              "<style scoped>\n",
              "    .dataframe tbody tr th:only-of-type {\n",
              "        vertical-align: middle;\n",
              "    }\n",
              "\n",
              "    .dataframe tbody tr th {\n",
              "        vertical-align: top;\n",
              "    }\n",
              "\n",
              "    .dataframe thead th {\n",
              "        text-align: right;\n",
              "    }\n",
              "</style>\n",
              "<table border=\"1\" class=\"dataframe\">\n",
              "  <thead>\n",
              "    <tr style=\"text-align: right;\">\n",
              "      <th></th>\n",
              "      <th>DATE</th>\n",
              "      <th>1</th>\n",
              "      <th>2</th>\n",
              "      <th>3</th>\n",
              "      <th>4</th>\n",
              "      <th>5</th>\n",
              "      <th>6</th>\n",
              "      <th>7</th>\n",
              "      <th>8</th>\n",
              "    </tr>\n",
              "  </thead>\n",
              "  <tbody>\n",
              "    <tr>\n",
              "      <th>0</th>\n",
              "      <td>2022-08-09</td>\n",
              "      <td>16</td>\n",
              "      <td>19</td>\n",
              "      <td>25</td>\n",
              "      <td>26</td>\n",
              "      <td>27</td>\n",
              "      <td>33</td>\n",
              "      <td>45</td>\n",
              "      <td>38</td>\n",
              "    </tr>\n",
              "    <tr>\n",
              "      <th>1</th>\n",
              "      <td>2022-08-05</td>\n",
              "      <td>7</td>\n",
              "      <td>16</td>\n",
              "      <td>19</td>\n",
              "      <td>33</td>\n",
              "      <td>36</td>\n",
              "      <td>48</td>\n",
              "      <td>49</td>\n",
              "      <td>5</td>\n",
              "    </tr>\n",
              "    <tr>\n",
              "      <th>2</th>\n",
              "      <td>2022-08-02</td>\n",
              "      <td>4</td>\n",
              "      <td>5</td>\n",
              "      <td>15</td>\n",
              "      <td>18</td>\n",
              "      <td>22</td>\n",
              "      <td>28</td>\n",
              "      <td>32</td>\n",
              "      <td>19</td>\n",
              "    </tr>\n",
              "    <tr>\n",
              "      <th>3</th>\n",
              "      <td>2022-07-29</td>\n",
              "      <td>7</td>\n",
              "      <td>14</td>\n",
              "      <td>17</td>\n",
              "      <td>18</td>\n",
              "      <td>19</td>\n",
              "      <td>23</td>\n",
              "      <td>41</td>\n",
              "      <td>16</td>\n",
              "    </tr>\n",
              "    <tr>\n",
              "      <th>4</th>\n",
              "      <td>2022-07-26</td>\n",
              "      <td>3</td>\n",
              "      <td>8</td>\n",
              "      <td>9</td>\n",
              "      <td>15</td>\n",
              "      <td>21</td>\n",
              "      <td>27</td>\n",
              "      <td>31</td>\n",
              "      <td>33</td>\n",
              "    </tr>\n",
              "  </tbody>\n",
              "</table>\n",
              "</div>\n",
              "      <button class=\"colab-df-convert\" onclick=\"convertToInteractive('df-50f91b05-19b5-49ee-b292-23ea1eaa0d34')\"\n",
              "              title=\"Convert this dataframe to an interactive table.\"\n",
              "              style=\"display:none;\">\n",
              "        \n",
              "  <svg xmlns=\"http://www.w3.org/2000/svg\" height=\"24px\"viewBox=\"0 0 24 24\"\n",
              "       width=\"24px\">\n",
              "    <path d=\"M0 0h24v24H0V0z\" fill=\"none\"/>\n",
              "    <path d=\"M18.56 5.44l.94 2.06.94-2.06 2.06-.94-2.06-.94-.94-2.06-.94 2.06-2.06.94zm-11 1L8.5 8.5l.94-2.06 2.06-.94-2.06-.94L8.5 2.5l-.94 2.06-2.06.94zm10 10l.94 2.06.94-2.06 2.06-.94-2.06-.94-.94-2.06-.94 2.06-2.06.94z\"/><path d=\"M17.41 7.96l-1.37-1.37c-.4-.4-.92-.59-1.43-.59-.52 0-1.04.2-1.43.59L10.3 9.45l-7.72 7.72c-.78.78-.78 2.05 0 2.83L4 21.41c.39.39.9.59 1.41.59.51 0 1.02-.2 1.41-.59l7.78-7.78 2.81-2.81c.8-.78.8-2.07 0-2.86zM5.41 20L4 18.59l7.72-7.72 1.47 1.35L5.41 20z\"/>\n",
              "  </svg>\n",
              "      </button>\n",
              "      \n",
              "  <style>\n",
              "    .colab-df-container {\n",
              "      display:flex;\n",
              "      flex-wrap:wrap;\n",
              "      gap: 12px;\n",
              "    }\n",
              "\n",
              "    .colab-df-convert {\n",
              "      background-color: #E8F0FE;\n",
              "      border: none;\n",
              "      border-radius: 50%;\n",
              "      cursor: pointer;\n",
              "      display: none;\n",
              "      fill: #1967D2;\n",
              "      height: 32px;\n",
              "      padding: 0 0 0 0;\n",
              "      width: 32px;\n",
              "    }\n",
              "\n",
              "    .colab-df-convert:hover {\n",
              "      background-color: #E2EBFA;\n",
              "      box-shadow: 0px 1px 2px rgba(60, 64, 67, 0.3), 0px 1px 3px 1px rgba(60, 64, 67, 0.15);\n",
              "      fill: #174EA6;\n",
              "    }\n",
              "\n",
              "    [theme=dark] .colab-df-convert {\n",
              "      background-color: #3B4455;\n",
              "      fill: #D2E3FC;\n",
              "    }\n",
              "\n",
              "    [theme=dark] .colab-df-convert:hover {\n",
              "      background-color: #434B5C;\n",
              "      box-shadow: 0px 1px 3px 1px rgba(0, 0, 0, 0.15);\n",
              "      filter: drop-shadow(0px 1px 2px rgba(0, 0, 0, 0.3));\n",
              "      fill: #FFFFFF;\n",
              "    }\n",
              "  </style>\n",
              "\n",
              "      <script>\n",
              "        const buttonEl =\n",
              "          document.querySelector('#df-50f91b05-19b5-49ee-b292-23ea1eaa0d34 button.colab-df-convert');\n",
              "        buttonEl.style.display =\n",
              "          google.colab.kernel.accessAllowed ? 'block' : 'none';\n",
              "\n",
              "        async function convertToInteractive(key) {\n",
              "          const element = document.querySelector('#df-50f91b05-19b5-49ee-b292-23ea1eaa0d34');\n",
              "          const dataTable =\n",
              "            await google.colab.kernel.invokeFunction('convertToInteractive',\n",
              "                                                     [key], {});\n",
              "          if (!dataTable) return;\n",
              "\n",
              "          const docLinkHtml = 'Like what you see? Visit the ' +\n",
              "            '<a target=\"_blank\" href=https://colab.research.google.com/notebooks/data_table.ipynb>data table notebook</a>'\n",
              "            + ' to learn more about interactive tables.';\n",
              "          element.innerHTML = '';\n",
              "          dataTable['output_type'] = 'display_data';\n",
              "          await google.colab.output.renderOutput(dataTable, element);\n",
              "          const docLink = document.createElement('div');\n",
              "          docLink.innerHTML = docLinkHtml;\n",
              "          element.appendChild(docLink);\n",
              "        }\n",
              "      </script>\n",
              "    </div>\n",
              "  </div>\n",
              "  "
            ]
          },
          "metadata": {},
          "execution_count": 3
        }
      ]
    },
    {
      "cell_type": "code",
      "source": [
        "mydata.shape"
      ],
      "metadata": {
        "colab": {
          "base_uri": "https://localhost:8080/"
        },
        "id": "iaMuLyeEStJP",
        "outputId": "854b57d0-cfc9-44ed-95b9-c5384a539e53"
      },
      "execution_count": null,
      "outputs": [
        {
          "output_type": "execute_result",
          "data": {
            "text/plain": [
              "(63, 9)"
            ]
          },
          "metadata": {},
          "execution_count": 4
        }
      ]
    },
    {
      "cell_type": "code",
      "source": [
        "x = mydata[['1', '2', '3', '4', '5', '6', '7', '8']].values\n",
        "x"
      ],
      "metadata": {
        "colab": {
          "base_uri": "https://localhost:8080/"
        },
        "id": "lk3IN9a8TEIA",
        "outputId": "479acada-9ec0-46d1-c6dd-10590cd87750"
      },
      "execution_count": null,
      "outputs": [
        {
          "output_type": "execute_result",
          "data": {
            "text/plain": [
              "array([[16, 19, 25, 26, 27, 33, 45, 38],\n",
              "       [ 7, 16, 19, 33, 36, 48, 49,  5],\n",
              "       [ 4,  5, 15, 18, 22, 28, 32, 19],\n",
              "       [ 7, 14, 17, 18, 19, 23, 41, 16],\n",
              "       [ 3,  8,  9, 15, 21, 27, 31, 33],\n",
              "       [ 1,  9, 19, 34, 37, 39, 49,  6],\n",
              "       [ 6,  9, 17, 19, 31, 34, 46,  4],\n",
              "       [ 4,  7, 12, 18, 29, 47, 49, 48],\n",
              "       [ 8, 11, 15, 16, 26, 29, 40, 37],\n",
              "       [ 7, 12, 14, 18, 46, 47, 49, 19],\n",
              "       [12, 29, 33, 35, 38, 41, 46, 13],\n",
              "       [ 1, 11, 13, 14, 25, 36, 47, 50],\n",
              "       [ 8, 19, 22, 41, 42, 46, 47, 10],\n",
              "       [ 3,  9, 17, 19, 20, 44, 50, 28],\n",
              "       [ 2,  4,  5, 22, 32, 40, 50, 43],\n",
              "       [ 1, 10, 12, 21, 30, 39, 40, 38],\n",
              "       [11, 17, 18, 25, 36, 41, 50, 34],\n",
              "       [ 8, 14, 16, 17, 19, 22, 24, 23],\n",
              "       [ 6, 13, 17, 20, 28, 36, 44, 31],\n",
              "       [ 2, 16, 17, 21, 38, 43, 45, 42],\n",
              "       [ 6, 13, 23, 27, 35, 44, 50, 37],\n",
              "       [ 4,  9, 21, 22, 27, 31, 34,  5],\n",
              "       [12, 26, 30, 31, 35, 39, 45, 22],\n",
              "       [ 5,  6, 20, 29, 42, 44, 47, 14],\n",
              "       [10, 35, 38, 40, 45, 47, 48, 23],\n",
              "       [ 2, 22, 37, 38, 39, 42, 47, 30],\n",
              "       [ 6, 15, 18, 19, 20, 27, 28, 24],\n",
              "       [ 3,  6, 11, 18, 19, 28, 41, 26],\n",
              "       [ 6, 11, 22, 24, 27, 29, 33, 31],\n",
              "       [ 8,  9, 19, 32, 37, 46, 48, 45],\n",
              "       [ 3, 10, 15, 31, 35, 38, 42, 22],\n",
              "       [13, 14, 23, 30, 34, 36, 42, 33],\n",
              "       [ 1,  6, 10, 27, 42, 45, 50, 43],\n",
              "       [ 1,  6, 18, 21, 30, 32, 37, 35],\n",
              "       [ 3,  5,  7, 19, 32, 34, 50, 25],\n",
              "       [ 1,  2, 14, 15, 21, 26, 29,  4],\n",
              "       [14, 24, 34, 39, 43, 48, 50, 20],\n",
              "       [ 7, 10, 18, 29, 38, 43, 50, 41],\n",
              "       [ 7, 17, 32, 34, 39, 45, 47, 42],\n",
              "       [ 3,  7, 16, 18, 27, 32, 37, 17],\n",
              "       [14, 16, 20, 26, 33, 36, 48,  1],\n",
              "       [ 5,  7, 12, 18, 26, 29, 46, 25],\n",
              "       [ 3,  7, 12, 17, 23, 38, 40, 27],\n",
              "       [ 5,  7, 12, 22, 28, 43, 47,  1],\n",
              "       [10, 12, 13, 18,  5, 26, 37, 39],\n",
              "       [ 2,  4, 14, 18, 24, 46, 47, 23],\n",
              "       [ 5,  6, 28, 36, 40, 46, 50, 27],\n",
              "       [ 2,  4, 17, 28, 35, 44, 46,  5],\n",
              "       [ 3, 13, 26, 27, 28, 36, 45, 50],\n",
              "       [ 2,  3,  8, 11, 12, 37, 49, 36],\n",
              "       [19, 26, 28, 36, 40, 42, 48,  6],\n",
              "       [ 1, 10, 12, 30, 33, 34, 36,  4],\n",
              "       [16, 29, 32, 34, 38, 39, 47, 18],\n",
              "       [ 5, 15, 19, 22, 37, 46, 47,  1],\n",
              "       [ 9, 14, 24, 26, 29, 39, 49, 42],\n",
              "       [ 3,  7,  8, 10, 34, 43, 47, 16],\n",
              "       [11, 13, 18, 20, 23, 30, 40, 37],\n",
              "       [10, 14, 21, 26, 28, 36, 50, 41],\n",
              "       [ 2, 15, 25, 28, 30, 35, 38, 31],\n",
              "       [ 2,  4,  7, 10, 14, 21, 34, 26],\n",
              "       [ 1,  3, 24, 25, 27, 36, 47, 12],\n",
              "       [ 4,  5, 31, 39, 42, 45, 50, 11],\n",
              "       [ 7,  8, 13, 20, 25, 26, 48, 36]])"
            ]
          },
          "metadata": {},
          "execution_count": 5
        }
      ]
    },
    {
      "cell_type": "code",
      "source": [
        "from sklearn import preprocessing\n",
        "y = mydata['8']\n",
        "y"
      ],
      "metadata": {
        "colab": {
          "base_uri": "https://localhost:8080/"
        },
        "id": "NzWWWmX2TYjG",
        "outputId": "44886f5f-bb7d-4493-cf02-26c41d09a791"
      },
      "execution_count": null,
      "outputs": [
        {
          "output_type": "execute_result",
          "data": {
            "text/plain": [
              "0     38\n",
              "1      5\n",
              "2     19\n",
              "3     16\n",
              "4     33\n",
              "      ..\n",
              "58    31\n",
              "59    26\n",
              "60    12\n",
              "61    11\n",
              "62    36\n",
              "Name: 8, Length: 63, dtype: int64"
            ]
          },
          "metadata": {},
          "execution_count": 6
        }
      ]
    },
    {
      "cell_type": "code",
      "source": [],
      "metadata": {
        "id": "qWYwbbNiUPQD"
      },
      "execution_count": null,
      "outputs": []
    },
    {
      "cell_type": "code",
      "source": [
        "y.value_counts()"
      ],
      "metadata": {
        "colab": {
          "base_uri": "https://localhost:8080/"
        },
        "id": "02LhBOEVUKAK",
        "outputId": "efafb5e7-7728-405d-e715-9b6103de8c85"
      },
      "execution_count": null,
      "outputs": [
        {
          "output_type": "execute_result",
          "data": {
            "text/plain": [
              "23    3\n",
              "1     3\n",
              "4     3\n",
              "37    3\n",
              "5     3\n",
              "42    3\n",
              "31    3\n",
              "38    2\n",
              "36    2\n",
              "27    2\n",
              "41    2\n",
              "25    2\n",
              "26    2\n",
              "22    2\n",
              "50    2\n",
              "19    2\n",
              "16    2\n",
              "33    2\n",
              "6     2\n",
              "43    2\n",
              "34    1\n",
              "20    1\n",
              "12    1\n",
              "18    1\n",
              "39    1\n",
              "17    1\n",
              "48    1\n",
              "35    1\n",
              "45    1\n",
              "13    1\n",
              "24    1\n",
              "30    1\n",
              "14    1\n",
              "10    1\n",
              "28    1\n",
              "11    1\n",
              "Name: 8, dtype: int64"
            ]
          },
          "metadata": {},
          "execution_count": 9
        }
      ]
    },
    {
      "cell_type": "code",
      "source": [
        "from sklearn.model_selection import train_test_split\n",
        "# The train_test_split will return 4 different parameters\n",
        "# x_trainset, x_testset, y_trainset, y_testset\n",
        "\n",
        "# train_test_split will need the parameters:\n",
        "# x, y, test_size = 0.3, and random_state = 3\n",
        "\n",
        "# x, y are the arrays required before the split, the test_size represents the\n",
        "# ratio of the testing dataset\n",
        "# the random_state ensures that we can ontain the same splits\n",
        "\n",
        "x_trainset, x_testset, y_trainset, y_testset = train_test_split(x, y, test_size=0.3, random_state=3)\n"
      ],
      "metadata": {
        "id": "kqF-0Az9Ucmv"
      },
      "execution_count": null,
      "outputs": []
    },
    {
      "cell_type": "code",
      "source": [
        "print(x_trainset.shape)\n",
        "print(y_trainset.shape)\n",
        "print(x_testset.shape)\n",
        "print(y_testset.shape)\n",
        "y_trainset[0:5]"
      ],
      "metadata": {
        "colab": {
          "base_uri": "https://localhost:8080/"
        },
        "id": "BuUFREfRVaoo",
        "outputId": "4a7cb9b9-f736-4613-e541-3850be62263a"
      },
      "execution_count": null,
      "outputs": [
        {
          "output_type": "stream",
          "name": "stdout",
          "text": [
            "(44, 8)\n",
            "(44,)\n",
            "(19, 8)\n",
            "(19,)\n"
          ]
        },
        {
          "output_type": "execute_result",
          "data": {
            "text/plain": [
              "62    36\n",
              "40     1\n",
              "46    27\n",
              "33    35\n",
              "16    34\n",
              "Name: 8, dtype: int64"
            ]
          },
          "metadata": {},
          "execution_count": 35
        }
      ]
    },
    {
      "cell_type": "code",
      "source": [
        "#MODELING\n",
        "dtree = DecisionTreeClassifier(criterion=\"entropy\", max_depth=4)\n",
        "tree"
      ],
      "metadata": {
        "colab": {
          "base_uri": "https://localhost:8080/"
        },
        "id": "QwH5fL5kWCgm",
        "outputId": "8e74a39c-ed5d-4e7e-cd57-b5afe9daf197"
      },
      "execution_count": null,
      "outputs": [
        {
          "output_type": "execute_result",
          "data": {
            "text/plain": [
              "DecisionTreeClassifier(criterion='entropy', max_depth=4)"
            ]
          },
          "metadata": {},
          "execution_count": 23
        }
      ]
    },
    {
      "cell_type": "code",
      "source": [
        "dtree.fit(x_trainset, y_trainset)"
      ],
      "metadata": {
        "colab": {
          "base_uri": "https://localhost:8080/"
        },
        "id": "6-TMdwX3WTgd",
        "outputId": "e08eac2f-6782-4102-c80e-c397bb795a11"
      },
      "execution_count": null,
      "outputs": [
        {
          "output_type": "execute_result",
          "data": {
            "text/plain": [
              "DecisionTreeClassifier(criterion='entropy', max_depth=4)"
            ]
          },
          "metadata": {},
          "execution_count": 24
        }
      ]
    },
    {
      "cell_type": "code",
      "source": [
        "pretree = dtree.predict(x_testset)"
      ],
      "metadata": {
        "id": "ML-OY2o-WXj9"
      },
      "execution_count": null,
      "outputs": []
    },
    {
      "cell_type": "code",
      "source": [
        "print(pretree)\n",
        "print(y_testset)"
      ],
      "metadata": {
        "colab": {
          "base_uri": "https://localhost:8080/"
        },
        "id": "u8g_MDS_WePm",
        "outputId": "aef4ad8b-3732-4c79-c0b5-6c2522e52af4"
      },
      "execution_count": null,
      "outputs": [
        {
          "output_type": "stream",
          "name": "stdout",
          "text": [
            "[ 4 42 43 25  5  6 37 27 37 27 37  6  6 42 25 17 17 37 37]\n",
            "6      4\n",
            "54    42\n",
            "49    36\n",
            "59    26\n",
            "47     5\n",
            "23    14\n",
            "31    33\n",
            "34    25\n",
            "25    30\n",
            "13    28\n",
            "28    31\n",
            "12    10\n",
            "60    12\n",
            "48    50\n",
            "4     33\n",
            "36    20\n",
            "9     19\n",
            "18    31\n",
            "58    31\n",
            "Name: 8, dtype: int64\n"
          ]
        }
      ]
    },
    {
      "cell_type": "code",
      "source": [
        "from sklearn import metrics\n",
        "import matplotlib.pyplot as plt\n",
        "print(metrics.accuracy_score(y_testset, pretree))"
      ],
      "metadata": {
        "colab": {
          "base_uri": "https://localhost:8080/"
        },
        "id": "TAxTqCZ8Wv9W",
        "outputId": "3a76ad22-3bac-4cfc-9048-8b62ec589282"
      },
      "execution_count": null,
      "outputs": [
        {
          "output_type": "stream",
          "name": "stdout",
          "text": [
            "0.15789473684210525\n"
          ]
        }
      ]
    }
  ]
}