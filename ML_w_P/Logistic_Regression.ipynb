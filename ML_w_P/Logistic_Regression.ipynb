{
  "nbformat": 4,
  "nbformat_minor": 0,
  "metadata": {
    "colab": {
      "provenance": []
    },
    "kernelspec": {
      "name": "python3",
      "display_name": "Python 3"
    },
    "language_info": {
      "name": "python"
    }
  },
  "cells": [
    {
      "cell_type": "code",
      "execution_count": null,
      "metadata": {
        "id": "Sdn9M_3kch30"
      },
      "outputs": [],
      "source": [
        "import pandas as pd\n",
        "import pylab as pl\n",
        "import numpy as np\n",
        "import scipy.optimize as opt\n",
        "from sklearn import preprocessing\n",
        "import matplotlib.pyplot as plt"
      ]
    },
    {
      "cell_type": "code",
      "source": [
        "churn = pd.read_csv(\"fun.csv\")\n",
        "churn.head()"
      ],
      "metadata": {
        "colab": {
          "base_uri": "https://localhost:8080/",
          "height": 206
        },
        "id": "T110Cc8GcyuL",
        "outputId": "adcd401f-88d3-4d19-8bd7-67ef61a9d720"
      },
      "execution_count": null,
      "outputs": [
        {
          "output_type": "execute_result",
          "data": {
            "text/plain": [
              "         DATE   1   2   3   4   5   6   7   8\n",
              "0  2022-08-09  16  19  25  26  27  33  45  38\n",
              "1  2022-08-05   7  16  19  33  36  48  49   5\n",
              "2  2022-08-02   4   5  15  18  22  28  32  19\n",
              "3  2022-07-29   7  14  17  18  19  23  41  16\n",
              "4  2022-07-26   3   8   9  15  21  27  31  33"
            ],
            "text/html": [
              "\n",
              "  <div id=\"df-571f94cf-ab97-453b-a126-41011cc6936f\">\n",
              "    <div class=\"colab-df-container\">\n",
              "      <div>\n",
              "<style scoped>\n",
              "    .dataframe tbody tr th:only-of-type {\n",
              "        vertical-align: middle;\n",
              "    }\n",
              "\n",
              "    .dataframe tbody tr th {\n",
              "        vertical-align: top;\n",
              "    }\n",
              "\n",
              "    .dataframe thead th {\n",
              "        text-align: right;\n",
              "    }\n",
              "</style>\n",
              "<table border=\"1\" class=\"dataframe\">\n",
              "  <thead>\n",
              "    <tr style=\"text-align: right;\">\n",
              "      <th></th>\n",
              "      <th>DATE</th>\n",
              "      <th>1</th>\n",
              "      <th>2</th>\n",
              "      <th>3</th>\n",
              "      <th>4</th>\n",
              "      <th>5</th>\n",
              "      <th>6</th>\n",
              "      <th>7</th>\n",
              "      <th>8</th>\n",
              "    </tr>\n",
              "  </thead>\n",
              "  <tbody>\n",
              "    <tr>\n",
              "      <th>0</th>\n",
              "      <td>2022-08-09</td>\n",
              "      <td>16</td>\n",
              "      <td>19</td>\n",
              "      <td>25</td>\n",
              "      <td>26</td>\n",
              "      <td>27</td>\n",
              "      <td>33</td>\n",
              "      <td>45</td>\n",
              "      <td>38</td>\n",
              "    </tr>\n",
              "    <tr>\n",
              "      <th>1</th>\n",
              "      <td>2022-08-05</td>\n",
              "      <td>7</td>\n",
              "      <td>16</td>\n",
              "      <td>19</td>\n",
              "      <td>33</td>\n",
              "      <td>36</td>\n",
              "      <td>48</td>\n",
              "      <td>49</td>\n",
              "      <td>5</td>\n",
              "    </tr>\n",
              "    <tr>\n",
              "      <th>2</th>\n",
              "      <td>2022-08-02</td>\n",
              "      <td>4</td>\n",
              "      <td>5</td>\n",
              "      <td>15</td>\n",
              "      <td>18</td>\n",
              "      <td>22</td>\n",
              "      <td>28</td>\n",
              "      <td>32</td>\n",
              "      <td>19</td>\n",
              "    </tr>\n",
              "    <tr>\n",
              "      <th>3</th>\n",
              "      <td>2022-07-29</td>\n",
              "      <td>7</td>\n",
              "      <td>14</td>\n",
              "      <td>17</td>\n",
              "      <td>18</td>\n",
              "      <td>19</td>\n",
              "      <td>23</td>\n",
              "      <td>41</td>\n",
              "      <td>16</td>\n",
              "    </tr>\n",
              "    <tr>\n",
              "      <th>4</th>\n",
              "      <td>2022-07-26</td>\n",
              "      <td>3</td>\n",
              "      <td>8</td>\n",
              "      <td>9</td>\n",
              "      <td>15</td>\n",
              "      <td>21</td>\n",
              "      <td>27</td>\n",
              "      <td>31</td>\n",
              "      <td>33</td>\n",
              "    </tr>\n",
              "  </tbody>\n",
              "</table>\n",
              "</div>\n",
              "      <button class=\"colab-df-convert\" onclick=\"convertToInteractive('df-571f94cf-ab97-453b-a126-41011cc6936f')\"\n",
              "              title=\"Convert this dataframe to an interactive table.\"\n",
              "              style=\"display:none;\">\n",
              "        \n",
              "  <svg xmlns=\"http://www.w3.org/2000/svg\" height=\"24px\"viewBox=\"0 0 24 24\"\n",
              "       width=\"24px\">\n",
              "    <path d=\"M0 0h24v24H0V0z\" fill=\"none\"/>\n",
              "    <path d=\"M18.56 5.44l.94 2.06.94-2.06 2.06-.94-2.06-.94-.94-2.06-.94 2.06-2.06.94zm-11 1L8.5 8.5l.94-2.06 2.06-.94-2.06-.94L8.5 2.5l-.94 2.06-2.06.94zm10 10l.94 2.06.94-2.06 2.06-.94-2.06-.94-.94-2.06-.94 2.06-2.06.94z\"/><path d=\"M17.41 7.96l-1.37-1.37c-.4-.4-.92-.59-1.43-.59-.52 0-1.04.2-1.43.59L10.3 9.45l-7.72 7.72c-.78.78-.78 2.05 0 2.83L4 21.41c.39.39.9.59 1.41.59.51 0 1.02-.2 1.41-.59l7.78-7.78 2.81-2.81c.8-.78.8-2.07 0-2.86zM5.41 20L4 18.59l7.72-7.72 1.47 1.35L5.41 20z\"/>\n",
              "  </svg>\n",
              "      </button>\n",
              "      \n",
              "  <style>\n",
              "    .colab-df-container {\n",
              "      display:flex;\n",
              "      flex-wrap:wrap;\n",
              "      gap: 12px;\n",
              "    }\n",
              "\n",
              "    .colab-df-convert {\n",
              "      background-color: #E8F0FE;\n",
              "      border: none;\n",
              "      border-radius: 50%;\n",
              "      cursor: pointer;\n",
              "      display: none;\n",
              "      fill: #1967D2;\n",
              "      height: 32px;\n",
              "      padding: 0 0 0 0;\n",
              "      width: 32px;\n",
              "    }\n",
              "\n",
              "    .colab-df-convert:hover {\n",
              "      background-color: #E2EBFA;\n",
              "      box-shadow: 0px 1px 2px rgba(60, 64, 67, 0.3), 0px 1px 3px 1px rgba(60, 64, 67, 0.15);\n",
              "      fill: #174EA6;\n",
              "    }\n",
              "\n",
              "    [theme=dark] .colab-df-convert {\n",
              "      background-color: #3B4455;\n",
              "      fill: #D2E3FC;\n",
              "    }\n",
              "\n",
              "    [theme=dark] .colab-df-convert:hover {\n",
              "      background-color: #434B5C;\n",
              "      box-shadow: 0px 1px 3px 1px rgba(0, 0, 0, 0.15);\n",
              "      filter: drop-shadow(0px 1px 2px rgba(0, 0, 0, 0.3));\n",
              "      fill: #FFFFFF;\n",
              "    }\n",
              "  </style>\n",
              "\n",
              "      <script>\n",
              "        const buttonEl =\n",
              "          document.querySelector('#df-571f94cf-ab97-453b-a126-41011cc6936f button.colab-df-convert');\n",
              "        buttonEl.style.display =\n",
              "          google.colab.kernel.accessAllowed ? 'block' : 'none';\n",
              "\n",
              "        async function convertToInteractive(key) {\n",
              "          const element = document.querySelector('#df-571f94cf-ab97-453b-a126-41011cc6936f');\n",
              "          const dataTable =\n",
              "            await google.colab.kernel.invokeFunction('convertToInteractive',\n",
              "                                                     [key], {});\n",
              "          if (!dataTable) return;\n",
              "\n",
              "          const docLinkHtml = 'Like what you see? Visit the ' +\n",
              "            '<a target=\"_blank\" href=https://colab.research.google.com/notebooks/data_table.ipynb>data table notebook</a>'\n",
              "            + ' to learn more about interactive tables.';\n",
              "          element.innerHTML = '';\n",
              "          dataTable['output_type'] = 'display_data';\n",
              "          await google.colab.output.renderOutput(dataTable, element);\n",
              "          const docLink = document.createElement('div');\n",
              "          docLink.innerHTML = docLinkHtml;\n",
              "          element.appendChild(docLink);\n",
              "        }\n",
              "      </script>\n",
              "    </div>\n",
              "  </div>\n",
              "  "
            ]
          },
          "metadata": {},
          "execution_count": 4
        }
      ]
    },
    {
      "cell_type": "code",
      "source": [
        "churn['8'] = churn['8'].astype(\"int\")\n",
        "churn.head()"
      ],
      "metadata": {
        "colab": {
          "base_uri": "https://localhost:8080/",
          "height": 206
        },
        "id": "g4xwbzbvdBDa",
        "outputId": "edff78d3-4b92-4064-ce19-cea3d717b851"
      },
      "execution_count": null,
      "outputs": [
        {
          "output_type": "execute_result",
          "data": {
            "text/plain": [
              "         DATE   1   2   3   4   5   6   7   8\n",
              "0  2022-08-09  16  19  25  26  27  33  45  38\n",
              "1  2022-08-05   7  16  19  33  36  48  49   5\n",
              "2  2022-08-02   4   5  15  18  22  28  32  19\n",
              "3  2022-07-29   7  14  17  18  19  23  41  16\n",
              "4  2022-07-26   3   8   9  15  21  27  31  33"
            ],
            "text/html": [
              "\n",
              "  <div id=\"df-948ee04c-8a93-43b7-abf7-0d486e0a136a\">\n",
              "    <div class=\"colab-df-container\">\n",
              "      <div>\n",
              "<style scoped>\n",
              "    .dataframe tbody tr th:only-of-type {\n",
              "        vertical-align: middle;\n",
              "    }\n",
              "\n",
              "    .dataframe tbody tr th {\n",
              "        vertical-align: top;\n",
              "    }\n",
              "\n",
              "    .dataframe thead th {\n",
              "        text-align: right;\n",
              "    }\n",
              "</style>\n",
              "<table border=\"1\" class=\"dataframe\">\n",
              "  <thead>\n",
              "    <tr style=\"text-align: right;\">\n",
              "      <th></th>\n",
              "      <th>DATE</th>\n",
              "      <th>1</th>\n",
              "      <th>2</th>\n",
              "      <th>3</th>\n",
              "      <th>4</th>\n",
              "      <th>5</th>\n",
              "      <th>6</th>\n",
              "      <th>7</th>\n",
              "      <th>8</th>\n",
              "    </tr>\n",
              "  </thead>\n",
              "  <tbody>\n",
              "    <tr>\n",
              "      <th>0</th>\n",
              "      <td>2022-08-09</td>\n",
              "      <td>16</td>\n",
              "      <td>19</td>\n",
              "      <td>25</td>\n",
              "      <td>26</td>\n",
              "      <td>27</td>\n",
              "      <td>33</td>\n",
              "      <td>45</td>\n",
              "      <td>38</td>\n",
              "    </tr>\n",
              "    <tr>\n",
              "      <th>1</th>\n",
              "      <td>2022-08-05</td>\n",
              "      <td>7</td>\n",
              "      <td>16</td>\n",
              "      <td>19</td>\n",
              "      <td>33</td>\n",
              "      <td>36</td>\n",
              "      <td>48</td>\n",
              "      <td>49</td>\n",
              "      <td>5</td>\n",
              "    </tr>\n",
              "    <tr>\n",
              "      <th>2</th>\n",
              "      <td>2022-08-02</td>\n",
              "      <td>4</td>\n",
              "      <td>5</td>\n",
              "      <td>15</td>\n",
              "      <td>18</td>\n",
              "      <td>22</td>\n",
              "      <td>28</td>\n",
              "      <td>32</td>\n",
              "      <td>19</td>\n",
              "    </tr>\n",
              "    <tr>\n",
              "      <th>3</th>\n",
              "      <td>2022-07-29</td>\n",
              "      <td>7</td>\n",
              "      <td>14</td>\n",
              "      <td>17</td>\n",
              "      <td>18</td>\n",
              "      <td>19</td>\n",
              "      <td>23</td>\n",
              "      <td>41</td>\n",
              "      <td>16</td>\n",
              "    </tr>\n",
              "    <tr>\n",
              "      <th>4</th>\n",
              "      <td>2022-07-26</td>\n",
              "      <td>3</td>\n",
              "      <td>8</td>\n",
              "      <td>9</td>\n",
              "      <td>15</td>\n",
              "      <td>21</td>\n",
              "      <td>27</td>\n",
              "      <td>31</td>\n",
              "      <td>33</td>\n",
              "    </tr>\n",
              "  </tbody>\n",
              "</table>\n",
              "</div>\n",
              "      <button class=\"colab-df-convert\" onclick=\"convertToInteractive('df-948ee04c-8a93-43b7-abf7-0d486e0a136a')\"\n",
              "              title=\"Convert this dataframe to an interactive table.\"\n",
              "              style=\"display:none;\">\n",
              "        \n",
              "  <svg xmlns=\"http://www.w3.org/2000/svg\" height=\"24px\"viewBox=\"0 0 24 24\"\n",
              "       width=\"24px\">\n",
              "    <path d=\"M0 0h24v24H0V0z\" fill=\"none\"/>\n",
              "    <path d=\"M18.56 5.44l.94 2.06.94-2.06 2.06-.94-2.06-.94-.94-2.06-.94 2.06-2.06.94zm-11 1L8.5 8.5l.94-2.06 2.06-.94-2.06-.94L8.5 2.5l-.94 2.06-2.06.94zm10 10l.94 2.06.94-2.06 2.06-.94-2.06-.94-.94-2.06-.94 2.06-2.06.94z\"/><path d=\"M17.41 7.96l-1.37-1.37c-.4-.4-.92-.59-1.43-.59-.52 0-1.04.2-1.43.59L10.3 9.45l-7.72 7.72c-.78.78-.78 2.05 0 2.83L4 21.41c.39.39.9.59 1.41.59.51 0 1.02-.2 1.41-.59l7.78-7.78 2.81-2.81c.8-.78.8-2.07 0-2.86zM5.41 20L4 18.59l7.72-7.72 1.47 1.35L5.41 20z\"/>\n",
              "  </svg>\n",
              "      </button>\n",
              "      \n",
              "  <style>\n",
              "    .colab-df-container {\n",
              "      display:flex;\n",
              "      flex-wrap:wrap;\n",
              "      gap: 12px;\n",
              "    }\n",
              "\n",
              "    .colab-df-convert {\n",
              "      background-color: #E8F0FE;\n",
              "      border: none;\n",
              "      border-radius: 50%;\n",
              "      cursor: pointer;\n",
              "      display: none;\n",
              "      fill: #1967D2;\n",
              "      height: 32px;\n",
              "      padding: 0 0 0 0;\n",
              "      width: 32px;\n",
              "    }\n",
              "\n",
              "    .colab-df-convert:hover {\n",
              "      background-color: #E2EBFA;\n",
              "      box-shadow: 0px 1px 2px rgba(60, 64, 67, 0.3), 0px 1px 3px 1px rgba(60, 64, 67, 0.15);\n",
              "      fill: #174EA6;\n",
              "    }\n",
              "\n",
              "    [theme=dark] .colab-df-convert {\n",
              "      background-color: #3B4455;\n",
              "      fill: #D2E3FC;\n",
              "    }\n",
              "\n",
              "    [theme=dark] .colab-df-convert:hover {\n",
              "      background-color: #434B5C;\n",
              "      box-shadow: 0px 1px 3px 1px rgba(0, 0, 0, 0.15);\n",
              "      filter: drop-shadow(0px 1px 2px rgba(0, 0, 0, 0.3));\n",
              "      fill: #FFFFFF;\n",
              "    }\n",
              "  </style>\n",
              "\n",
              "      <script>\n",
              "        const buttonEl =\n",
              "          document.querySelector('#df-948ee04c-8a93-43b7-abf7-0d486e0a136a button.colab-df-convert');\n",
              "        buttonEl.style.display =\n",
              "          google.colab.kernel.accessAllowed ? 'block' : 'none';\n",
              "\n",
              "        async function convertToInteractive(key) {\n",
              "          const element = document.querySelector('#df-948ee04c-8a93-43b7-abf7-0d486e0a136a');\n",
              "          const dataTable =\n",
              "            await google.colab.kernel.invokeFunction('convertToInteractive',\n",
              "                                                     [key], {});\n",
              "          if (!dataTable) return;\n",
              "\n",
              "          const docLinkHtml = 'Like what you see? Visit the ' +\n",
              "            '<a target=\"_blank\" href=https://colab.research.google.com/notebooks/data_table.ipynb>data table notebook</a>'\n",
              "            + ' to learn more about interactive tables.';\n",
              "          element.innerHTML = '';\n",
              "          dataTable['output_type'] = 'display_data';\n",
              "          await google.colab.output.renderOutput(dataTable, element);\n",
              "          const docLink = document.createElement('div');\n",
              "          docLink.innerHTML = docLinkHtml;\n",
              "          element.appendChild(docLink);\n",
              "        }\n",
              "      </script>\n",
              "    </div>\n",
              "  </div>\n",
              "  "
            ]
          },
          "metadata": {},
          "execution_count": 5
        }
      ]
    },
    {
      "cell_type": "code",
      "source": [
        "x = np.asarray(churn[['1', '2', '3', '4', '5', '6', '7', '8']])\n",
        "x[0:5]"
      ],
      "metadata": {
        "colab": {
          "base_uri": "https://localhost:8080/"
        },
        "id": "exi_OUr_dkHF",
        "outputId": "b24c1b10-50b8-459a-b046-85c53f0dc01b"
      },
      "execution_count": null,
      "outputs": [
        {
          "output_type": "execute_result",
          "data": {
            "text/plain": [
              "array([[16, 19, 25, 26, 27, 33, 45, 38],\n",
              "       [ 7, 16, 19, 33, 36, 48, 49,  5],\n",
              "       [ 4,  5, 15, 18, 22, 28, 32, 19],\n",
              "       [ 7, 14, 17, 18, 19, 23, 41, 16],\n",
              "       [ 3,  8,  9, 15, 21, 27, 31, 33]])"
            ]
          },
          "metadata": {},
          "execution_count": 6
        }
      ]
    },
    {
      "cell_type": "code",
      "source": [
        "y = np.asarray(churn['8'])\n",
        "y"
      ],
      "metadata": {
        "colab": {
          "base_uri": "https://localhost:8080/"
        },
        "id": "sIA0wxGVdxNV",
        "outputId": "1518fcc3-58ee-4533-f2b7-f4890947714d"
      },
      "execution_count": null,
      "outputs": [
        {
          "output_type": "execute_result",
          "data": {
            "text/plain": [
              "array([38,  5, 19, 16, 33,  6,  4, 48, 37, 19, 13, 50, 10, 28, 43, 38, 34,\n",
              "       23, 31, 42, 37,  5, 22, 14, 23, 30, 24, 26, 31, 45, 22, 33, 43, 35,\n",
              "       25,  4, 20, 41, 42, 17,  1, 25, 27,  1, 39, 23, 27,  5, 50, 36,  6,\n",
              "        4, 18,  1, 42, 16, 37, 41, 31, 26, 12, 11, 36])"
            ]
          },
          "metadata": {},
          "execution_count": 8
        }
      ]
    },
    {
      "cell_type": "code",
      "source": [
        "from sklearn.model_selection import train_test_split\n",
        "xtrain, xtest, ytrain, ytest = train_test_split(x, y, test_size = 0.2, random_state = 4)\n",
        "print(xtrain.shape, ytrain.shape)\n",
        "print(xtest.shape, ytest.shape)"
      ],
      "metadata": {
        "colab": {
          "base_uri": "https://localhost:8080/"
        },
        "id": "_xfH3KWpd9k4",
        "outputId": "1dbb1b15-1d54-422e-d126-51687299506d"
      },
      "execution_count": null,
      "outputs": [
        {
          "output_type": "stream",
          "name": "stdout",
          "text": [
            "(50, 8) (50,)\n",
            "(13, 8) (13,)\n"
          ]
        }
      ]
    },
    {
      "cell_type": "code",
      "source": [
        "from sklearn.linear_model import LogisticRegression\n",
        "from sklearn.metrics import confusion_matrix\n",
        "LR = LogisticRegression(C = 0.01, solver=\"liblinear\").fit(xtrain, ytrain)\n",
        "LR"
      ],
      "metadata": {
        "id": "cLFP5nA9eVXq",
        "colab": {
          "base_uri": "https://localhost:8080/"
        },
        "outputId": "85d09d6b-a11c-4a22-a65b-478cf1ece5ea"
      },
      "execution_count": null,
      "outputs": [
        {
          "output_type": "execute_result",
          "data": {
            "text/plain": [
              "LogisticRegression(C=0.01, solver='liblinear')"
            ]
          },
          "metadata": {},
          "execution_count": 15
        }
      ]
    },
    {
      "cell_type": "code",
      "source": [
        "yhat = LR.predict(xtest)\n",
        "yhat"
      ],
      "metadata": {
        "colab": {
          "base_uri": "https://localhost:8080/"
        },
        "id": "10GMA2eCgbUU",
        "outputId": "775272e5-83e2-48ea-9edc-841c13f60eab"
      },
      "execution_count": null,
      "outputs": [
        {
          "output_type": "execute_result",
          "data": {
            "text/plain": [
              "array([50, 42, 36, 18, 42, 36, 36, 43, 31, 13,  1, 42, 50])"
            ]
          },
          "metadata": {},
          "execution_count": 18
        }
      ]
    },
    {
      "cell_type": "code",
      "source": [
        "yhat_prob = LR.predict_proba(xtest)\n",
        "yhat_prob"
      ],
      "metadata": {
        "colab": {
          "base_uri": "https://localhost:8080/"
        },
        "id": "FzCot313g0Dh",
        "outputId": "a911009e-7391-4fc1-bf49-e16392c535af"
      },
      "execution_count": null,
      "outputs": [
        {
          "output_type": "execute_result",
          "data": {
            "text/plain": [
              "array([[1.81777977e-03, 6.02562206e-03, 4.76525411e-03, 3.90531400e-03,\n",
              "        7.40978050e-03, 5.85195789e-03, 8.05329727e-03, 5.26617188e-03,\n",
              "        1.21195440e-02, 2.10631619e-02, 1.64898541e-02, 7.59123139e-03,\n",
              "        3.24682757e-02, 9.59100388e-03, 2.29247776e-02, 3.78893597e-02,\n",
              "        2.00582394e-02, 2.65944217e-02, 4.25880611e-02, 2.11080181e-02,\n",
              "        6.27732550e-02, 3.39718022e-02, 3.89231970e-02, 5.16735252e-02,\n",
              "        6.60026914e-02, 7.16722614e-02, 2.52996832e-02, 7.54651770e-02,\n",
              "        1.00517571e-01, 5.90724944e-02, 1.01047216e-01],\n",
              "       [3.04085092e-03, 8.39857662e-03, 1.08754075e-02, 2.02823311e-02,\n",
              "        1.91652903e-02, 1.70063373e-02, 9.00247694e-03, 1.94308769e-02,\n",
              "        1.65325850e-02, 1.18492573e-02, 1.39560426e-02, 3.01189462e-02,\n",
              "        3.18590710e-02, 3.79844363e-02, 2.44027129e-02, 3.19104388e-02,\n",
              "        2.40558219e-02, 9.72718066e-03, 4.68196563e-02, 8.72174380e-03,\n",
              "        1.12620452e-01, 3.50161063e-02, 2.30728769e-02, 1.06120264e-02,\n",
              "        6.13764462e-02, 8.19844411e-02, 1.04859906e-02, 9.27482275e-02,\n",
              "        1.35478000e-01, 1.89569771e-02, 2.25084159e-02],\n",
              "       [1.04308247e-02, 1.32982909e-02, 1.41917387e-02, 1.08674450e-02,\n",
              "        1.01479076e-02, 1.25168983e-02, 2.68052418e-02, 7.00758719e-03,\n",
              "        1.69990805e-02, 5.03572698e-02, 2.33647709e-02, 9.03887810e-03,\n",
              "        2.92919024e-02, 1.04788233e-02, 2.57698224e-02, 4.21924777e-02,\n",
              "        1.61505236e-02, 4.61565142e-02, 5.32253675e-02, 4.08190129e-02,\n",
              "        4.36748588e-02, 3.14204854e-02, 2.83631307e-02, 1.09538492e-01,\n",
              "        4.57121975e-02, 4.47249367e-02, 2.80940232e-02, 6.90828315e-02,\n",
              "        4.37302003e-02, 3.82771473e-02, 4.82713189e-02],\n",
              "       [2.02551153e-02, 1.22011288e-02, 3.04181846e-02, 7.03453697e-02,\n",
              "        3.73790309e-02, 1.74626298e-02, 9.78025181e-03, 1.05966957e-01,\n",
              "        1.17479031e-02, 2.02808602e-02, 1.22246484e-02, 1.11837493e-01,\n",
              "        2.15829332e-02, 8.91060740e-02, 1.50511550e-02, 2.72444795e-02,\n",
              "        3.07877381e-02, 3.40811485e-03, 1.75490936e-02, 8.08306606e-03,\n",
              "        1.01390572e-01, 2.69271042e-02, 7.10760985e-03, 2.00101176e-03,\n",
              "        2.20976402e-02, 4.19649026e-02, 4.60630919e-03, 2.56537022e-02,\n",
              "        8.83154414e-02, 2.86032194e-03, 4.36315650e-03],\n",
              "       [5.60758598e-04, 5.08159437e-03, 4.93656332e-03, 3.23078179e-03,\n",
              "        6.95917671e-03, 7.53250865e-03, 5.39126855e-03, 2.68812449e-03,\n",
              "        1.22633060e-02, 6.75180115e-03, 1.05702901e-02, 4.19841941e-03,\n",
              "        3.07547533e-02, 9.19018778e-03, 2.41930041e-02, 3.63359140e-02,\n",
              "        1.22283088e-02, 1.36646775e-02, 8.19180111e-02, 1.02401365e-02,\n",
              "        9.43130445e-02, 2.39430106e-02, 3.40282946e-02, 2.22519213e-02,\n",
              "        4.91539618e-02, 8.04470515e-02, 9.11071378e-03, 1.17005756e-01,\n",
              "        1.63580188e-01, 5.94649618e-02, 5.80115097e-02],\n",
              "       [6.97074443e-03, 8.18228610e-03, 7.07564427e-03, 5.65082586e-03,\n",
              "        6.00400950e-03, 7.59574309e-03, 2.05178392e-02, 5.00776041e-03,\n",
              "        1.34964390e-02, 5.32459520e-02, 2.22270544e-02, 7.11985385e-03,\n",
              "        2.92248478e-02, 7.21257337e-03, 1.97392601e-02, 3.71260559e-02,\n",
              "        1.59860111e-02, 5.00389743e-02, 3.88913787e-02, 3.97800235e-02,\n",
              "        3.55254306e-02, 3.22139027e-02, 3.24685963e-02, 1.26965091e-01,\n",
              "        6.04323609e-02, 4.56154716e-02, 3.76695926e-02, 6.22733747e-02,\n",
              "        4.30059570e-02, 4.38618760e-02, 7.88750702e-02],\n",
              "       [1.76107836e-02, 1.54935547e-02, 1.48021976e-02, 1.51034734e-02,\n",
              "        1.02190287e-02, 1.26687310e-02, 2.50000707e-02, 7.19630157e-03,\n",
              "        2.18239404e-02, 7.99688981e-02, 2.49872959e-02, 1.02245704e-02,\n",
              "        4.65173428e-02, 1.05311944e-02, 2.50200342e-02, 3.32198788e-02,\n",
              "        1.26118290e-02, 6.02876987e-02, 4.32918041e-02, 2.89089419e-02,\n",
              "        3.73969341e-02, 3.68959169e-02, 2.50218036e-02, 1.02934495e-01,\n",
              "        5.02875939e-02, 4.07777232e-02, 1.44313616e-02, 7.02649340e-02,\n",
              "        3.87898903e-02, 3.78410144e-02, 2.98707635e-02],\n",
              "       [9.53157826e-04, 4.86500404e-03, 2.67355164e-03, 1.27161445e-03,\n",
              "        2.90369637e-03, 2.54175165e-03, 5.05622691e-03, 5.75956890e-04,\n",
              "        1.06373281e-02, 2.34062805e-02, 1.14811963e-02, 9.77677404e-04,\n",
              "        3.79204865e-02, 1.78533665e-03, 2.25123675e-02, 2.72117385e-02,\n",
              "        5.35134188e-03, 6.25094556e-02, 5.35149220e-02, 1.68944104e-02,\n",
              "        2.83750203e-02, 2.50610466e-02, 3.27907171e-02, 1.31605050e-01,\n",
              "        4.59557510e-02, 5.05350384e-02, 1.04333846e-02, 9.97030493e-02,\n",
              "        5.61524264e-02, 1.42278445e-01, 8.20665704e-02],\n",
              "       [2.09300131e-03, 1.36157780e-02, 2.34802401e-02, 3.08981547e-02,\n",
              "        2.53242907e-02, 3.31054469e-02, 1.41356681e-02, 5.75973238e-02,\n",
              "        1.10099699e-02, 5.29961362e-03, 1.07466759e-02, 4.51317214e-02,\n",
              "        1.19105916e-02, 5.96822187e-02, 1.78797055e-02, 2.05130177e-02,\n",
              "        2.52259272e-02, 2.13128895e-03, 3.56311630e-02, 6.11122648e-03,\n",
              "        2.44909579e-01, 1.18797112e-02, 1.57016638e-02, 1.47689461e-03,\n",
              "        1.19101733e-02, 3.19818496e-02, 2.73098946e-03, 2.67465395e-02,\n",
              "        1.81618456e-01, 4.47189465e-03, 1.50492255e-02],\n",
              "       [8.95679615e-03, 1.02253651e-02, 2.94951208e-02, 7.89618280e-02,\n",
              "        4.62581721e-02, 1.39257916e-02, 3.88487735e-03, 1.68818278e-01,\n",
              "        6.75532990e-03, 6.07355029e-03, 5.83266220e-03, 1.37732477e-01,\n",
              "        1.13193186e-02, 1.14795545e-01, 1.02535289e-02, 1.36440177e-02,\n",
              "        2.42627423e-02, 7.21974764e-04, 8.80299277e-03, 2.41079277e-03,\n",
              "        1.29381404e-01, 1.31248986e-02, 3.32401017e-03, 1.79181622e-04,\n",
              "        6.77390078e-03, 2.44623258e-02, 9.26730375e-04, 1.02756144e-02,\n",
              "        1.05968739e-01, 9.68520137e-04, 1.48351447e-03],\n",
              "       [2.18804133e-01, 5.08830475e-02, 1.01065601e-01, 7.17432530e-02,\n",
              "        2.41344552e-02, 3.06979942e-02, 3.66639360e-02, 2.08046835e-02,\n",
              "        3.56932434e-02, 9.02583102e-02, 2.30546019e-02, 1.88689999e-02,\n",
              "        5.11136482e-02, 2.07747409e-02, 1.64767494e-02, 2.10383267e-02,\n",
              "        6.79400808e-03, 2.48099362e-02, 2.40108216e-02, 1.76929177e-02,\n",
              "        1.29118530e-02, 1.76884633e-02, 5.91070860e-03, 1.12721535e-02,\n",
              "        6.94787974e-03, 8.33373548e-03, 1.56579327e-03, 1.28248535e-02,\n",
              "        9.36790299e-03, 6.68537000e-03, 1.10787906e-03],\n",
              "       [3.32960023e-03, 8.59854755e-03, 1.16807809e-02, 7.77383846e-03,\n",
              "        9.53810794e-03, 1.13417121e-02, 1.25154759e-02, 8.74810470e-03,\n",
              "        1.53033574e-02, 2.30898813e-02, 1.74176445e-02, 1.11014819e-02,\n",
              "        4.05833508e-02, 1.67522774e-02, 2.13654947e-02, 4.81209871e-02,\n",
              "        1.82288624e-02, 1.52777984e-02, 6.61138764e-02, 1.91916531e-02,\n",
              "        1.08492866e-01, 2.90841860e-02, 2.87503630e-02, 2.40191556e-02,\n",
              "        4.66804401e-02, 6.56390708e-02, 9.44082372e-03, 7.49026966e-02,\n",
              "        1.53222654e-01, 2.84899096e-02, 4.52050010e-02],\n",
              "       [6.75301421e-04, 1.98734093e-03, 2.04480278e-03, 5.26683568e-04,\n",
              "        1.56163236e-03, 1.60771871e-03, 4.18624557e-03, 7.23163959e-04,\n",
              "        6.36590361e-03, 2.02535798e-02, 1.06267706e-02, 1.16899643e-03,\n",
              "        3.54552269e-02, 2.24191077e-03, 1.15011325e-02, 5.30821452e-02,\n",
              "        8.35525200e-03, 2.42465845e-02, 5.91615062e-02, 2.67506593e-02,\n",
              "        4.13822544e-02, 2.29663555e-02, 3.07266139e-02, 9.12637079e-02,\n",
              "        6.02173650e-02, 6.60069017e-02, 1.68374897e-02, 7.67427426e-02,\n",
              "        1.12594807e-01, 7.37714816e-02, 1.34967724e-01]])"
            ]
          },
          "metadata": {},
          "execution_count": 20
        }
      ]
    }
  ]
}