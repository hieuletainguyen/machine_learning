{
 "cells": [
  {
   "cell_type": "code",
   "execution_count": 2,
   "metadata": {},
   "outputs": [
    {
     "data": {
      "text/plain": [
       "0.7318931971474492"
      ]
     },
     "execution_count": 2,
     "metadata": {},
     "output_type": "execute_result"
    }
   ],
   "source": [
    "# Chapter 13\n",
    "\n",
    "# 13.1 fitting a linear regression model \n",
    "from sklearn.linear_model import LinearRegression\n",
    "from sklearn.datasets import load_breast_cancer\n",
    "from sklearn.model_selection import train_test_split\n",
    "\n",
    "breast_cancer = load_breast_cancer()\n",
    "features = breast_cancer.data \n",
    "target = breast_cancer.target \n",
    "\n",
    "x_train, x_test, y_train, y_test = train_test_split(features, target, test_size = 0.3, random_state = 0)\n",
    "\n",
    "linear_regression = LinearRegression()\n",
    "model = linear_regression.fit(x_train, y_train)\n",
    "\n",
    "predictions = model.predict(x_test)\n",
    "\n",
    "score = model.score(x_test, y_test)\n",
    "score\n"
   ]
  },
  {
   "cell_type": "code",
   "execution_count": 3,
   "metadata": {},
   "outputs": [
    {
     "data": {
      "text/plain": [
       "np.float64(3.2524971171123975)"
      ]
     },
     "execution_count": 3,
     "metadata": {},
     "output_type": "execute_result"
    }
   ],
   "source": [
    "model.intercept_"
   ]
  },
  {
   "cell_type": "code",
   "execution_count": 4,
   "metadata": {},
   "outputs": [
    {
     "data": {
      "text/plain": [
       "array([ 1.97637851e-01, -7.55859420e-03, -2.37617550e-02, -5.80376333e-05,\n",
       "       -2.00295592e-02,  4.59973993e+00, -1.34759745e+00, -1.44808791e+00,\n",
       "       -1.15245850e+00, -1.48033783e-01, -7.47824509e-01, -2.03158789e-02,\n",
       "        5.61186432e-02,  9.66759667e-04, -9.30073200e+00, -8.34698729e-01,\n",
       "        2.03580629e+00, -5.18972240e+00, -4.82322550e+00,  3.06408835e+01,\n",
       "       -1.59822998e-01, -3.11107825e-03, -2.60772895e-03,  9.89054770e-04,\n",
       "       -8.58442946e-01,  9.29759399e-02, -3.97587352e-01, -1.44117931e+00,\n",
       "        2.57254845e-01, -6.51321226e+00])"
      ]
     },
     "execution_count": 4,
     "metadata": {},
     "output_type": "execute_result"
    }
   ],
   "source": [
    "model.coef_"
   ]
  },
  {
   "cell_type": "code",
   "execution_count": 5,
   "metadata": {},
   "outputs": [],
   "source": [
    "# 13.2 Handling interactive effects \n",
    "\n",
    "from sklearn.linear_model import LinearRegression \n",
    "from sklearn.datasets import load_breast_cancer\n",
    "from sklearn.preprocessing import PolynomialFeatures \n",
    "\n",
    "breast_cancer = load_breast_cancer()\n",
    "features, target = breast_cancer.data, breast_cancer.target \n",
    "\n",
    "interaction = PolynomialFeatures(degree = 3, include_bias = False, \n",
    "                                 interaction_only = True)\n",
    "features_interaction = interaction.fit_transform(features)\n",
    "\n",
    "# create lienar regression model \n",
    "regression = LinearRegression() \n",
    "\n",
    "model = regression.fit(features_interaction, target)\n"
   ]
  },
  {
   "cell_type": "code",
   "execution_count": 6,
   "metadata": {},
   "outputs": [
    {
     "data": {
      "text/plain": [
       "array([4.33788070e-04, 7.83112871e-05, 8.84779540e-03, ...,\n",
       "       7.16826733e-06, 4.14049295e-05, 4.33300273e-06], shape=(4525,))"
      ]
     },
     "execution_count": 6,
     "metadata": {},
     "output_type": "execute_result"
    }
   ],
   "source": [
    "model.coef_"
   ]
  },
  {
   "cell_type": "code",
   "execution_count": 7,
   "metadata": {},
   "outputs": [
    {
     "data": {
      "text/plain": [
       "array([1.799e+01, 1.038e+01, 1.228e+02, 1.001e+03, 1.184e-01, 2.776e-01,\n",
       "       3.001e-01, 1.471e-01, 2.419e-01, 7.871e-02, 1.095e+00, 9.053e-01,\n",
       "       8.589e+00, 1.534e+02, 6.399e-03, 4.904e-02, 5.373e-02, 1.587e-02,\n",
       "       3.003e-02, 6.193e-03, 2.538e+01, 1.733e+01, 1.846e+02, 2.019e+03,\n",
       "       1.622e-01, 6.656e-01, 7.119e-01, 2.654e-01, 4.601e-01, 1.189e-01])"
      ]
     },
     "execution_count": 7,
     "metadata": {},
     "output_type": "execute_result"
    }
   ],
   "source": [
    "features[0]"
   ]
  },
  {
   "cell_type": "code",
   "execution_count": 8,
   "metadata": {},
   "outputs": [
    {
     "data": {
      "text/plain": [
       "np.float64(186.7362)"
      ]
     },
     "execution_count": 8,
     "metadata": {},
     "output_type": "execute_result"
    }
   ],
   "source": [
    "import numpy as np \n",
    "\n",
    "interaction_term = np.multiply(features[:, 0], features[:, 1])\n",
    "\n",
    "interaction_term[0]"
   ]
  },
  {
   "cell_type": "code",
   "execution_count": 9,
   "metadata": {},
   "outputs": [
    {
     "data": {
      "text/plain": [
       "array([1.79900000e+01, 1.03800000e+01, 1.22800000e+02, ...,\n",
       "       2.24647591e-02, 3.89451231e-02, 1.45189432e-02], shape=(4525,))"
      ]
     },
     "execution_count": 9,
     "metadata": {},
     "output_type": "execute_result"
    }
   ],
   "source": [
    "features_interaction[0]"
   ]
  },
  {
   "cell_type": "code",
   "execution_count": 10,
   "metadata": {},
   "outputs": [],
   "source": [
    "# 13.3 Fitting a nonlienar relationship \n",
    "\n",
    "from sklearn.preprocessing import PolynomialFeatures \n",
    "\n",
    "polynomial = PolynomialFeatures (degree = 3, include_bias = False)\n",
    "features_polynomial = polynomial.fit_transform(features)\n",
    "\n",
    "regression = LinearRegression() \n",
    "\n",
    "model = regression.fit(features_polynomial, target)"
   ]
  },
  {
   "cell_type": "code",
   "execution_count": 11,
   "metadata": {},
   "outputs": [
    {
     "data": {
      "text/plain": [
       "array([1.799e+01, 1.038e+01, 1.228e+02, 1.001e+03, 1.184e-01, 2.776e-01,\n",
       "       3.001e-01, 1.471e-01, 2.419e-01, 7.871e-02, 1.095e+00, 9.053e-01,\n",
       "       8.589e+00, 1.534e+02, 6.399e-03, 4.904e-02, 5.373e-02, 1.587e-02,\n",
       "       3.003e-02, 6.193e-03, 2.538e+01, 1.733e+01, 1.846e+02, 2.019e+03,\n",
       "       1.622e-01, 6.656e-01, 7.119e-01, 2.654e-01, 4.601e-01, 1.189e-01])"
      ]
     },
     "execution_count": 11,
     "metadata": {},
     "output_type": "execute_result"
    }
   ],
   "source": [
    "features[0]"
   ]
  },
  {
   "cell_type": "code",
   "execution_count": 12,
   "metadata": {},
   "outputs": [
    {
     "data": {
      "text/plain": [
       "array([3.2364010e+02, 1.0774440e+02, 1.5079840e+04, 1.0020010e+06,\n",
       "       1.4018560e-02, 7.7061760e-02, 9.0060010e-02, 2.1638410e-02,\n",
       "       5.8515610e-02, 6.1952641e-03, 1.1990250e+00, 8.1956809e-01,\n",
       "       7.3770921e+01, 2.3531560e+04, 4.0947201e-05, 2.4049216e-03,\n",
       "       2.8869129e-03, 2.5185690e-04, 9.0180090e-04, 3.8353249e-05,\n",
       "       6.4414440e+02, 3.0032890e+02, 3.4077160e+04, 4.0763610e+06,\n",
       "       2.6308840e-02, 4.4302336e-01, 5.0680161e-01, 7.0437160e-02,\n",
       "       2.1169201e-01, 1.4137210e-02])"
      ]
     },
     "execution_count": 12,
     "metadata": {},
     "output_type": "execute_result"
    }
   ],
   "source": [
    "features[0]**2"
   ]
  },
  {
   "cell_type": "code",
   "execution_count": 13,
   "metadata": {},
   "outputs": [
    {
     "data": {
      "text/plain": [
       "array([5.82228540e+03, 1.11838687e+03, 1.85180435e+06, 1.00300300e+09,\n",
       "       1.65979750e-03, 2.13923446e-02, 2.70270090e-02, 3.18301011e-03,\n",
       "       1.41549261e-02, 4.87629237e-04, 1.31293237e+00, 7.41954992e-01,\n",
       "       6.33618440e+02, 3.60974130e+06, 2.62021139e-07, 1.17937355e-04,\n",
       "       1.55113830e-04, 3.99696900e-06, 2.70810810e-05, 2.37521671e-07,\n",
       "       1.63483849e+04, 5.20469984e+03, 6.29064374e+06, 8.23017286e+09,\n",
       "       4.26729385e-03, 2.94876348e-01, 3.60792066e-01, 1.86940223e-02,\n",
       "       9.73994938e-02, 1.68091427e-03])"
      ]
     },
     "execution_count": 13,
     "metadata": {},
     "output_type": "execute_result"
    }
   ],
   "source": [
    "features[0]**3"
   ]
  },
  {
   "cell_type": "code",
   "execution_count": 14,
   "metadata": {},
   "outputs": [
    {
     "data": {
      "text/plain": [
       "array([1.79900000e+01, 1.03800000e+01, 1.22800000e+02, ...,\n",
       "       2.51701800e-02, 6.50453032e-03, 1.68091427e-03], shape=(5455,))"
      ]
     },
     "execution_count": 14,
     "metadata": {},
     "output_type": "execute_result"
    }
   ],
   "source": [
    "features_polynomial[0]"
   ]
  },
  {
   "cell_type": "code",
   "execution_count": null,
   "metadata": {},
   "outputs": [],
   "source": [
    "# PolynomialFeautres ha 2 important parameters:\n",
    "# 1. degree: the degree of the polynomial \n",
    "# 2. interaction_only: whether to include only interaction features or not \n"
   ]
  },
  {
   "cell_type": "code",
   "execution_count": 1,
   "metadata": {},
   "outputs": [],
   "source": [
    "# 13.4 Reducing variance with regularization \n",
    "\n",
    "from sklearn.linear_model import Ridge \n",
    "from sklearn.datasets import load_breast_cancer \n",
    "from sklearn.preprocessing import StandardScaler \n",
    "\n",
    "breast_cancer = load_breast_cancer() \n",
    "features = breast_cancer.data \n",
    "target = breast_cancer.target \n",
    "\n",
    "scaler = StandardScaler() \n",
    "\n",
    "scaler = StandardScaler() \n",
    "\n",
    "features_standardized = scaler.fit_transform(features)\n",
    "regression = Ridge(alpha = 0.1) \n",
    "model = regression.fit(features_standardized, target)"
   ]
  },
  {
   "cell_type": "code",
   "execution_count": 5,
   "metadata": {},
   "outputs": [
    {
     "name": "stdout",
     "output_type": "stream",
     "text": [
      "the score of the model:  0.7740173735099762\n",
      "the coefficients of the model:  [ 2.96738185e-01 -1.81834771e-02 -1.99458069e-01 -3.33365545e-02\n",
      "  2.27125762e-03  1.98436491e-01 -1.23100111e-01 -8.20503058e-02\n",
      " -6.82486354e-04  2.94796526e-03 -1.35303179e-01  5.62690008e-03\n",
      "  3.95915610e-02  5.55373657e-02 -4.65851993e-02 -2.38920964e-03\n",
      "  1.10087339e-01 -6.01918858e-02 -1.33340898e-02  1.87842759e-02\n",
      " -7.49914626e-01 -4.71895845e-02  2.03061394e-02  4.80864628e-01\n",
      " -1.64141515e-02 -1.36892998e-03 -7.84148383e-02 -3.46964756e-02\n",
      " -3.69641232e-02 -8.10277885e-02]\n"
     ]
    }
   ],
   "source": [
    "print(\"the score of the model: \", model.score(features_standardized, target))\n",
    "print(\"the coefficients of the model: \", model.coef_)"
   ]
  },
  {
   "cell_type": "code",
   "execution_count": 8,
   "metadata": {},
   "outputs": [
    {
     "data": {
      "text/plain": [
       "array([-4.46961783e-02, -1.50583980e-02, -6.85047461e-02,  1.07646375e-01,\n",
       "        4.70773033e-03,  1.78082387e-01, -1.11962199e-01, -8.21221289e-02,\n",
       "        3.94653861e-03,  1.19882828e-02, -1.84734297e-01,  8.75701411e-03,\n",
       "        3.83181892e-02,  9.79780439e-02, -4.52612147e-02,  1.78629860e-04,\n",
       "        1.02124574e-01, -4.90608799e-02, -1.04261083e-02,  1.83627607e-02,\n",
       "       -3.85897007e-01, -5.36779506e-02, -4.80368207e-02,  2.68017729e-01,\n",
       "       -2.13883862e-02,  9.35267946e-03, -7.71488110e-02, -5.05950745e-02,\n",
       "       -4.44449308e-02, -8.80861354e-02])"
      ]
     },
     "execution_count": 8,
     "metadata": {},
     "output_type": "execute_result"
    }
   ],
   "source": [
    "from sklearn.linear_model import RidgeCV \n",
    "\n",
    "regr_cv = RidgeCV(alphas = [0.1, 1, 10])\n",
    "\n",
    "model_cv = regr_cv.fit(features_standardized, target)\n",
    "model_cv.score(features_standardized, target)\n",
    "model_cv.coef_\n"
   ]
  },
  {
   "cell_type": "code",
   "execution_count": 9,
   "metadata": {},
   "outputs": [
    {
     "data": {
      "text/plain": [
       "np.float64(1.0)"
      ]
     },
     "execution_count": 9,
     "metadata": {},
     "output_type": "execute_result"
    }
   ],
   "source": [
    "model_cv.alpha_"
   ]
  },
  {
   "cell_type": "code",
   "execution_count": 14,
   "metadata": {},
   "outputs": [],
   "source": [
    "# 13.5 reducing features with lasso regression \n",
    "\n",
    "from sklearn.linear_model import Lasso \n",
    "\n",
    "breast_cancer = load_breast_cancer() \n",
    "features, target = breast_cancer.data, breast_cancer.target\n",
    "\n",
    "scaler = StandardScaler() \n",
    "features_standardized = scaler.fit_transform(features)\n",
    "\n",
    "regression = Lasso(alpha = 0.1)\n",
    "model = regression.fit(features_standardized, target)"
   ]
  },
  {
   "cell_type": "code",
   "execution_count": 15,
   "metadata": {},
   "outputs": [
    {
     "data": {
      "text/plain": [
       "array([-0.        , -0.        , -0.        , -0.        , -0.        ,\n",
       "       -0.        , -0.        , -0.01720381, -0.        ,  0.        ,\n",
       "       -0.        , -0.        , -0.        , -0.        , -0.        ,\n",
       "       -0.        , -0.        , -0.        , -0.        , -0.        ,\n",
       "       -0.1296136 , -0.01093637, -0.        , -0.        , -0.        ,\n",
       "       -0.        , -0.        , -0.16202985, -0.        , -0.        ])"
      ]
     },
     "execution_count": 15,
     "metadata": {},
     "output_type": "execute_result"
    }
   ],
   "source": [
    "model.coef_"
   ]
  }
 ],
 "metadata": {
  "kernelspec": {
   "display_name": "mlvenv",
   "language": "python",
   "name": "python3"
  },
  "language_info": {
   "codemirror_mode": {
    "name": "ipython",
    "version": 3
   },
   "file_extension": ".py",
   "mimetype": "text/x-python",
   "name": "python",
   "nbconvert_exporter": "python",
   "pygments_lexer": "ipython3",
   "version": "3.13.1"
  }
 },
 "nbformat": 4,
 "nbformat_minor": 2
}
