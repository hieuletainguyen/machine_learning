{
 "cells": [
  {
   "cell_type": "code",
   "execution_count": 19,
   "metadata": {},
   "outputs": [],
   "source": [
    "# Dimenionality reduction using Feature extraction\n",
    "from sklearn.preprocessing import StandardScaler \n",
    "from sklearn import datasets \n",
    "from sklearn.decomposition import PCA, KernelPCA, NMF, TruncatedSVD\n",
    "from sklearn.datasets import make_circles \n",
    "from sklearn.discriminant_analysis import LinearDiscriminantAnalysis \n",
    "from scipy.sparse import csr_matrix"
   ]
  },
  {
   "cell_type": "code",
   "execution_count": 2,
   "metadata": {},
   "outputs": [
    {
     "name": "stdout",
     "output_type": "stream",
     "text": [
      "original number of features:  64\n",
      "reduced number of features:  54\n"
     ]
    }
   ],
   "source": [
    "# 9.1 Reducing features using principal components \n",
    "digits = datasets.load_digits()\n",
    "features = StandardScaler().fit_transform(digits.data)\n",
    "\n",
    "pca = PCA(n_components = 0.99, whiten = True)\n",
    "\n",
    "features_pca = pca.fit_transform(features)\n",
    "\n",
    "print(\"original number of features: \", features.shape[1])\n",
    "print(\"reduced number of features: \", features_pca.shape[1])\n",
    "\n",
    "# Principal component analysis (PCA) is a linear dimensionality reduction technique.\n",
    "# it projects observations onto the principal components of the feature matrix that retian the most variance \n"
   ]
  },
  {
   "cell_type": "code",
   "execution_count": 6,
   "metadata": {},
   "outputs": [
    {
     "name": "stdout",
     "output_type": "stream",
     "text": [
      "original number of features:  2\n",
      "reduced number of features:  1\n"
     ]
    }
   ],
   "source": [
    "# 9.2 Reducing features when data is linearly inseparable\n",
    "\n",
    "features, _ = make_circles(n_samples=1000, random_state = 1, noise = 0.1, factor = 0.1)\n",
    "\n",
    "kpca = KernelPCA(kernel = \"rbf\", gamma = 15, n_components = 1)\n",
    "features_kpca = kpca.fit_transform(features)\n",
    "\n",
    "print(\"original number of features: \", features.shape[1])\n",
    "print(\"reduced number of features: \", features_kpca.shape[1])\n",
    "\n",
    "# PCA is able to reduce the dimensionality of the feature matrix \n"
   ]
  },
  {
   "cell_type": "code",
   "execution_count": 10,
   "metadata": {},
   "outputs": [
    {
     "name": "stdout",
     "output_type": "stream",
     "text": [
      "(150, 4)\n",
      "Original number of features:  4\n",
      "Reduced number of features:  1\n"
     ]
    }
   ],
   "source": [
    "# 9.3 reducing features by maximizing class separability \n",
    "iris = datasets.load_iris() \n",
    "features = iris.data\n",
    "target = iris.target \n",
    "print(features.shape)\n",
    "\n",
    "lda = LinearDiscriminantAnalysis(n_components = 1) \n",
    "features_lda = lda.fit(features, target).transform(features)\n",
    "\n",
    "print(\"Original number of features: \", features.shape[1])\n",
    "print(\"Reduced number of features: \", features_lda.shape[1])\n",
    "\n",
    "# LDA (linear Discriminant Analysis) is a classification algo that reduce the dimensionality.\n",
    "# In PCA were only interested in the component axes that maximize the variance in the data \n",
    "# In LDA have the additional goal of maximizing the differences between classes\n"
   ]
  },
  {
   "cell_type": "code",
   "execution_count": 12,
   "metadata": {},
   "outputs": [
    {
     "data": {
      "text/plain": [
       "array([0.9912126])"
      ]
     },
     "execution_count": 12,
     "metadata": {},
     "output_type": "execute_result"
    }
   ],
   "source": [
    "lda.explained_variance_ratio_"
   ]
  },
  {
   "cell_type": "code",
   "execution_count": 15,
   "metadata": {},
   "outputs": [
    {
     "name": "stdout",
     "output_type": "stream",
     "text": [
      "features_lda:  LinearDiscriminantAnalysis(n_components=1)\n",
      "lda_var_ratios:  [0.9912126]\n",
      "Number of components:  1\n"
     ]
    }
   ],
   "source": [
    "lda = LinearDiscriminantAnalysis(n_components = 1) \n",
    "features_lda = lda.fit(features, target)\n",
    "\n",
    "print(\"features_lda: \", features_lda)\n",
    "lda_var_ratios = lda.explained_variance_ratio_\n",
    "print(\"lda_var_ratios: \", lda_var_ratios)\n",
    "\n",
    "def select_n_componets(var_ratio, goal_var):\n",
    "    total_variance = 0.0 \n",
    "    n_components = 0 \n",
    "    for explained_variance in var_ratio:\n",
    "        total_variance += explained_variance \n",
    "\n",
    "        n_components += 1\n",
    "\n",
    "        if total_variance >= goal_var:\n",
    "            break \n",
    "\n",
    "    return n_components\n",
    "\n",
    "n_components = select_n_componets(lda_var_ratios, 0.95)\n",
    "print(\"Number of components: \", n_components)"
   ]
  },
  {
   "cell_type": "code",
   "execution_count": 17,
   "metadata": {},
   "outputs": [
    {
     "name": "stdout",
     "output_type": "stream",
     "text": [
      "original number of features:  64\n",
      "reduced number of features:  10\n"
     ]
    },
    {
     "name": "stderr",
     "output_type": "stream",
     "text": [
      "/Users/hieunguyen/Documents/machine_learning/mlvenv/lib/python3.13/site-packages/sklearn/decomposition/_nmf.py:1742: ConvergenceWarning: Maximum number of iterations 200 reached. Increase it to improve convergence.\n",
      "  warnings.warn(\n"
     ]
    }
   ],
   "source": [
    "# 9.4 reducing features using matrix factorization \n",
    "\n",
    "digits = datasets.load_digits()\n",
    "features = digits.data \n",
    "nmf = NMF(n_components = 10, random_state = 1)\n",
    "features_nmf = nmf.fit_transform(features)\n",
    "\n",
    "print(\"original number of features: \", features.shape[1])\n",
    "print(\"reduced number of features: \", features_nmf.shape[1])\n",
    "\n",
    "# NMF (non-negative matrix factorization) is a matrix factorization technique that \n",
    "# decomposes the feature matrix into two lower-rank matrices.\n",
    "# The first matrix contains the principal components, and the second matrix contains \n",
    "# the weights of the principal components.\n",
    "\n",
    "\n"
   ]
  },
  {
   "cell_type": "code",
   "execution_count": 20,
   "metadata": {},
   "outputs": [
    {
     "name": "stdout",
     "output_type": "stream",
     "text": [
      "original number of features:  64\n",
      "reduced number of features:  10\n"
     ]
    }
   ],
   "source": [
    "# 9.5 Reducin features on sparse data \n",
    "\n",
    "digits = datasets.load_digits()\n",
    "features = StandardScaler().fit_transform(digits.data)\n",
    "features_sparse = csr_matrix(features)\n",
    "\n",
    "tsvd = TruncatedSVD(n_components = 10)\n",
    "features_sparse_tsvd = tsvd.fit(features_sparse).transform(features_sparse)\n",
    "\n",
    "print(\"original number of features: \", features_sparse.shape[1])\n",
    "print(\"reduced number of features: \", features_sparse_tsvd.shape[1])\n",
    "\n",
    "# TruncatedSVD (Truncated Singular Value Decomposition) \n"
   ]
  },
  {
   "cell_type": "code",
   "execution_count": 21,
   "metadata": {},
   "outputs": [
    {
     "data": {
      "text/plain": [
       "np.float64(0.30039385373686134)"
      ]
     },
     "execution_count": 21,
     "metadata": {},
     "output_type": "execute_result"
    }
   ],
   "source": [
    "tsvd.explained_variance_ratio_[:3].sum()"
   ]
  },
  {
   "cell_type": "code",
   "execution_count": 26,
   "metadata": {},
   "outputs": [
    {
     "data": {
      "text/plain": [
       "10"
      ]
     },
     "execution_count": 26,
     "metadata": {},
     "output_type": "execute_result"
    }
   ],
   "source": [
    "tsvd_new = TruncatedSVD(n_components = features_sparse.shape[1] - 1)\n",
    "features_tsvd = tsvd.fit(features)\n",
    "\n",
    "# List of explanied variance \n",
    "tsvd_var_ratios = tsvd.explained_variance_ratio_\n",
    "\n",
    "def select_n_components(var_ratio, goal_var):\n",
    "    total_variance = 0.0 \n",
    "    n_components = 0 \n",
    "    for explained_variance in var_ratio:\n",
    "        total_variance += explained_variance \n",
    "\n",
    "        n_components += 1\n",
    "        if total_variance >= goal_var:\n",
    "            break\n",
    "\n",
    "    return n_components\n",
    "\n",
    "select_n_components(tsvd_var_ratios, 0.95)\n",
    "        "
   ]
  },
  {
   "cell_type": "markdown",
   "metadata": {},
   "source": [
    "<image src=\"assets/svd.png\">\n",
    "<image src=\"assets/explain.png\">"
   ]
  },
  {
   "cell_type": "markdown",
   "metadata": {},
   "source": []
  }
 ],
 "metadata": {
  "kernelspec": {
   "display_name": "mlvenv",
   "language": "python",
   "name": "python3"
  },
  "language_info": {
   "codemirror_mode": {
    "name": "ipython",
    "version": 3
   },
   "file_extension": ".py",
   "mimetype": "text/x-python",
   "name": "python",
   "nbconvert_exporter": "python",
   "pygments_lexer": "ipython3",
   "version": "3.13.1"
  }
 },
 "nbformat": 4,
 "nbformat_minor": 2
}
