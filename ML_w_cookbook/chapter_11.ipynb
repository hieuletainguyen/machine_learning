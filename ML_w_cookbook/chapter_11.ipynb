{
 "cells": [
  {
   "cell_type": "code",
   "execution_count": 3,
   "metadata": {},
   "outputs": [],
   "source": [
    "# Model evaluation\n",
    "from sklearn import datasets\n",
    "import matplotlib.pyplot as plt\n",
    "from sklearn import metrics \n",
    "from sklearn.model_selection import KFold, cross_val_score \n",
    "from sklearn.pipeline import make_pipeline\n",
    "from sklearn.linear_model import LogisticRegression\n",
    "from sklearn.preprocessing import StandardScaler\n",
    "from sklearn.model_selection import train_test_split, cross_val_score\n",
    "from sklearn.datasets import load_diabetes, load_iris, make_classification\n",
    "from sklearn.dummy import DummyRegressor, DummyClassifier\n",
    "from sklearn.linear_model import LinearRegression\n",
    "from sklearn.ensemble import RandomForestClassifier\n",
    "from sklearn.metrics import accuracy_score, roc_curve, roc_auc_score\n",
    "\n"
   ]
  },
  {
   "cell_type": "code",
   "execution_count": 4,
   "metadata": {},
   "outputs": [
    {
     "data": {
      "text/plain": [
       "np.float64(0.9699472377405337)"
      ]
     },
     "execution_count": 4,
     "metadata": {},
     "output_type": "execute_result"
    }
   ],
   "source": [
    "# 11.1 Cross-validating models\n",
    "digits = datasets.load_digits()\n",
    "features = digits.data \n",
    "target = digits.target \n",
    "standardizer = StandardScaler()\n",
    "logit = LogisticRegression()\n",
    "pipeline = make_pipeline(standardizer, logit)\n",
    "kf = KFold(n_splits=10, shuffle = True, random_state = 1)\n",
    "cv_results = cross_val_score(pipeline, \n",
    "                            features, \n",
    "                            target, \n",
    "                            cv = kf, \n",
    "                            scoring = \"accuracy\", \n",
    "                            n_jobs = -1)\n",
    "\n",
    "cv_results.mean()\n",
    "\n",
    "# kfold cross-validation\n",
    "# we split the data intro k parts called folds\n",
    "# The model is then trained suing k - 1 folds - combined into training set - and then \n",
    "# the last fold as the test set \n",
    "# The performance on the model for each of the k oiterations is then averaged to produce an \n",
    "# overall measurement.\n",
    "\n",
    "\n"
   ]
  },
  {
   "cell_type": "code",
   "execution_count": 5,
   "metadata": {},
   "outputs": [
    {
     "data": {
      "text/plain": [
       "array([0.97777778, 0.98888889, 0.96111111, 0.94444444, 0.97777778,\n",
       "       0.98888889, 0.95555556, 0.98882682, 0.97765363, 0.93854749])"
      ]
     },
     "execution_count": 5,
     "metadata": {},
     "output_type": "execute_result"
    }
   ],
   "source": [
    "cv_results"
   ]
  },
  {
   "cell_type": "code",
   "execution_count": 6,
   "metadata": {},
   "outputs": [],
   "source": [
    "# # important points:\n",
    "# 1. Assume each observation was created independent from the others (IID)\n",
    "\n",
    "# 2. when we use KFCV to evaluate a classifier, it is often beneficial to have folds \n",
    "# containing roughly the same percentage of observations from each of the different \n",
    "# target classes (stratified cross-validation)\n",
    "\n",
    "# 3. when using validation sets or cross-validation, it is important to preprocess \n",
    "# data based on the training set and then apply those transformations to both \n",
    "# the training and test sets. \n"
   ]
  },
  {
   "cell_type": "code",
   "execution_count": 7,
   "metadata": {},
   "outputs": [],
   "source": [
    "features_train, features_test, target_train, target_test = train_test_split(features, \n",
    "                                                                            target, \n",
    "                                                                            test_size=0.1, \n",
    "                                                                            random_state = 1)\n",
    "standardizer.fit(features_train)\n",
    "features_train_std = standardizer.transform(features_train)\n",
    "features_test_std = standardizer.transform(features_test)\n"
   ]
  },
  {
   "cell_type": "code",
   "execution_count": 8,
   "metadata": {},
   "outputs": [],
   "source": [
    "pipeline = make_pipeline(standardizer, logit)\n",
    "cv_results = cross_val_score(pipeline, \n",
    "                             features, \n",
    "                             target, \n",
    "                             cv=kf, \n",
    "                             scoring=\"accuracy\", \n",
    "                             n_jobs = -1)\n"
   ]
  },
  {
   "cell_type": "code",
   "execution_count": 9,
   "metadata": {},
   "outputs": [
    {
     "data": {
      "text/plain": [
       "array([0.97777778, 0.98888889, 0.96111111, 0.94444444, 0.97777778,\n",
       "       0.98888889, 0.95555556, 0.98882682, 0.97765363, 0.93854749])"
      ]
     },
     "execution_count": 9,
     "metadata": {},
     "output_type": "execute_result"
    }
   ],
   "source": [
    "cv_results"
   ]
  },
  {
   "cell_type": "code",
   "execution_count": 10,
   "metadata": {},
   "outputs": [
    {
     "data": {
      "text/plain": [
       "-0.007035918242200845"
      ]
     },
     "execution_count": 10,
     "metadata": {},
     "output_type": "execute_result"
    }
   ],
   "source": [
    "# 11.2 creating a baseline regression model \n",
    "diabetes = load_diabetes()\n",
    "features, target = diabetes.data, diabetes.target \n",
    "features_train, features_test, target_train, target_test = train_test_split(\n",
    "    features, target, random_state = 1)\n",
    "\n",
    "dummy = DummyRegressor(strategy=\"mean\")\n",
    "dummy.fit(features_train, target_train)\n",
    "dummy.score(features_test, target_test)"
   ]
  },
  {
   "cell_type": "code",
   "execution_count": 11,
   "metadata": {},
   "outputs": [
    {
     "data": {
      "text/plain": [
       "0.4439690125828355"
      ]
     },
     "execution_count": 11,
     "metadata": {},
     "output_type": "execute_result"
    }
   ],
   "source": [
    "# to compare, we trian our model and evaluate the performance score \n",
    "ols = LinearRegression() \n",
    "ols.fit(features_train, target_train)\n",
    "\n",
    "ols.score(features_test, target_test)"
   ]
  },
  {
   "cell_type": "code",
   "execution_count": 12,
   "metadata": {},
   "outputs": [
    {
     "data": {
      "text/plain": [
       "-3.1181539467984978"
      ]
     },
     "execution_count": 12,
     "metadata": {},
     "output_type": "execute_result"
    }
   ],
   "source": [
    "clf = DummyRegressor(strategy=\"constant\", constant=20)\n",
    "clf.fit(features_train, target_train)\n",
    "clf.score(features_test, target_test)\n",
    "\n",
    "\n"
   ]
  },
  {
   "cell_type": "markdown",
   "metadata": {},
   "source": [
    "<img src=\"./assets/r_square.png\">"
   ]
  },
  {
   "cell_type": "code",
   "execution_count": 13,
   "metadata": {},
   "outputs": [
    {
     "data": {
      "text/plain": [
       "0.3157894736842105"
      ]
     },
     "execution_count": 13,
     "metadata": {},
     "output_type": "execute_result"
    }
   ],
   "source": [
    "# 11.3 Creating a baseline classification Model \n",
    "iris = load_iris() \n",
    "features, target = iris.data, iris.target \n",
    "\n",
    "features_train, features_test, target_train, target_test = train_test_split(\n",
    "    features, target, random_state = 0\n",
    ")\n",
    "\n",
    "clf = DummyClassifier(strategy=\"uniform\")\n",
    "clf.fit(features_train, target_train)\n",
    "clf.score(features_test, target_test)\n"
   ]
  },
  {
   "cell_type": "code",
   "execution_count": 14,
   "metadata": {},
   "outputs": [
    {
     "data": {
      "text/plain": [
       "0.9736842105263158"
      ]
     },
     "execution_count": 14,
     "metadata": {},
     "output_type": "execute_result"
    }
   ],
   "source": [
    "classifier = RandomForestClassifier()\n",
    "classifier.fit(features_train, target_train)\n",
    "classifier.score(features_test, target_test)"
   ]
  },
  {
   "cell_type": "code",
   "execution_count": 15,
   "metadata": {},
   "outputs": [
    {
     "data": {
      "text/plain": [
       "array([0.9322 , 0.933  , 0.9359 , 0.93375, 0.93705])"
      ]
     },
     "execution_count": 15,
     "metadata": {},
     "output_type": "execute_result"
    }
   ],
   "source": [
    "# 11.4 Evaluating Binary Classifer Predictions \n",
    "x,y = make_classification(n_samples = 100000, \n",
    "                          n_features=3, \n",
    "                          n_informative = 3, \n",
    "                          n_redundant = 0, \n",
    "                          n_classes = 2, \n",
    "                          random_state = 1)\n",
    "logit = LogisticRegression()\n",
    "cross_val_score(logit, x, y, scoring=\"accuracy\")\n"
   ]
  },
  {
   "cell_type": "markdown",
   "metadata": {},
   "source": [
    "<img src=\"./assets/accuracy.png\">"
   ]
  },
  {
   "cell_type": "code",
   "execution_count": 16,
   "metadata": {},
   "outputs": [
    {
     "data": {
      "text/plain": [
       "array([0.9555, 0.95  , 0.9585, 0.9555, 0.956 ])"
      ]
     },
     "execution_count": 16,
     "metadata": {},
     "output_type": "execute_result"
    }
   ],
   "source": [
    "x, y = make_classification(n_samples = 10000, \n",
    "                           n_features = 3, \n",
    "                           n_informative = 3, \n",
    "                           n_redundant = 0, \n",
    "                           n_classes = 2, \n",
    "                           random_state = 1)\n",
    "logit = LogisticRegression() \n",
    "cross_val_score(logit, x, y, scoring=\"accuracy\")"
   ]
  },
  {
   "cell_type": "code",
   "execution_count": 17,
   "metadata": {},
   "outputs": [
    {
     "data": {
      "text/plain": [
       "array([0.95963673, 0.94820717, 0.9635996 , 0.96149949, 0.96060606])"
      ]
     },
     "execution_count": 17,
     "metadata": {},
     "output_type": "execute_result"
    }
   ],
   "source": [
    "cross_val_score(logit, x, y, scoring=\"precision\")"
   ]
  },
  {
   "cell_type": "markdown",
   "metadata": {},
   "source": [
    "<img src=\"./assets/precision.png\">"
   ]
  },
  {
   "cell_type": "code",
   "execution_count": 18,
   "metadata": {},
   "outputs": [
    {
     "data": {
      "text/plain": [
       "array([0.951, 0.952, 0.953, 0.949, 0.951])"
      ]
     },
     "execution_count": 18,
     "metadata": {},
     "output_type": "execute_result"
    }
   ],
   "source": [
    "cross_val_score(logit, x, y, scoring=\"recall\")\n"
   ]
  },
  {
   "cell_type": "markdown",
   "metadata": {},
   "source": [
    "<img src=\"./assets/recall_1.png\">\n",
    "<img src=\"./assets/recall_2.png\">"
   ]
  },
  {
   "cell_type": "code",
   "execution_count": 19,
   "metadata": {},
   "outputs": [
    {
     "data": {
      "text/plain": [
       "array([0.95529884, 0.9500998 , 0.95827049, 0.95520886, 0.95577889])"
      ]
     },
     "execution_count": 19,
     "metadata": {},
     "output_type": "execute_result"
    }
   ],
   "source": [
    "cross_val_score(logit, x, y, scoring=\"f1\")"
   ]
  },
  {
   "cell_type": "markdown",
   "metadata": {},
   "source": [
    "<img src=\"./assets/f1.png\">"
   ]
  },
  {
   "cell_type": "code",
   "execution_count": 20,
   "metadata": {},
   "outputs": [],
   "source": [
    "x_train, x_test, y_train, y_test = train_test_split(x, y,\n",
    "                                                    test_size = 0.1, \n",
    "                                                    random_state = 1\n",
    "                                                    )"
   ]
  },
  {
   "cell_type": "code",
   "execution_count": 21,
   "metadata": {},
   "outputs": [
    {
     "data": {
      "text/plain": [
       "0.947"
      ]
     },
     "execution_count": 21,
     "metadata": {},
     "output_type": "execute_result"
    }
   ],
   "source": [
    "y_hat = logit.fit(x_train, y_train).predict(x_test)\n",
    "accuracy_score(y_test, y_hat)"
   ]
  },
  {
   "cell_type": "code",
   "execution_count": 22,
   "metadata": {},
   "outputs": [],
   "source": [
    "# 11.5 evaluating binary classifier threshold \n",
    "\n",
    "# The receiving Operating Characteristic (ROC) curve is a common method \n",
    "# for evaluating the quality of a binary classifier.\n",
    "# It compares the pressence of true positives and false positives at \n",
    "# every probability threshold. \n",
    "\n",
    "features, target = make_classification(n_samples = 10000, \n",
    "                                       n_features = 10, \n",
    "                                       n_classes = 2, \n",
    "                                       n_informative = 3, \n",
    "                                       random_state = 3)\n",
    "features_train, features_test, target_train, target_test = train_test_split(\n",
    "    features, target, test_size = 0.1, random_state = 1\n",
    ")\n"
   ]
  },
  {
   "cell_type": "code",
   "execution_count": 23,
   "metadata": {},
   "outputs": [],
   "source": [
    "logit = LogisticRegression() \n",
    "logit.fit(features_train, target_train)\n",
    "target_probabilities = logit.predict_proba(features_test)[:,1]\n",
    "false_positive_rate, true_positive_rate, threshold = roc_curve(\n",
    "    target_test, \n",
    "    target_probabilities\n",
    ")"
   ]
  },
  {
   "cell_type": "code",
   "execution_count": 24,
   "metadata": {},
   "outputs": [
    {
     "data": {
      "image/png": "[encoded data removed]",
      "text/plain": [
       "<Figure size 640x480 with 1 Axes>"
      ]
     },
     "metadata": {},
     "output_type": "display_data"
    }
   ],
   "source": [
    "plt.title(\"Receiver Operating Characteristics\")\n",
    "plt.plot(false_positive_rate, true_positive_rate)\n",
    "plt.plot([0, 1], ls='--')\n",
    "plt.plot([0, 0], [1, 0], c='0.7')\n",
    "plt.plot([1, 1], c='.7')\n",
    "plt.ylabel(\"True Positive Rate\")\n",
    "plt.xlabel(\"False Positive Rate\")\n",
    "plt.show() "
   ]
  },
  {
   "cell_type": "code",
   "execution_count": 25,
   "metadata": {},
   "outputs": [
    {
     "data": {
      "text/plain": [
       "array([[0.8689235, 0.1310765]])"
      ]
     },
     "execution_count": 25,
     "metadata": {},
     "output_type": "execute_result"
    }
   ],
   "source": [
    "logit.predict_proba(features_test)[0:1]"
   ]
  },
  {
   "cell_type": "code",
   "execution_count": 26,
   "metadata": {},
   "outputs": [
    {
     "data": {
      "text/plain": [
       "array([0, 1])"
      ]
     },
     "execution_count": 26,
     "metadata": {},
     "output_type": "execute_result"
    }
   ],
   "source": [
    "logit.classes_"
   ]
  },
  {
   "cell_type": "markdown",
   "metadata": {},
   "source": [
    "<img src=\"./assets/TPR_FPR.png\">"
   ]
  },
  {
   "cell_type": "code",
   "execution_count": 27,
   "metadata": {},
   "outputs": [
    {
     "name": "stdout",
     "output_type": "stream",
     "text": [
      "Threshold  0.8188970072541014\n",
      "True Positive Rate:  0.5448979591836735\n",
      "False Positive Rate:  0.047058823529411764\n"
     ]
    }
   ],
   "source": [
    "print(\"Threshold \", threshold[45])\n",
    "print(\"True Positive Rate: \", true_positive_rate[45])\n",
    "print(\"False Positive Rate: \", false_positive_rate[45])"
   ]
  },
  {
   "cell_type": "code",
   "execution_count": 28,
   "metadata": {},
   "outputs": [
    {
     "data": {
      "text/plain": [
       "np.float64(0.9073429371748699)"
      ]
     },
     "execution_count": 28,
     "metadata": {},
     "output_type": "execute_result"
    }
   ],
   "source": [
    "roc_auc_score(target_test, target_probabilities)"
   ]
  },
  {
   "cell_type": "code",
   "execution_count": 29,
   "metadata": {},
   "outputs": [
    {
     "data": {
      "text/plain": [
       "array([0.8405, 0.829 , 0.827 , 0.8155, 0.8205])"
      ]
     },
     "execution_count": 29,
     "metadata": {},
     "output_type": "execute_result"
    }
   ],
   "source": [
    "# 11.6 Evaluating multiclass classifier predictioins \n",
    "from sklearn.model_selection import cross_val_score \n",
    "from sklearn.linear_model import LogisticRegression \n",
    "from sklearn.datasets import make_classification \n",
    "\n",
    "features, target = make_classification(\n",
    "    n_samples = 10000, \n",
    "    n_features = 3, \n",
    "    n_informative = 3, \n",
    "    n_redundant = 0, \n",
    "    n_classes = 3, \n",
    "    random_state = 1\n",
    ")\n",
    "\n",
    "logit = LogisticRegression() \n",
    "cross_val_score(logit, features, target, scoring=\"accuracy\")"
   ]
  },
  {
   "cell_type": "code",
   "execution_count": 31,
   "metadata": {},
   "outputs": [
    {
     "data": {
      "text/plain": [
       "array([0.84012014, 0.82895312, 0.82675308, 0.81515121, 0.82042629])"
      ]
     },
     "execution_count": 31,
     "metadata": {},
     "output_type": "execute_result"
    }
   ],
   "source": [
    "# Accuracy is number of correct predictions divided by the number \n",
    "# of observations and works just as well in the milticlass \n",
    "# as abinary setting\n",
    "cross_val_score(logit, features, target, scoring=\"f1_macro\")"
   ]
  },
  {
   "cell_type": "code",
   "execution_count": 33,
   "metadata": {},
   "outputs": [],
   "source": [
    "# macro refers to the method used to average the evaluation score\n",
    "# from the classes: \n",
    "# macro: mean of metric scores for each class, weighting each class equally\n",
    "# mean of metric scores for each class, weighting each class proportional \n",
    "# to its size in the data \n",
    "# micro: mean of metric scores for each observation-class combination.\n"
   ]
  },
  {
   "cell_type": "code",
   "execution_count": 35,
   "metadata": {},
   "outputs": [
    {
     "data": {
      "image/png": "[encoded data removed]",
      "text/plain": [
       "<Figure size 640x480 with 2 Axes>"
      ]
     },
     "metadata": {},
     "output_type": "display_data"
    }
   ],
   "source": [
    "# Visualizing a classifier's performance \n",
    "import matplotlib.pyplot as plt \n",
    "import seaborn as sns \n",
    "from sklearn import datasets \n",
    "from sklearn.linear_model import LogisticRegression \n",
    "from sklearn.model_selection import train_test_split \n",
    "from sklearn.metrics import confusion_matrix \n",
    "import pandas as pd \n",
    "\n",
    "iris = datasets.load_iris() \n",
    "features = iris.data \n",
    "target = iris.target \n",
    "class_names = iris.target_names \n",
    "\n",
    "feature_train, feature_test, target_train, target_test = train_test_split(\n",
    "    features, target, random_state = 1\n",
    ")\n",
    "\n",
    "classifier = LogisticRegression() \n",
    "\n",
    "target_predicted = classifier.fit(feature_train, target_train).predict(feature_test)\n",
    "\n",
    "matrix = confusion_matrix(target_test, target_predicted)\n",
    "\n",
    "dataframe = pd.DataFrame(matrix, index=class_names, columns=class_names)\n",
    "\n",
    "sns.heatmap(dataframe, annot=True, cmap=\"Blues\")\n",
    "plt.title(\"Confusion Matrix\")\n",
    "plt.tight_layout() \n",
    "plt.ylabel(\"True class\")\n",
    "plt.xlabel(\"Predicted Class\")\n",
    "plt.show()\n",
    "\n"
   ]
  },
  {
   "cell_type": "code",
   "execution_count": 39,
   "metadata": {},
   "outputs": [
    {
     "data": {
      "text/plain": [
       "array([-1974.65337976, -2004.54137625, -3935.19355723, -1060.04361386,\n",
       "       -1598.74104702])"
      ]
     },
     "execution_count": 39,
     "metadata": {},
     "output_type": "execute_result"
    }
   ],
   "source": [
    "# 11.8 Evaluating regression models \n",
    "from sklearn.datasets import make_regression\n",
    "from sklearn.model_selection import cross_val_score \n",
    "from sklearn.linear_model import LinearRegression\n",
    "\n",
    "features, target = make_regression( n_samples = 100, \n",
    "                                   n_features = 3, \n",
    "                                   n_informative = 3, \n",
    "                                   n_targets = 1, \n",
    "                                   noise = 50, \n",
    "                                   coef = False, \n",
    "                                   random_state = 1\n",
    "                                   )\n",
    "# Create a linear regression object \n",
    "ols = LinearRegression() \n",
    "\n",
    "cross_val_score(ols, features, target, scoring=\"neg_mean_squared_error\")\n"
   ]
  },
  {
   "cell_type": "markdown",
   "metadata": {},
   "source": []
  },
  {
   "cell_type": "markdown",
   "metadata": {},
   "source": [
    "<img src=\"./assets/mse.png\">"
   ]
  },
  {
   "cell_type": "code",
   "execution_count": 40,
   "metadata": {},
   "outputs": [
    {
     "data": {
      "text/plain": [
       "np.float64(0.8916265564072142)"
      ]
     },
     "execution_count": 40,
     "metadata": {},
     "output_type": "execute_result"
    }
   ],
   "source": [
    "# 11.9 Evaluating Clustering Models\n",
    "\n",
    "import numpy as np \n",
    "from sklearn.metrics import silhouette_score \n",
    "from sklearn import datasets\n",
    "from sklearn.cluster import KMeans \n",
    "from sklearn.datasets import make_blobs\n",
    "\n",
    "features, _ = make_blobs(n_samples = 1000, \n",
    "                         n_features = 10, \n",
    "                         centers = 2, \n",
    "                         cluster_std = 0.5, \n",
    "                         shuffle = True, \n",
    "                         random_state = 1)\n",
    "\n",
    "model = KMeans(n_clusters = 2, random_state= 1).fit(features)\n",
    "\n",
    "# get predicted classes\n",
    "target_predicted = model.labels_\n",
    "\n",
    "# evaluate model \n",
    "silhouette_score(features, target_predicted)\n"
   ]
  },
  {
   "cell_type": "markdown",
   "metadata": {},
   "source": [
    "<img src=\"./assets/silhouette.png\">"
   ]
  },
  {
   "cell_type": "code",
   "execution_count": 41,
   "metadata": {},
   "outputs": [
    {
     "data": {
      "text/plain": [
       "0.9999986456090798"
      ]
     },
     "execution_count": 41,
     "metadata": {},
     "output_type": "execute_result"
    }
   ],
   "source": [
    "# 11.10 Creating a custom evaluation metric \n",
    "from sklearn.metrics import make_scorer, r2_score \n",
    "from sklearn.model_selection import train_test_split \n",
    "from sklearn.linear_model import Ridge \n",
    "from sklearn.datasets import make_regression \n",
    "\n",
    "features, target = make_regression(n_samples = 1000, \n",
    "                                   n_features = 3, \n",
    "                                   random_state = 1 \n",
    "                                   )\n",
    "\n",
    "features_train, features_test, target_train, target_test = train_test_split(\n",
    "    features, target, test_size=0.1, random_state = 1\n",
    ")\n",
    "\n",
    "def custom_metric(target_test, target_predicted):\n",
    "    r2 = r2_score(target_test, target_predicted)\n",
    "    return r2\n",
    "\n",
    "score = make_scorer(custom_metric, greater_is_better = True)\n",
    "classifier = Ridge() \n",
    "\n",
    "model = classifier.fit(features_train, target_train)\n",
    "\n",
    "score(model, features_test, target_test)\n"
   ]
  },
  {
   "cell_type": "code",
   "execution_count": 43,
   "metadata": {},
   "outputs": [
    {
     "data": {
      "text/plain": [
       "0.9999986456090798"
      ]
     },
     "execution_count": 43,
     "metadata": {},
     "output_type": "execute_result"
    }
   ],
   "source": [
    "target_predicted = model.predict(features_test)\n",
    "r2_score(target_test, target_predicted)"
   ]
  },
  {
   "cell_type": "code",
   "execution_count": null,
   "metadata": {},
   "outputs": [
    {
     "data": {
      "image/png": "[encoded data removed]",
      "text/plain": [
       "<Figure size 640x480 with 1 Axes>"
      ]
     },
     "metadata": {},
     "output_type": "display_data"
    }
   ],
   "source": [
    "# 11.11 Visualizing the effect of training set size \n",
    "\n",
    "import numpy as np \n",
    "import matplotlib.pyplot as plt \n",
    "from sklearn.ensemble import RandomForestClassifier \n",
    "from sklearn.model_selection import learning_curve \n",
    "from sklearn.datasets import load_digits\n",
    "\n",
    "digits = load_digits()\n",
    "\n",
    "features, target = digits.data, digits.target \n",
    "\n",
    "train_sizes, train_scores, test_scores = learning_curve(\n",
    "    RandomForestClassifier(), \n",
    "    features, \n",
    "    target, cv=10, scoring=\"accuracy\", n_jobs=-1, \n",
    "    train_sizes = np.linspace(0.01, 1.0, 50)\n",
    ")\n",
    "\n",
    "train_mean = np.mean(train_scores, axis = 1)\n",
    "train_std = np.std(train_scores, axis = 1)\n",
    "\n",
    "test_mean = np.mean(test_scores, axis = 1)\n",
    "test_std = np.std(test_scores, axis = 1)\n",
    "\n",
    "plt.plot(train_sizes, train_mean, \"--\", color=\"#111111\", label=\"Training Score\")\n",
    "plt.plot(train_sizes, test_mean, color=\"#111111\", label=\"Cross-validation score\")\n",
    "\n",
    "plt.fill_between(train_sizes, train_mean - train_std, train_mean + train_std, color=\"#000000\")\n",
    "plt.fill_between(train_sizes, test_mean - test_std, test_mean + test_std, color=\"#000000\")\n",
    "\n",
    "plt.title(\"Learning Curve\")\n",
    "plt.xlabel(\"Training Set Size\")\n",
    "plt.ylabel(\"Accuracy Score\")\n",
    "plt.legend(loc=\"best\")\n",
    "plt.tight_layout()\n",
    "plt.show()"
   ]
  },
  {
   "cell_type": "code",
   "execution_count": null,
   "metadata": {},
   "outputs": [],
   "source": [
    "# Learning curve visualize the performance of a moel on the \n",
    "# training set and during cross-validarion as the number of \n",
    "# observation in the training set increases. "
   ]
  },
  {
   "cell_type": "code",
   "execution_count": 46,
   "metadata": {},
   "outputs": [
    {
     "name": "stdout",
     "output_type": "stream",
     "text": [
      "              precision    recall  f1-score   support\n",
      "\n",
      "      setosa       1.00      1.00      1.00        13\n",
      "  versicolor       1.00      0.94      0.97        16\n",
      "   virginica       0.90      1.00      0.95         9\n",
      "\n",
      "    accuracy                           0.97        38\n",
      "   macro avg       0.97      0.98      0.97        38\n",
      "weighted avg       0.98      0.97      0.97        38\n",
      "\n"
     ]
    }
   ],
   "source": [
    "# 11.12 Creating a text report or evaluation metrics\n",
    "from sklearn import datasets \n",
    "from sklearn.linear_model import LogisticRegression \n",
    "from sklearn.model_selection import train_test_split \n",
    "from sklearn.metrics import classification_report\n",
    "\n",
    "iris = datasets.load_iris() \n",
    "features, target = iris.data, iris.target\n",
    "\n",
    "class_names = iris.target_names\n",
    "\n",
    "features_train, features_test, target_train, target_test = train_test_split(\n",
    "    features, target, random_state = 1\n",
    ")\n",
    "\n",
    "classifier = LogisticRegression() \n",
    "model = classifier.fit(features_train, target_train)\n",
    "target_predict = model.predict(features_test)\n",
    "\n",
    "print(classification_report(target_test, \n",
    "                            target_predict, \n",
    "                            target_names=class_names))\n",
    "\n"
   ]
  },
  {
   "cell_type": "code",
   "execution_count": 48,
   "metadata": {},
   "outputs": [
    {
     "data": {
      "image/png": "[encoded data removed]",
      "text/plain": [
       "<Figure size 640x480 with 1 Axes>"
      ]
     },
     "metadata": {},
     "output_type": "display_data"
    }
   ],
   "source": [
    "# 11.13 visualizing the effect of hyperparameter values \n",
    "\n",
    "from sklearn.ensemble import RandomForestClassifier \n",
    "from sklearn.model_selection import validation_curve \n",
    "\n",
    "digits = datasets.load_digits() \n",
    "features, target = digits.data, digits.target \n",
    "\n",
    "param_range = np.arange(1, 250, 2)\n",
    "\n",
    "train_scores, test_scores = validation_curve(\n",
    "    RandomForestClassifier(), \n",
    "    features, \n",
    "    target, \n",
    "    param_name=\"n_estimators\", \n",
    "    param_range = param_range, \n",
    "    cv=3, \n",
    "    scoring=\"accuracy\", \n",
    "    n_jobs = -1\n",
    ")\n",
    "\n",
    "train_mean = np.mean(train_scores, axis = 1)\n",
    "train_std = np.std(train_scores, axis = 1)\n",
    "\n",
    "test_mean = np.mean(test_scores, axis = 1)\n",
    "test_std = np.std(test_scores, axis = 1)\n",
    "\n",
    "plt.plot(param_range, train_mean, label=\"Training Score\", color=\"black\")\n",
    "plt.plot(param_range, test_mean, label=\"cross-validation score\", color=\"dimgrey\")\n",
    "\n",
    "plt.fill_between(param_range, train_mean - train_std, train_mean + train_std, color=\"gray\")\n",
    "plt.fill_between(param_range, test_mean - test_std, test_mean + test_std, color=\"gainsboro\")\n",
    "\n",
    "plt.title(\"Validation Curve With Random Forest\")\n",
    "plt.xlabel(\"Number Of Trees\")\n",
    "plt.ylabel(\"Accuracy Score\")\n",
    "plt.tight_layout()\n",
    "plt.legend(loc=\"best\")\n",
    "plt.show()\n"
   ]
  }
 ],
 "metadata": {
  "kernelspec": {
   "display_name": "mlvenv",
   "language": "python",
   "name": "python3"
  },
  "language_info": {
   "codemirror_mode": {
    "name": "ipython",
    "version": 3
   },
   "file_extension": ".py",
   "mimetype": "text/x-python",
   "name": "python",
   "nbconvert_exporter": "python",
   "pygments_lexer": "ipython3",
   "version": "3.13.1"
  }
 },
 "nbformat": 4,
 "nbformat_minor": 2
}
