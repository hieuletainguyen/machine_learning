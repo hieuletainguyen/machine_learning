{
 "cells": [
  {
   "cell_type": "code",
   "execution_count": 1,
   "metadata": {},
   "outputs": [],
   "source": [
    "import findspark \n",
    "from pyspark.ml.clustering import KMeans \n",
    "from pyspark.ml.feature import VectorAssembler \n",
    "from pyspark.sql import  SparkSession "
   ]
  },
  {
   "cell_type": "code",
   "execution_count": 2,
   "metadata": {},
   "outputs": [],
   "source": [
    "findspark.init()"
   ]
  },
  {
   "cell_type": "code",
   "execution_count": 3,
   "metadata": {},
   "outputs": [],
   "source": [
    "spark = SparkSession.builder.appName(\"Clustering using SparkML\").getOrCreate()"
   ]
  },
  {
   "cell_type": "code",
   "execution_count": 5,
   "metadata": {},
   "outputs": [],
   "source": [
    "customer_data = spark.read.csv('customers.csv', header = True, inferSchema =True)"
   ]
  },
  {
   "cell_type": "code",
   "execution_count": 6,
   "metadata": {},
   "outputs": [
    {
     "name": "stdout",
     "output_type": "stream",
     "text": [
      "+----------+----+-------+-----------+\n",
      "|Fresh_Food|Milk|Grocery|Frozen_Food|\n",
      "+----------+----+-------+-----------+\n",
      "|12669     |9656|7561   |214        |\n",
      "|7057      |9810|9568   |1762       |\n",
      "|6353      |8808|7684   |2405       |\n",
      "|13265     |1196|4221   |6404       |\n",
      "|22615     |5410|7198   |3915       |\n",
      "+----------+----+-------+-----------+\n",
      "only showing top 5 rows\n",
      "\n"
     ]
    }
   ],
   "source": [
    "customer_data.show(n=5, truncate=False)"
   ]
  },
  {
   "cell_type": "code",
   "execution_count": 7,
   "metadata": {},
   "outputs": [
    {
     "name": "stdout",
     "output_type": "stream",
     "text": [
      "root\n",
      " |-- Fresh_Food: integer (nullable = true)\n",
      " |-- Milk: integer (nullable = true)\n",
      " |-- Grocery: integer (nullable = true)\n",
      " |-- Frozen_Food: integer (nullable = true)\n",
      "\n"
     ]
    }
   ],
   "source": [
    "customer_data.printSchema()"
   ]
  },
  {
   "cell_type": "code",
   "execution_count": 8,
   "metadata": {},
   "outputs": [],
   "source": [
    "feature_cols = ['Fresh_Food', 'Milk', 'Grocery', 'Frozen_Food']\n",
    "assembler = VectorAssembler(inputCols=feature_cols, outputCol='features')\n",
    "customer_transformed_data = assembler.transform(customer_data)"
   ]
  },
  {
   "cell_type": "code",
   "execution_count": 9,
   "metadata": {},
   "outputs": [],
   "source": [
    "number_of_clusters = 3"
   ]
  },
  {
   "cell_type": "code",
   "execution_count": 10,
   "metadata": {},
   "outputs": [],
   "source": [
    "kmeans = KMeans(k = number_of_clusters)\n",
    "model = kmeans.fit(customer_transformed_data)"
   ]
  },
  {
   "cell_type": "code",
   "execution_count": 11,
   "metadata": {},
   "outputs": [],
   "source": [
    "predictions = model.transform(customer_transformed_data)"
   ]
  },
  {
   "cell_type": "code",
   "execution_count": 12,
   "metadata": {},
   "outputs": [
    {
     "name": "stdout",
     "output_type": "stream",
     "text": [
      "+----------+-----+-------+-----------+--------------------+----------+\n",
      "|Fresh_Food| Milk|Grocery|Frozen_Food|            features|prediction|\n",
      "+----------+-----+-------+-----------+--------------------+----------+\n",
      "|     12669| 9656|   7561|        214|[12669.0,9656.0,7...|         1|\n",
      "|      7057| 9810|   9568|       1762|[7057.0,9810.0,95...|         1|\n",
      "|      6353| 8808|   7684|       2405|[6353.0,8808.0,76...|         1|\n",
      "|     13265| 1196|   4221|       6404|[13265.0,1196.0,4...|         1|\n",
      "|     22615| 5410|   7198|       3915|[22615.0,5410.0,7...|         0|\n",
      "|      9413| 8259|   5126|        666|[9413.0,8259.0,51...|         1|\n",
      "|     12126| 3199|   6975|        480|[12126.0,3199.0,6...|         1|\n",
      "|      7579| 4956|   9426|       1669|[7579.0,4956.0,94...|         1|\n",
      "|      5963| 3648|   6192|        425|[5963.0,3648.0,61...|         1|\n",
      "|      6006|11093|  18881|       1159|[6006.0,11093.0,1...|         2|\n",
      "|      3366| 5403|  12974|       4400|[3366.0,5403.0,12...|         1|\n",
      "|     13146| 1124|   4523|       1420|[13146.0,1124.0,4...|         1|\n",
      "|     31714|12319|  11757|        287|[31714.0,12319.0,...|         0|\n",
      "|     21217| 6208|  14982|       3095|[21217.0,6208.0,1...|         1|\n",
      "|     24653| 9465|  12091|        294|[24653.0,9465.0,1...|         0|\n",
      "|     10253| 1114|   3821|        397|[10253.0,1114.0,3...|         1|\n",
      "|      1020| 8816|  12121|        134|[1020.0,8816.0,12...|         1|\n",
      "|      5876| 6157|   2933|        839|[5876.0,6157.0,29...|         1|\n",
      "|     18601| 6327|  10099|       2205|[18601.0,6327.0,1...|         1|\n",
      "|      7780| 2495|   9464|        669|[7780.0,2495.0,94...|         1|\n",
      "+----------+-----+-------+-----------+--------------------+----------+\n",
      "only showing top 20 rows\n",
      "\n"
     ]
    }
   ],
   "source": [
    "predictions.show()"
   ]
  },
  {
   "cell_type": "code",
   "execution_count": 13,
   "metadata": {},
   "outputs": [],
   "source": [
    "spark.stop()"
   ]
  },
  {
   "cell_type": "code",
   "execution_count": 28,
   "metadata": {},
   "outputs": [],
   "source": [
    "spark1 = SparkSession.builder.appName(\"Seed Clustering\").getOrCreate()"
   ]
  },
  {
   "cell_type": "code",
   "execution_count": 29,
   "metadata": {},
   "outputs": [],
   "source": [
    "seed_data = spark1.read.csv(\"seeds.csv\", header = True, inferSchema=True)"
   ]
  },
  {
   "cell_type": "code",
   "execution_count": 30,
   "metadata": {},
   "outputs": [
    {
     "name": "stdout",
     "output_type": "stream",
     "text": [
      "root\n",
      " |-- area: double (nullable = true)\n",
      " |-- perimeter: double (nullable = true)\n",
      " |-- compactness: double (nullable = true)\n",
      " |-- length of kernel: double (nullable = true)\n",
      " |-- width of kernel: double (nullable = true)\n",
      " |-- asymmetry coefficient: double (nullable = true)\n",
      " |-- length of kernel groove: double (nullable = true)\n",
      "\n"
     ]
    }
   ],
   "source": [
    "seed_data.printSchema()"
   ]
  },
  {
   "cell_type": "code",
   "execution_count": 31,
   "metadata": {},
   "outputs": [
    {
     "name": "stdout",
     "output_type": "stream",
     "text": [
      "+-----+---------+-----------+----------------+---------------+---------------------+-----------------------+\n",
      "|area |perimeter|compactness|length of kernel|width of kernel|asymmetry coefficient|length of kernel groove|\n",
      "+-----+---------+-----------+----------------+---------------+---------------------+-----------------------+\n",
      "|15.26|14.84    |0.871      |5.763           |3.312          |2.221                |5.22                   |\n",
      "|14.88|14.57    |0.8811     |5.554           |3.333          |1.018                |4.956                  |\n",
      "|14.29|14.09    |0.905      |5.291           |3.337          |2.699                |4.825                  |\n",
      "|13.84|13.94    |0.8955     |5.324           |3.379          |2.259                |4.805                  |\n",
      "|16.14|14.99    |0.9034     |5.658           |3.562          |1.355                |5.175                  |\n",
      "+-----+---------+-----------+----------------+---------------+---------------------+-----------------------+\n",
      "only showing top 5 rows\n",
      "\n"
     ]
    }
   ],
   "source": [
    "seed_data.show(n=5, truncate  = False)"
   ]
  },
  {
   "cell_type": "code",
   "execution_count": 35,
   "metadata": {},
   "outputs": [],
   "source": [
    "feature_cols = ['area', 'perimeter', 'compactness', 'length of kernel', 'width of kernel', 'asymmetry coefficient', 'length of kernel groove']\n",
    "assembler = VectorAssembler(inputCols = feature_cols, outputCol = 'features')\n",
    "seed_transformed_data = assembler.transform(seed_data)"
   ]
  },
  {
   "cell_type": "code",
   "execution_count": 36,
   "metadata": {},
   "outputs": [],
   "source": [
    "number_of_clusters = 7\n",
    "kmeans = KMeans(k =  number_of_clusters)\n",
    "model = kmeans.fit(seed_transformed_data)"
   ]
  },
  {
   "cell_type": "code",
   "execution_count": 39,
   "metadata": {},
   "outputs": [],
   "source": [
    "predictions = model.transform(seed_transformed_data)"
   ]
  },
  {
   "cell_type": "code",
   "execution_count": 40,
   "metadata": {},
   "outputs": [
    {
     "name": "stdout",
     "output_type": "stream",
     "text": [
      "-RECORD 0---------------------------------------------------------------\n",
      " area                    | 15.26                                        \n",
      " perimeter               | 14.84                                        \n",
      " compactness             | 0.871                                        \n",
      " length of kernel        | 5.763                                        \n",
      " width of kernel         | 3.312                                        \n",
      " asymmetry coefficient   | 2.221                                        \n",
      " length of kernel groove | 5.22                                         \n",
      " features                | [15.26,14.84,0.871,5.763,3.312,2.221,5.22]   \n",
      " prediction              | 2                                            \n",
      "-RECORD 1---------------------------------------------------------------\n",
      " area                    | 14.88                                        \n",
      " perimeter               | 14.57                                        \n",
      " compactness             | 0.8811                                       \n",
      " length of kernel        | 5.554                                        \n",
      " width of kernel         | 3.333                                        \n",
      " asymmetry coefficient   | 1.018                                        \n",
      " length of kernel groove | 4.956                                        \n",
      " features                | [14.88,14.57,0.8811,5.554,3.333,1.018,4.956] \n",
      " prediction              | 2                                            \n",
      "-RECORD 2---------------------------------------------------------------\n",
      " area                    | 14.29                                        \n",
      " perimeter               | 14.09                                        \n",
      " compactness             | 0.905                                        \n",
      " length of kernel        | 5.291                                        \n",
      " width of kernel         | 3.337                                        \n",
      " asymmetry coefficient   | 2.699                                        \n",
      " length of kernel groove | 4.825                                        \n",
      " features                | [14.29,14.09,0.905,5.291,3.337,2.699,4.825]  \n",
      " prediction              | 4                                            \n",
      "-RECORD 3---------------------------------------------------------------\n",
      " area                    | 13.84                                        \n",
      " perimeter               | 13.94                                        \n",
      " compactness             | 0.8955                                       \n",
      " length of kernel        | 5.324                                        \n",
      " width of kernel         | 3.379                                        \n",
      " asymmetry coefficient   | 2.259                                        \n",
      " length of kernel groove | 4.805                                        \n",
      " features                | [13.84,13.94,0.8955,5.324,3.379,2.259,4.805] \n",
      " prediction              | 0                                            \n",
      "-RECORD 4---------------------------------------------------------------\n",
      " area                    | 16.14                                        \n",
      " perimeter               | 14.99                                        \n",
      " compactness             | 0.9034                                       \n",
      " length of kernel        | 5.658                                        \n",
      " width of kernel         | 3.562                                        \n",
      " asymmetry coefficient   | 1.355                                        \n",
      " length of kernel groove | 5.175                                        \n",
      " features                | [16.14,14.99,0.9034,5.658,3.562,1.355,5.175] \n",
      " prediction              | 2                                            \n",
      "only showing top 5 rows\n",
      "\n"
     ]
    }
   ],
   "source": [
    "predictions.show(n = 5, truncate = False, vertical = True)"
   ]
  },
  {
   "cell_type": "code",
   "execution_count": 41,
   "metadata": {},
   "outputs": [
    {
     "name": "stdout",
     "output_type": "stream",
     "text": [
      "+----------+-----+\n",
      "|prediction|count|\n",
      "+----------+-----+\n",
      "|         1|   23|\n",
      "|         6|   19|\n",
      "|         3|   44|\n",
      "|         5|   44|\n",
      "|         4|   32|\n",
      "|         2|   24|\n",
      "|         0|   24|\n",
      "+----------+-----+\n",
      "\n"
     ]
    }
   ],
   "source": [
    "predictions.groupby('prediction').count().show()"
   ]
  },
  {
   "cell_type": "code",
   "execution_count": 42,
   "metadata": {},
   "outputs": [],
   "source": [
    "spark1.stop()"
   ]
  },
  {
   "cell_type": "code",
   "execution_count": null,
   "metadata": {},
   "outputs": [],
   "source": []
  }
 ],
 "metadata": {
  "kernelspec": {
   "display_name": "myvenv",
   "language": "python",
   "name": "python3"
  },
  "language_info": {
   "codemirror_mode": {
    "name": "ipython",
    "version": 3
   },
   "file_extension": ".py",
   "mimetype": "text/x-python",
   "name": "python",
   "nbconvert_exporter": "python",
   "pygments_lexer": "ipython3",
   "version": "3.11.9"
  }
 },
 "nbformat": 4,
 "nbformat_minor": 2
}
