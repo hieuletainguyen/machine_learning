{
 "cells": [
  {
   "cell_type": "code",
   "execution_count": 1,
   "metadata": {},
   "outputs": [],
   "source": [
    "import findspark \n",
    "from pyspark.sql import SparkSession"
   ]
  },
  {
   "cell_type": "code",
   "execution_count": 2,
   "metadata": {},
   "outputs": [],
   "source": [
    "spark = SparkSession.builder.appName(\"ETL using Spark\").getOrCreate()"
   ]
  },
  {
   "cell_type": "code",
   "execution_count": 3,
   "metadata": {},
   "outputs": [],
   "source": [
    "data = [(\"student1\",64,90),\n",
    "        (\"student2\",59,100),\n",
    "        (\"student3\",69,95),\n",
    "        (\"\",70,110),\n",
    "        (\"student5\",60,80),\n",
    "        (\"student3\",69,95),\n",
    "        (\"student6\",62,85),\n",
    "        (\"student7\",65,80),\n",
    "        (\"student7\",65,80)]"
   ]
  },
  {
   "cell_type": "code",
   "execution_count": 4,
   "metadata": {},
   "outputs": [
    {
     "name": "stdout",
     "output_type": "stream",
     "text": [
      "+--------+-------------+-------------+\n",
      "| student|height_inches|weight_pounds|\n",
      "+--------+-------------+-------------+\n",
      "|student1|           64|           90|\n",
      "|student2|           59|          100|\n",
      "|student3|           69|           95|\n",
      "|        |           70|          110|\n",
      "|student5|           60|           80|\n",
      "|student3|           69|           95|\n",
      "|student6|           62|           85|\n",
      "|student7|           65|           80|\n",
      "|student7|           65|           80|\n",
      "+--------+-------------+-------------+\n",
      "\n"
     ]
    }
   ],
   "source": [
    "df = spark.createDataFrame(data, ['student', 'height_inches', 'weight_pounds'])\n",
    "df.show()"
   ]
  },
  {
   "cell_type": "code",
   "execution_count": 5,
   "metadata": {},
   "outputs": [],
   "source": [
    "df.write.mode(\"overwrite\").csv(\"student_hw.csv\", header=True)"
   ]
  },
  {
   "cell_type": "code",
   "execution_count": 6,
   "metadata": {},
   "outputs": [],
   "source": [
    "df1 = spark.read.csv(\"student_hw.csv\", header=True, inferSchema=True)"
   ]
  },
  {
   "cell_type": "code",
   "execution_count": 8,
   "metadata": {},
   "outputs": [
    {
     "name": "stdout",
     "output_type": "stream",
     "text": [
      "+--------+-------------+-------------+\n",
      "| student|height_inches|weight_pounds|\n",
      "+--------+-------------+-------------+\n",
      "|student7|           65|           80|\n",
      "|student2|           59|          100|\n",
      "|student1|           64|           90|\n",
      "|student3|           69|           95|\n",
      "|student5|           60|           80|\n",
      "|student6|           62|           85|\n",
      "|    NULL|           70|          110|\n",
      "+--------+-------------+-------------+\n",
      "\n"
     ]
    }
   ],
   "source": [
    "df1 = df1.dropDuplicates()\n",
    "df1.show()\n"
   ]
  },
  {
   "cell_type": "code",
   "execution_count": 9,
   "metadata": {},
   "outputs": [
    {
     "data": {
      "text/plain": [
       "7"
      ]
     },
     "execution_count": 9,
     "metadata": {},
     "output_type": "execute_result"
    }
   ],
   "source": [
    "df1.count()"
   ]
  },
  {
   "cell_type": "code",
   "execution_count": 10,
   "metadata": {},
   "outputs": [],
   "source": [
    "df1 = df1.dropna()"
   ]
  },
  {
   "cell_type": "code",
   "execution_count": 11,
   "metadata": {},
   "outputs": [
    {
     "name": "stdout",
     "output_type": "stream",
     "text": [
      "+--------+-------------+-------------+\n",
      "| student|height_inches|weight_pounds|\n",
      "+--------+-------------+-------------+\n",
      "|student7|           65|           80|\n",
      "|student2|           59|          100|\n",
      "|student1|           64|           90|\n",
      "|student3|           69|           95|\n",
      "|student5|           60|           80|\n",
      "|student6|           62|           85|\n",
      "+--------+-------------+-------------+\n",
      "\n"
     ]
    }
   ],
   "source": [
    "df1.show()"
   ]
  },
  {
   "cell_type": "code",
   "execution_count": 12,
   "metadata": {},
   "outputs": [],
   "source": [
    "df1.write.mode(\"overwrite\").parquet(\"student_hw.parquet\")"
   ]
  },
  {
   "cell_type": "code",
   "execution_count": 13,
   "metadata": {},
   "outputs": [],
   "source": [
    "# condesnse parquet to a single file \n",
    "df1 = df1.repartition(1) # reduce the number of partitions "
   ]
  },
  {
   "cell_type": "code",
   "execution_count": 14,
   "metadata": {},
   "outputs": [],
   "source": [
    "df1.write.mode(\"overwrite\").parquet(\"student-hw-single.parquet\")"
   ]
  },
  {
   "cell_type": "code",
   "execution_count": 15,
   "metadata": {},
   "outputs": [
    {
     "name": "stdout",
     "output_type": "stream",
     "text": [
      "+--------+-------------+-------------+\n",
      "| student|height_inches|weight_pounds|\n",
      "+--------+-------------+-------------+\n",
      "|student7|           65|           80|\n",
      "|student2|           59|          100|\n",
      "|student1|           64|           90|\n",
      "|student3|           69|           95|\n",
      "|student5|           60|           80|\n",
      "|student6|           62|           85|\n",
      "+--------+-------------+-------------+\n",
      "\n"
     ]
    }
   ],
   "source": [
    "df = spark.read.parquet(\"student-hw-single.parquet\")\n",
    "df.show()"
   ]
  },
  {
   "cell_type": "code",
   "execution_count": 16,
   "metadata": {},
   "outputs": [],
   "source": [
    "from pyspark.sql.functions import expr"
   ]
  },
  {
   "cell_type": "code",
   "execution_count": 17,
   "metadata": {},
   "outputs": [
    {
     "name": "stdout",
     "output_type": "stream",
     "text": [
      "+--------+-------------+-------------+------------------+\n",
      "| student|height_inches|weight_pounds|height_centimeters|\n",
      "+--------+-------------+-------------+------------------+\n",
      "|student7|           65|           80|            165.10|\n",
      "|student2|           59|          100|            149.86|\n",
      "|student1|           64|           90|            162.56|\n",
      "|student3|           69|           95|            175.26|\n",
      "|student5|           60|           80|            152.40|\n",
      "|student6|           62|           85|            157.48|\n",
      "+--------+-------------+-------------+------------------+\n",
      "\n"
     ]
    }
   ],
   "source": [
    "# convert inches to centimeters\n",
    "df = df.withColumn(\"height_centimeters\", expr(\"height_inches  * 2.54\"))\n",
    "df.show()"
   ]
  },
  {
   "cell_type": "code",
   "execution_count": 18,
   "metadata": {},
   "outputs": [
    {
     "name": "stdout",
     "output_type": "stream",
     "text": [
      "+--------+-------------+-------------+------------------+---------+\n",
      "| student|height_inches|weight_pounds|height_centimeters|weight_kg|\n",
      "+--------+-------------+-------------+------------------+---------+\n",
      "|student7|           65|           80|            165.10|36.287360|\n",
      "|student2|           59|          100|            149.86|45.359200|\n",
      "|student1|           64|           90|            162.56|40.823280|\n",
      "|student3|           69|           95|            175.26|43.091240|\n",
      "|student5|           60|           80|            152.40|36.287360|\n",
      "|student6|           62|           85|            157.48|38.555320|\n",
      "+--------+-------------+-------------+------------------+---------+\n",
      "\n"
     ]
    }
   ],
   "source": [
    "# convert punds to kilograms\n",
    "df = df.withColumn(\"weight_kg\", expr(\"weight_pounds * 0.453592\"))\n",
    "df.show()"
   ]
  },
  {
   "cell_type": "code",
   "execution_count": 19,
   "metadata": {},
   "outputs": [
    {
     "name": "stdout",
     "output_type": "stream",
     "text": [
      "+--------+-------------+------------------+---------+\n",
      "| student|weight_pounds|height_centimeters|weight_kg|\n",
      "+--------+-------------+------------------+---------+\n",
      "|student7|           80|            165.10|36.287360|\n",
      "|student2|          100|            149.86|45.359200|\n",
      "|student1|           90|            162.56|40.823280|\n",
      "|student3|           95|            175.26|43.091240|\n",
      "|student5|           80|            152.40|36.287360|\n",
      "|student6|           85|            157.48|38.555320|\n",
      "+--------+-------------+------------------+---------+\n",
      "\n"
     ]
    }
   ],
   "source": [
    "df = df.drop(\"height_inches\", 'height_pounds')\n",
    "df.show()"
   ]
  },
  {
   "cell_type": "code",
   "execution_count": 20,
   "metadata": {},
   "outputs": [
    {
     "name": "stdout",
     "output_type": "stream",
     "text": [
      "+--------+-------------+---------+---------+\n",
      "| student|weight_pounds|height_cm|weight_kg|\n",
      "+--------+-------------+---------+---------+\n",
      "|student7|           80|   165.10|36.287360|\n",
      "|student2|          100|   149.86|45.359200|\n",
      "|student1|           90|   162.56|40.823280|\n",
      "|student3|           95|   175.26|43.091240|\n",
      "|student5|           80|   152.40|36.287360|\n",
      "|student6|           85|   157.48|38.555320|\n",
      "+--------+-------------+---------+---------+\n",
      "\n"
     ]
    }
   ],
   "source": [
    "df = df.withColumnRenamed('height_centimeters', 'height_cm')\n",
    "df.show()"
   ]
  },
  {
   "cell_type": "code",
   "execution_count": 21,
   "metadata": {},
   "outputs": [],
   "source": [
    "df.write.mode(\"overwrite\").csv(\"student_transformed.csv\", header = True)"
   ]
  },
  {
   "cell_type": "code",
   "execution_count": 22,
   "metadata": {},
   "outputs": [
    {
     "name": "stdout",
     "output_type": "stream",
     "text": [
      "+--------+-------------+---------+---------+\n",
      "| student|weight_pounds|height_cm|weight_kg|\n",
      "+--------+-------------+---------+---------+\n",
      "|student7|           80|    165.1| 36.28736|\n",
      "|student2|          100|   149.86|  45.3592|\n",
      "|student1|           90|   162.56| 40.82328|\n",
      "|student3|           95|   175.26| 43.09124|\n",
      "|student5|           80|    152.4| 36.28736|\n",
      "|student6|           85|   157.48| 38.55532|\n",
      "+--------+-------------+---------+---------+\n",
      "\n"
     ]
    }
   ],
   "source": [
    "# verify the csv file \n",
    "df = spark.read.csv(\"student_transformed.csv\", header = True, inferSchema = True)\n",
    "df.show()"
   ]
  },
  {
   "cell_type": "code",
   "execution_count": 23,
   "metadata": {},
   "outputs": [],
   "source": [
    "spark.stop()"
   ]
  },
  {
   "cell_type": "markdown",
   "metadata": {},
   "source": [
    "# Exercise"
   ]
  },
  {
   "cell_type": "code",
   "execution_count": 24,
   "metadata": {},
   "outputs": [],
   "source": [
    "spark1 = SparkSession.builder.appName(\"Exercise - ETL using Spark\").getOrCreate()"
   ]
  },
  {
   "cell_type": "code",
   "execution_count": 25,
   "metadata": {},
   "outputs": [
    {
     "name": "stdout",
     "output_type": "stream",
     "text": [
      "root\n",
      " |-- student: string (nullable = true)\n",
      " |-- weight_pounds: integer (nullable = true)\n",
      " |-- height_cm: double (nullable = true)\n",
      " |-- weight_kg: double (nullable = true)\n",
      "\n"
     ]
    }
   ],
   "source": [
    "df = spark1.read.csv(\"student_transformed.csv\", header = True, inferSchema = True)\n",
    "df.printSchema()"
   ]
  },
  {
   "cell_type": "code",
   "execution_count": 26,
   "metadata": {},
   "outputs": [
    {
     "name": "stdout",
     "output_type": "stream",
     "text": [
      "+--------+-------------+---------+---------+------------------+\n",
      "| student|weight_pounds|height_cm|weight_kg|     height_meters|\n",
      "+--------+-------------+---------+---------+------------------+\n",
      "|student7|           80|    165.1| 36.28736|             1.651|\n",
      "|student2|          100|   149.86|  45.3592|1.4986000000000002|\n",
      "|student1|           90|   162.56| 40.82328|            1.6256|\n",
      "|student3|           95|   175.26| 43.09124|            1.7526|\n",
      "|student5|           80|    152.4| 36.28736|             1.524|\n",
      "|student6|           85|   157.48| 38.55532|            1.5748|\n",
      "+--------+-------------+---------+---------+------------------+\n",
      "\n"
     ]
    }
   ],
   "source": [
    "df = df.withColumn(\"height_meters\", expr(\"height_cm / 100\"))\n",
    "df.show()"
   ]
  },
  {
   "cell_type": "code",
   "execution_count": 27,
   "metadata": {},
   "outputs": [
    {
     "name": "stdout",
     "output_type": "stream",
     "text": [
      "+--------+-------------+---------+---------+------------------+------------------+\n",
      "| student|weight_pounds|height_cm|weight_kg|     height_meters|               BMI|\n",
      "+--------+-------------+---------+---------+------------------+------------------+\n",
      "|student7|           80|    165.1| 36.28736|             1.651|13.312549228648752|\n",
      "|student2|          100|   149.86|  45.3592|1.4986000000000002|20.197328530250278|\n",
      "|student1|           90|   162.56| 40.82328|            1.6256|15.448293591899683|\n",
      "|student3|           95|   175.26| 43.09124|            1.7526|14.028892161964118|\n",
      "|student5|           80|    152.4| 36.28736|             1.524|15.623755691955827|\n",
      "|student6|           85|   157.48| 38.55532|            1.5748|15.546531093062187|\n",
      "+--------+-------------+---------+---------+------------------+------------------+\n",
      "\n"
     ]
    }
   ],
   "source": [
    "df = df.withColumn(\"BMI\", expr(\"weight_kg / (height_meters * height_meters)\"))\n",
    "df.show()"
   ]
  },
  {
   "cell_type": "code",
   "execution_count": 28,
   "metadata": {},
   "outputs": [
    {
     "name": "stdout",
     "output_type": "stream",
     "text": [
      "+--------+---------+---------+------------------+------------------+\n",
      "| student|height_cm|weight_kg|     height_meters|               BMI|\n",
      "+--------+---------+---------+------------------+------------------+\n",
      "|student7|    165.1| 36.28736|             1.651|13.312549228648752|\n",
      "|student2|   149.86|  45.3592|1.4986000000000002|20.197328530250278|\n",
      "|student1|   162.56| 40.82328|            1.6256|15.448293591899683|\n",
      "|student3|   175.26| 43.09124|            1.7526|14.028892161964118|\n",
      "|student5|    152.4| 36.28736|             1.524|15.623755691955827|\n",
      "|student6|   157.48| 38.55532|            1.5748|15.546531093062187|\n",
      "+--------+---------+---------+------------------+------------------+\n",
      "\n"
     ]
    }
   ],
   "source": [
    "df = df.drop(\"height_inches\", 'weight_pounds')\n",
    "df.show()"
   ]
  },
  {
   "cell_type": "code",
   "execution_count": 29,
   "metadata": {},
   "outputs": [
    {
     "name": "stdout",
     "output_type": "stream",
     "text": [
      "+--------+---------+---------+------------------+------------------+-----------+\n",
      "| student|height_cm|weight_kg|     height_meters|               BMI|bmi_rounded|\n",
      "+--------+---------+---------+------------------+------------------+-----------+\n",
      "|student7|    165.1| 36.28736|             1.651|13.312549228648752|       13.0|\n",
      "|student2|   149.86|  45.3592|1.4986000000000002|20.197328530250278|       20.0|\n",
      "|student1|   162.56| 40.82328|            1.6256|15.448293591899683|       15.0|\n",
      "|student3|   175.26| 43.09124|            1.7526|14.028892161964118|       14.0|\n",
      "|student5|    152.4| 36.28736|             1.524|15.623755691955827|       16.0|\n",
      "|student6|   157.48| 38.55532|            1.5748|15.546531093062187|       16.0|\n",
      "+--------+---------+---------+------------------+------------------+-----------+\n",
      "\n"
     ]
    }
   ],
   "source": [
    "from pyspark.sql.functions import col, round \n",
    "df = df.withColumn(\"bmi_rounded\", round(col('BMI')))\n",
    "df.show()"
   ]
  },
  {
   "cell_type": "code",
   "execution_count": 30,
   "metadata": {},
   "outputs": [],
   "source": [
    "df.write.mode(\"overwrite\").parquet(\"student_exercise.parquet\")"
   ]
  },
  {
   "cell_type": "code",
   "execution_count": 31,
   "metadata": {},
   "outputs": [],
   "source": [
    "spark1.stop()"
   ]
  }
 ],
 "metadata": {
  "kernelspec": {
   "display_name": "myvenv",
   "language": "python",
   "name": "python3"
  },
  "language_info": {
   "codemirror_mode": {
    "name": "ipython",
    "version": 3
   },
   "file_extension": ".py",
   "mimetype": "text/x-python",
   "name": "python",
   "nbconvert_exporter": "python",
   "pygments_lexer": "ipython3",
   "version": "3.11.9"
  }
 },
 "nbformat": 4,
 "nbformat_minor": 2
}
